{
 "cells": [
  {
   "cell_type": "markdown",
   "metadata": {},
   "source": [
    "# Statement"
   ]
  },
  {
   "cell_type": "markdown",
   "metadata": {},
   "source": [
    "The Sure Tomorrow insurance company wants to solve several tasks with the help of Machine Learning and you are asked to evaluate that possibility.\n",
    "\n",
    "- Task 1: Find customers who are similar to a given customer. This will help the company's agents with marketing.\n",
    "- Task 2: Predict whether a new customer is likely to receive an insurance benefit. Can a prediction model do better than a dummy model?\n",
    "- Task 3: Predict the number of insurance benefits a new customer is likely to receive using a linear regression model.\n",
    "- Task 4: Protect clients' personal data without breaking the model from the previous task. It's necessary to develop a data transformation algorithm that would make it hard to recover personal information if the data fell into the wrong hands. This is called data masking, or data obfuscation. But the data should be protected in such a way that the quality of machine learning models doesn't suffer. You don't need to pick the best model, just prove that the algorithm works correctly."
   ]
  },
  {
   "cell_type": "markdown",
   "metadata": {},
   "source": [
    "# Data Preprocessing & Exploration\n",
    "\n",
    "## Initialization"
   ]
  },
  {
   "cell_type": "code",
   "execution_count": 1,
   "metadata": {},
   "outputs": [],
   "source": [
    "import numpy as np\n",
    "import pandas as pd\n",
    "from matplotlib import pyplot as plt\n",
    "from scipy import stats as st\n",
    "import math\n",
    "\n",
    "import seaborn as sns\n",
    "\n",
    "import sklearn.linear_model\n",
    "import sklearn.metrics\n",
    "import sklearn.neighbors\n",
    "import sklearn.preprocessing\n",
    "\n",
    "from sklearn.model_selection import train_test_split\n",
    "\n",
    "from IPython.display import display"
   ]
  },
  {
   "cell_type": "markdown",
   "metadata": {},
   "source": [
    "## Load Data"
   ]
  },
  {
   "cell_type": "markdown",
   "metadata": {},
   "source": [
    "Load data and conduct a basic check that it's free from obvious issues."
   ]
  },
  {
   "cell_type": "code",
   "execution_count": 2,
   "metadata": {},
   "outputs": [],
   "source": [
    "df = pd.read_csv('/datasets/insurance_us.csv')"
   ]
  },
  {
   "cell_type": "markdown",
   "metadata": {},
   "source": [
    "We rename the colums to make the code look more consistent with its style."
   ]
  },
  {
   "cell_type": "code",
   "execution_count": 3,
   "metadata": {},
   "outputs": [],
   "source": [
    "df = df.rename(columns={'Gender': 'gender', 'Age': 'age', 'Salary': 'income', 'Family members': 'family_members', 'Insurance benefits': 'insurance_benefits'})"
   ]
  },
  {
   "cell_type": "code",
   "execution_count": 4,
   "metadata": {},
   "outputs": [
    {
     "data": {
      "text/html": [
       "<div>\n",
       "<style scoped>\n",
       "    .dataframe tbody tr th:only-of-type {\n",
       "        vertical-align: middle;\n",
       "    }\n",
       "\n",
       "    .dataframe tbody tr th {\n",
       "        vertical-align: top;\n",
       "    }\n",
       "\n",
       "    .dataframe thead th {\n",
       "        text-align: right;\n",
       "    }\n",
       "</style>\n",
       "<table border=\"1\" class=\"dataframe\">\n",
       "  <thead>\n",
       "    <tr style=\"text-align: right;\">\n",
       "      <th></th>\n",
       "      <th>gender</th>\n",
       "      <th>age</th>\n",
       "      <th>income</th>\n",
       "      <th>family_members</th>\n",
       "      <th>insurance_benefits</th>\n",
       "    </tr>\n",
       "  </thead>\n",
       "  <tbody>\n",
       "    <tr>\n",
       "      <th>2450</th>\n",
       "      <td>1</td>\n",
       "      <td>33.0</td>\n",
       "      <td>43700.0</td>\n",
       "      <td>2</td>\n",
       "      <td>0</td>\n",
       "    </tr>\n",
       "    <tr>\n",
       "      <th>4195</th>\n",
       "      <td>1</td>\n",
       "      <td>47.0</td>\n",
       "      <td>28000.0</td>\n",
       "      <td>2</td>\n",
       "      <td>1</td>\n",
       "    </tr>\n",
       "    <tr>\n",
       "      <th>2992</th>\n",
       "      <td>0</td>\n",
       "      <td>47.0</td>\n",
       "      <td>37900.0</td>\n",
       "      <td>0</td>\n",
       "      <td>1</td>\n",
       "    </tr>\n",
       "    <tr>\n",
       "      <th>2243</th>\n",
       "      <td>0</td>\n",
       "      <td>27.0</td>\n",
       "      <td>34200.0</td>\n",
       "      <td>2</td>\n",
       "      <td>0</td>\n",
       "    </tr>\n",
       "    <tr>\n",
       "      <th>792</th>\n",
       "      <td>1</td>\n",
       "      <td>38.0</td>\n",
       "      <td>38200.0</td>\n",
       "      <td>1</td>\n",
       "      <td>0</td>\n",
       "    </tr>\n",
       "    <tr>\n",
       "      <th>3037</th>\n",
       "      <td>1</td>\n",
       "      <td>44.0</td>\n",
       "      <td>49900.0</td>\n",
       "      <td>0</td>\n",
       "      <td>1</td>\n",
       "    </tr>\n",
       "    <tr>\n",
       "      <th>1407</th>\n",
       "      <td>1</td>\n",
       "      <td>26.0</td>\n",
       "      <td>43700.0</td>\n",
       "      <td>0</td>\n",
       "      <td>0</td>\n",
       "    </tr>\n",
       "    <tr>\n",
       "      <th>2891</th>\n",
       "      <td>0</td>\n",
       "      <td>45.0</td>\n",
       "      <td>51200.0</td>\n",
       "      <td>0</td>\n",
       "      <td>1</td>\n",
       "    </tr>\n",
       "    <tr>\n",
       "      <th>3398</th>\n",
       "      <td>1</td>\n",
       "      <td>28.0</td>\n",
       "      <td>67100.0</td>\n",
       "      <td>1</td>\n",
       "      <td>0</td>\n",
       "    </tr>\n",
       "    <tr>\n",
       "      <th>3127</th>\n",
       "      <td>0</td>\n",
       "      <td>47.0</td>\n",
       "      <td>49700.0</td>\n",
       "      <td>1</td>\n",
       "      <td>1</td>\n",
       "    </tr>\n",
       "  </tbody>\n",
       "</table>\n",
       "</div>"
      ],
      "text/plain": [
       "      gender   age   income  family_members  insurance_benefits\n",
       "2450       1  33.0  43700.0               2                   0\n",
       "4195       1  47.0  28000.0               2                   1\n",
       "2992       0  47.0  37900.0               0                   1\n",
       "2243       0  27.0  34200.0               2                   0\n",
       "792        1  38.0  38200.0               1                   0\n",
       "3037       1  44.0  49900.0               0                   1\n",
       "1407       1  26.0  43700.0               0                   0\n",
       "2891       0  45.0  51200.0               0                   1\n",
       "3398       1  28.0  67100.0               1                   0\n",
       "3127       0  47.0  49700.0               1                   1"
      ]
     },
     "execution_count": 4,
     "metadata": {},
     "output_type": "execute_result"
    }
   ],
   "source": [
    "df.sample(10)"
   ]
  },
  {
   "cell_type": "code",
   "execution_count": 5,
   "metadata": {},
   "outputs": [
    {
     "name": "stdout",
     "output_type": "stream",
     "text": [
      "<class 'pandas.core.frame.DataFrame'>\n",
      "RangeIndex: 5000 entries, 0 to 4999\n",
      "Data columns (total 5 columns):\n",
      " #   Column              Non-Null Count  Dtype  \n",
      "---  ------              --------------  -----  \n",
      " 0   gender              5000 non-null   int64  \n",
      " 1   age                 5000 non-null   float64\n",
      " 2   income              5000 non-null   float64\n",
      " 3   family_members      5000 non-null   int64  \n",
      " 4   insurance_benefits  5000 non-null   int64  \n",
      "dtypes: float64(2), int64(3)\n",
      "memory usage: 195.4 KB\n"
     ]
    }
   ],
   "source": [
    "df.info()"
   ]
  },
  {
   "cell_type": "code",
   "execution_count": 6,
   "metadata": {},
   "outputs": [],
   "source": [
    "# we may want to fix the age type (from float to int) though this is not critical\n",
    "\n",
    "# write your conversion here if you choose:\n",
    "\n",
    "if np.all(df['age'] == df['age'].astype(int)): df['age'] = df['age'].astype(int)"
   ]
  },
  {
   "cell_type": "code",
   "execution_count": 7,
   "metadata": {},
   "outputs": [
    {
     "name": "stdout",
     "output_type": "stream",
     "text": [
      "<class 'pandas.core.frame.DataFrame'>\n",
      "RangeIndex: 5000 entries, 0 to 4999\n",
      "Data columns (total 5 columns):\n",
      " #   Column              Non-Null Count  Dtype  \n",
      "---  ------              --------------  -----  \n",
      " 0   gender              5000 non-null   int64  \n",
      " 1   age                 5000 non-null   int64  \n",
      " 2   income              5000 non-null   float64\n",
      " 3   family_members      5000 non-null   int64  \n",
      " 4   insurance_benefits  5000 non-null   int64  \n",
      "dtypes: float64(1), int64(4)\n",
      "memory usage: 195.4 KB\n"
     ]
    }
   ],
   "source": [
    "# check to see that the conversion was successful\n",
    "\n",
    "df.info()"
   ]
  },
  {
   "cell_type": "code",
   "execution_count": 8,
   "metadata": {},
   "outputs": [
    {
     "data": {
      "text/plain": [
       "count    5000.000000\n",
       "mean        0.499000\n",
       "std         0.500049\n",
       "min         0.000000\n",
       "25%         0.000000\n",
       "50%         0.000000\n",
       "75%         1.000000\n",
       "max         1.000000\n",
       "Name: gender, dtype: float64"
      ]
     },
     "metadata": {},
     "output_type": "display_data"
    },
    {
     "data": {
      "text/plain": [
       "count    5000.000000\n",
       "mean       30.952800\n",
       "std         8.440807\n",
       "min        18.000000\n",
       "25%        24.000000\n",
       "50%        30.000000\n",
       "75%        37.000000\n",
       "max        65.000000\n",
       "Name: age, dtype: float64"
      ]
     },
     "metadata": {},
     "output_type": "display_data"
    },
    {
     "data": {
      "text/plain": [
       "count     5000.000000\n",
       "mean     39916.360000\n",
       "std       9900.083569\n",
       "min       5300.000000\n",
       "25%      33300.000000\n",
       "50%      40200.000000\n",
       "75%      46600.000000\n",
       "max      79000.000000\n",
       "Name: income, dtype: float64"
      ]
     },
     "metadata": {},
     "output_type": "display_data"
    },
    {
     "data": {
      "text/plain": [
       "count    5000.000000\n",
       "mean        1.194200\n",
       "std         1.091387\n",
       "min         0.000000\n",
       "25%         0.000000\n",
       "50%         1.000000\n",
       "75%         2.000000\n",
       "max         6.000000\n",
       "Name: family_members, dtype: float64"
      ]
     },
     "metadata": {},
     "output_type": "display_data"
    },
    {
     "data": {
      "text/plain": [
       "count    5000.000000\n",
       "mean        0.148000\n",
       "std         0.463183\n",
       "min         0.000000\n",
       "25%         0.000000\n",
       "50%         0.000000\n",
       "75%         0.000000\n",
       "max         5.000000\n",
       "Name: insurance_benefits, dtype: float64"
      ]
     },
     "metadata": {},
     "output_type": "display_data"
    }
   ],
   "source": [
    "# now have a look at the data's descriptive statistics. \n",
    "# Does everything look okay?\n",
    "\n",
    "for col in df:\n",
    "    display(df[col].describe())"
   ]
  },
  {
   "cell_type": "code",
   "execution_count": 9,
   "metadata": {},
   "outputs": [
    {
     "data": {
      "image/png": "[encoded data removed]",
      "text/plain": [
       "<Figure size 640x480 with 1 Axes>"
      ]
     },
     "metadata": {},
     "output_type": "display_data"
    },
    {
     "data": {
      "image/png": "[encoded data removed]",
      "text/plain": [
       "<Figure size 640x480 with 1 Axes>"
      ]
     },
     "metadata": {},
     "output_type": "display_data"
    },
    {
     "data": {
      "image/png": "[encoded data removed]",
      "text/plain": [
       "<Figure size 640x480 with 1 Axes>"
      ]
     },
     "metadata": {},
     "output_type": "display_data"
    },
    {
     "data": {
      "image/png": "[encoded data removed]",
      "text/plain": [
       "<Figure size 640x480 with 1 Axes>"
      ]
     },
     "metadata": {},
     "output_type": "display_data"
    },
    {
     "data": {
      "image/png": "[encoded data removed]",
      "text/plain": [
       "<Figure size 640x480 with 1 Axes>"
      ]
     },
     "metadata": {},
     "output_type": "display_data"
    }
   ],
   "source": [
    "# Create a function to examine column distributions and plot each column\n",
    "\n",
    "def histo(df, column):\n",
    "    unique_values = np.sort(df[column].unique())\n",
    "    if (len(unique_values) < 100): \n",
    "        bins = np.append(unique_values, unique_values[-1] + 1) \n",
    "    else: \n",
    "        bins = 100\n",
    "\n",
    "    plt.hist(df[column], bins=bins)\n",
    "    plt.xlabel(column)\n",
    "    plt.ylabel('Number of Observations')\n",
    "    plt.title(f'Histogram for {column}')\n",
    "    plt.show()\n",
    "    \n",
    "for col in df:\n",
    "    histo(df, col)"
   ]
  },
  {
   "cell_type": "code",
   "execution_count": 10,
   "metadata": {
    "scrolled": false
   },
   "outputs": [
    {
     "data": {
      "text/plain": [
       "0    4436\n",
       "1     423\n",
       "2     115\n",
       "3      18\n",
       "4       7\n",
       "5       1\n",
       "Name: insurance_benefits, dtype: int64"
      ]
     },
     "execution_count": 10,
     "metadata": {},
     "output_type": "execute_result"
    }
   ],
   "source": [
    "# Examine values with large frequencies\n",
    "\n",
    "df['insurance_benefits'].value_counts().sort_index()"
   ]
  },
  {
   "cell_type": "markdown",
   "metadata": {},
   "source": [
    "The data look good overall with no obvious distributional issues. The gender column is almost perfectly split between classes and the income column is approximately normal. The age and family_members columns are skewed right but not egregiously so. The only thing that stands out is the preponderance of zeros in the insurance_benefits column, representing nearly 89% of the sample."
   ]
  },
  {
   "cell_type": "markdown",
   "metadata": {},
   "source": [
    "## EDA"
   ]
  },
  {
   "cell_type": "markdown",
   "metadata": {},
   "source": [
    "Let's quickly check whether there are certain groups of customers by looking at the pair plot."
   ]
  },
  {
   "cell_type": "code",
   "execution_count": 11,
   "metadata": {},
   "outputs": [
    {
     "data": {
      "image/png": "[encoded data removed]",
      "text/plain": [
       "<Figure size 1200x1200 with 30 Axes>"
      ]
     },
     "metadata": {},
     "output_type": "display_data"
    }
   ],
   "source": [
    "g = sns.pairplot(df, kind='hist')\n",
    "g.fig.set_size_inches(12, 12)"
   ]
  },
  {
   "cell_type": "markdown",
   "metadata": {},
   "source": [
    "Ok, it is a bit difficult to spot obvious groups (clusters) as it is difficult to combine several variables simultaneously (to analyze multivariate distributions). That's where LA and ML can be quite handy."
   ]
  },
  {
   "cell_type": "markdown",
   "metadata": {},
   "source": [
    "# Task 1. Similar Customers"
   ]
  },
  {
   "cell_type": "markdown",
   "metadata": {},
   "source": [
    "In the language of ML, it is necessary to develop a procedure that returns k nearest neighbors (objects) for a given object based on the distance between the objects.\n",
    "\n",
    "You may want to review the following lessons (chapter -> lesson)\n",
    "- Distance Between Vectors -> Euclidean Distance\n",
    "- Distance Between Vectors -> Manhattan Distance\n",
    "\n",
    "To solve the task, we can try different distance metrics."
   ]
  },
  {
   "cell_type": "markdown",
   "metadata": {},
   "source": [
    "Write a function that returns k nearest neighbors for an $n^{th}$ object based on a specified distance metric. The number of received insurance benefits should not be taken into account for this task. \n",
    "\n",
    "You can use a ready implementation of the kNN algorithm from scikit-learn (check [the link](https://scikit-learn.org/stable/modules/generated/sklearn.neighbors.NearestNeighbors.html#sklearn.neighbors.NearestNeighbors)) or use your own.\n",
    "\n",
    "Test it for four combination of two cases\n",
    "- Scaling\n",
    "  - the data is not scaled\n",
    "  - the data is scaled with the [MaxAbsScaler](https://scikit-learn.org/stable/modules/generated/sklearn.preprocessing.MaxAbsScaler.html) scaler\n",
    "- Distance Metrics\n",
    "  - Euclidean\n",
    "  - Manhattan\n",
    "\n",
    "Answer these questions:\n",
    "- Does the data being not scaled affect the kNN algorithm? If so, how does that appear?\n",
    "- How similar are the results using the Manhattan distance metric (regardless of the scaling)?"
   ]
  },
  {
   "cell_type": "code",
   "execution_count": 12,
   "metadata": {},
   "outputs": [],
   "source": [
    "feature_names = ['gender', 'age', 'income', 'family_members']"
   ]
  },
  {
   "cell_type": "code",
   "execution_count": 13,
   "metadata": {},
   "outputs": [],
   "source": [
    "def get_knn(df, n, k, metric):\n",
    "    \n",
    "    \"\"\"\n",
    "    Returns k nearest neighbors\n",
    "\n",
    "    :param df: pandas DataFrame used to find similar objects within\n",
    "    :param n: object no for which the nearest neighbours are looked for\n",
    "    :param k: the number of the nearest neighbours to return\n",
    "    :param metric: name of distance metric\n",
    "    \"\"\"\n",
    "\n",
    "    nbrs = sklearn.neighbors.NearestNeighbors(n_neighbors=k, metric=metric)\n",
    "    nbrs.fit(df[feature_names])\n",
    "    nbrs_distances, nbrs_indices = nbrs.kneighbors([df.iloc[n][feature_names]], k, return_distance=True)\n",
    "    \n",
    "    df_res = pd.concat([\n",
    "        df.iloc[nbrs_indices[0]], \n",
    "        pd.DataFrame(nbrs_distances.T, index=nbrs_indices[0], columns=['distance'])\n",
    "        ], axis=1)\n",
    "    \n",
    "    return df_res"
   ]
  },
  {
   "cell_type": "markdown",
   "metadata": {},
   "source": [
    "Scaling the data."
   ]
  },
  {
   "cell_type": "code",
   "execution_count": 14,
   "metadata": {},
   "outputs": [],
   "source": [
    "feature_names = ['gender', 'age', 'income', 'family_members']\n",
    "\n",
    "transformer_mas = sklearn.preprocessing.MaxAbsScaler().fit(df[feature_names].to_numpy())\n",
    "\n",
    "df_scaled = df.copy()\n",
    "df_scaled.loc[:, feature_names] = transformer_mas.transform(df[feature_names].to_numpy())"
   ]
  },
  {
   "cell_type": "code",
   "execution_count": 15,
   "metadata": {
    "scrolled": true
   },
   "outputs": [
    {
     "data": {
      "text/html": [
       "<div>\n",
       "<style scoped>\n",
       "    .dataframe tbody tr th:only-of-type {\n",
       "        vertical-align: middle;\n",
       "    }\n",
       "\n",
       "    .dataframe tbody tr th {\n",
       "        vertical-align: top;\n",
       "    }\n",
       "\n",
       "    .dataframe thead th {\n",
       "        text-align: right;\n",
       "    }\n",
       "</style>\n",
       "<table border=\"1\" class=\"dataframe\">\n",
       "  <thead>\n",
       "    <tr style=\"text-align: right;\">\n",
       "      <th></th>\n",
       "      <th>gender</th>\n",
       "      <th>age</th>\n",
       "      <th>income</th>\n",
       "      <th>family_members</th>\n",
       "      <th>insurance_benefits</th>\n",
       "    </tr>\n",
       "  </thead>\n",
       "  <tbody>\n",
       "    <tr>\n",
       "      <th>4432</th>\n",
       "      <td>0.0</td>\n",
       "      <td>0.769231</td>\n",
       "      <td>0.493671</td>\n",
       "      <td>0.166667</td>\n",
       "      <td>2</td>\n",
       "    </tr>\n",
       "    <tr>\n",
       "      <th>2153</th>\n",
       "      <td>0.0</td>\n",
       "      <td>0.538462</td>\n",
       "      <td>0.497468</td>\n",
       "      <td>0.166667</td>\n",
       "      <td>0</td>\n",
       "    </tr>\n",
       "    <tr>\n",
       "      <th>573</th>\n",
       "      <td>1.0</td>\n",
       "      <td>0.692308</td>\n",
       "      <td>0.344304</td>\n",
       "      <td>0.166667</td>\n",
       "      <td>1</td>\n",
       "    </tr>\n",
       "    <tr>\n",
       "      <th>3688</th>\n",
       "      <td>1.0</td>\n",
       "      <td>0.600000</td>\n",
       "      <td>0.478481</td>\n",
       "      <td>0.166667</td>\n",
       "      <td>0</td>\n",
       "    </tr>\n",
       "    <tr>\n",
       "      <th>2343</th>\n",
       "      <td>1.0</td>\n",
       "      <td>0.723077</td>\n",
       "      <td>0.640506</td>\n",
       "      <td>0.166667</td>\n",
       "      <td>1</td>\n",
       "    </tr>\n",
       "  </tbody>\n",
       "</table>\n",
       "</div>"
      ],
      "text/plain": [
       "      gender       age    income  family_members  insurance_benefits\n",
       "4432     0.0  0.769231  0.493671        0.166667                   2\n",
       "2153     0.0  0.538462  0.497468        0.166667                   0\n",
       "573      1.0  0.692308  0.344304        0.166667                   1\n",
       "3688     1.0  0.600000  0.478481        0.166667                   0\n",
       "2343     1.0  0.723077  0.640506        0.166667                   1"
      ]
     },
     "execution_count": 15,
     "metadata": {},
     "output_type": "execute_result"
    }
   ],
   "source": [
    "df_scaled.sample(5)"
   ]
  },
  {
   "cell_type": "markdown",
   "metadata": {},
   "source": [
    "Now, let's get similar records for a given one for every combination"
   ]
  },
  {
   "cell_type": "code",
   "execution_count": 16,
   "metadata": {},
   "outputs": [
    {
     "name": "stdout",
     "output_type": "stream",
     "text": [
      "output for k = 5, n = 5, metric = euclidean, and unscaled data:\n"
     ]
    },
    {
     "data": {
      "text/html": [
       "<div>\n",
       "<style scoped>\n",
       "    .dataframe tbody tr th:only-of-type {\n",
       "        vertical-align: middle;\n",
       "    }\n",
       "\n",
       "    .dataframe tbody tr th {\n",
       "        vertical-align: top;\n",
       "    }\n",
       "\n",
       "    .dataframe thead th {\n",
       "        text-align: right;\n",
       "    }\n",
       "</style>\n",
       "<table border=\"1\" class=\"dataframe\">\n",
       "  <thead>\n",
       "    <tr style=\"text-align: right;\">\n",
       "      <th></th>\n",
       "      <th>gender</th>\n",
       "      <th>age</th>\n",
       "      <th>income</th>\n",
       "      <th>family_members</th>\n",
       "      <th>insurance_benefits</th>\n",
       "      <th>distance</th>\n",
       "    </tr>\n",
       "  </thead>\n",
       "  <tbody>\n",
       "    <tr>\n",
       "      <th>5</th>\n",
       "      <td>1</td>\n",
       "      <td>43</td>\n",
       "      <td>41000.0</td>\n",
       "      <td>2</td>\n",
       "      <td>1</td>\n",
       "      <td>0.000000</td>\n",
       "    </tr>\n",
       "    <tr>\n",
       "      <th>1995</th>\n",
       "      <td>0</td>\n",
       "      <td>45</td>\n",
       "      <td>41000.0</td>\n",
       "      <td>0</td>\n",
       "      <td>1</td>\n",
       "      <td>3.000000</td>\n",
       "    </tr>\n",
       "    <tr>\n",
       "      <th>3972</th>\n",
       "      <td>1</td>\n",
       "      <td>40</td>\n",
       "      <td>41000.0</td>\n",
       "      <td>1</td>\n",
       "      <td>0</td>\n",
       "      <td>3.162278</td>\n",
       "    </tr>\n",
       "    <tr>\n",
       "      <th>3801</th>\n",
       "      <td>0</td>\n",
       "      <td>46</td>\n",
       "      <td>41000.0</td>\n",
       "      <td>2</td>\n",
       "      <td>1</td>\n",
       "      <td>3.162278</td>\n",
       "    </tr>\n",
       "    <tr>\n",
       "      <th>4763</th>\n",
       "      <td>1</td>\n",
       "      <td>46</td>\n",
       "      <td>41000.0</td>\n",
       "      <td>1</td>\n",
       "      <td>1</td>\n",
       "      <td>3.162278</td>\n",
       "    </tr>\n",
       "  </tbody>\n",
       "</table>\n",
       "</div>"
      ],
      "text/plain": [
       "      gender  age   income  family_members  insurance_benefits  distance\n",
       "5          1   43  41000.0               2                   1  0.000000\n",
       "1995       0   45  41000.0               0                   1  3.000000\n",
       "3972       1   40  41000.0               1                   0  3.162278\n",
       "3801       0   46  41000.0               2                   1  3.162278\n",
       "4763       1   46  41000.0               1                   1  3.162278"
      ]
     },
     "metadata": {},
     "output_type": "display_data"
    },
    {
     "name": "stdout",
     "output_type": "stream",
     "text": [
      "\n",
      "output for k = 5, n = 5, metric = manhattan, and unscaled data:\n"
     ]
    },
    {
     "data": {
      "text/html": [
       "<div>\n",
       "<style scoped>\n",
       "    .dataframe tbody tr th:only-of-type {\n",
       "        vertical-align: middle;\n",
       "    }\n",
       "\n",
       "    .dataframe tbody tr th {\n",
       "        vertical-align: top;\n",
       "    }\n",
       "\n",
       "    .dataframe thead th {\n",
       "        text-align: right;\n",
       "    }\n",
       "</style>\n",
       "<table border=\"1\" class=\"dataframe\">\n",
       "  <thead>\n",
       "    <tr style=\"text-align: right;\">\n",
       "      <th></th>\n",
       "      <th>gender</th>\n",
       "      <th>age</th>\n",
       "      <th>income</th>\n",
       "      <th>family_members</th>\n",
       "      <th>insurance_benefits</th>\n",
       "      <th>distance</th>\n",
       "    </tr>\n",
       "  </thead>\n",
       "  <tbody>\n",
       "    <tr>\n",
       "      <th>5</th>\n",
       "      <td>1</td>\n",
       "      <td>43</td>\n",
       "      <td>41000.0</td>\n",
       "      <td>2</td>\n",
       "      <td>1</td>\n",
       "      <td>0.0</td>\n",
       "    </tr>\n",
       "    <tr>\n",
       "      <th>3972</th>\n",
       "      <td>1</td>\n",
       "      <td>40</td>\n",
       "      <td>41000.0</td>\n",
       "      <td>1</td>\n",
       "      <td>0</td>\n",
       "      <td>4.0</td>\n",
       "    </tr>\n",
       "    <tr>\n",
       "      <th>4763</th>\n",
       "      <td>1</td>\n",
       "      <td>46</td>\n",
       "      <td>41000.0</td>\n",
       "      <td>1</td>\n",
       "      <td>1</td>\n",
       "      <td>4.0</td>\n",
       "    </tr>\n",
       "    <tr>\n",
       "      <th>3801</th>\n",
       "      <td>0</td>\n",
       "      <td>46</td>\n",
       "      <td>41000.0</td>\n",
       "      <td>2</td>\n",
       "      <td>1</td>\n",
       "      <td>4.0</td>\n",
       "    </tr>\n",
       "    <tr>\n",
       "      <th>1995</th>\n",
       "      <td>0</td>\n",
       "      <td>45</td>\n",
       "      <td>41000.0</td>\n",
       "      <td>0</td>\n",
       "      <td>1</td>\n",
       "      <td>5.0</td>\n",
       "    </tr>\n",
       "  </tbody>\n",
       "</table>\n",
       "</div>"
      ],
      "text/plain": [
       "      gender  age   income  family_members  insurance_benefits  distance\n",
       "5          1   43  41000.0               2                   1       0.0\n",
       "3972       1   40  41000.0               1                   0       4.0\n",
       "4763       1   46  41000.0               1                   1       4.0\n",
       "3801       0   46  41000.0               2                   1       4.0\n",
       "1995       0   45  41000.0               0                   1       5.0"
      ]
     },
     "metadata": {},
     "output_type": "display_data"
    },
    {
     "name": "stdout",
     "output_type": "stream",
     "text": [
      "\n",
      "output for k = 5, n = 5, metric = euclidean, and scaled data:\n"
     ]
    },
    {
     "data": {
      "text/html": [
       "<div>\n",
       "<style scoped>\n",
       "    .dataframe tbody tr th:only-of-type {\n",
       "        vertical-align: middle;\n",
       "    }\n",
       "\n",
       "    .dataframe tbody tr th {\n",
       "        vertical-align: top;\n",
       "    }\n",
       "\n",
       "    .dataframe thead th {\n",
       "        text-align: right;\n",
       "    }\n",
       "</style>\n",
       "<table border=\"1\" class=\"dataframe\">\n",
       "  <thead>\n",
       "    <tr style=\"text-align: right;\">\n",
       "      <th></th>\n",
       "      <th>gender</th>\n",
       "      <th>age</th>\n",
       "      <th>income</th>\n",
       "      <th>family_members</th>\n",
       "      <th>insurance_benefits</th>\n",
       "      <th>distance</th>\n",
       "    </tr>\n",
       "  </thead>\n",
       "  <tbody>\n",
       "    <tr>\n",
       "      <th>5</th>\n",
       "      <td>1.0</td>\n",
       "      <td>0.661538</td>\n",
       "      <td>0.518987</td>\n",
       "      <td>0.333333</td>\n",
       "      <td>1</td>\n",
       "      <td>0.000000</td>\n",
       "    </tr>\n",
       "    <tr>\n",
       "      <th>1147</th>\n",
       "      <td>1.0</td>\n",
       "      <td>0.646154</td>\n",
       "      <td>0.516456</td>\n",
       "      <td>0.333333</td>\n",
       "      <td>0</td>\n",
       "      <td>0.015592</td>\n",
       "    </tr>\n",
       "    <tr>\n",
       "      <th>4074</th>\n",
       "      <td>1.0</td>\n",
       "      <td>0.661538</td>\n",
       "      <td>0.501266</td>\n",
       "      <td>0.333333</td>\n",
       "      <td>1</td>\n",
       "      <td>0.017722</td>\n",
       "    </tr>\n",
       "    <tr>\n",
       "      <th>1019</th>\n",
       "      <td>1.0</td>\n",
       "      <td>0.646154</td>\n",
       "      <td>0.501266</td>\n",
       "      <td>0.333333</td>\n",
       "      <td>0</td>\n",
       "      <td>0.023468</td>\n",
       "    </tr>\n",
       "    <tr>\n",
       "      <th>2962</th>\n",
       "      <td>1.0</td>\n",
       "      <td>0.630769</td>\n",
       "      <td>0.520253</td>\n",
       "      <td>0.333333</td>\n",
       "      <td>0</td>\n",
       "      <td>0.030795</td>\n",
       "    </tr>\n",
       "  </tbody>\n",
       "</table>\n",
       "</div>"
      ],
      "text/plain": [
       "      gender       age    income  family_members  insurance_benefits  distance\n",
       "5        1.0  0.661538  0.518987        0.333333                   1  0.000000\n",
       "1147     1.0  0.646154  0.516456        0.333333                   0  0.015592\n",
       "4074     1.0  0.661538  0.501266        0.333333                   1  0.017722\n",
       "1019     1.0  0.646154  0.501266        0.333333                   0  0.023468\n",
       "2962     1.0  0.630769  0.520253        0.333333                   0  0.030795"
      ]
     },
     "metadata": {},
     "output_type": "display_data"
    },
    {
     "name": "stdout",
     "output_type": "stream",
     "text": [
      "\n",
      "output for k = 5, n = 5, metric = manhattan, and scaled data:\n"
     ]
    },
    {
     "data": {
      "text/html": [
       "<div>\n",
       "<style scoped>\n",
       "    .dataframe tbody tr th:only-of-type {\n",
       "        vertical-align: middle;\n",
       "    }\n",
       "\n",
       "    .dataframe tbody tr th {\n",
       "        vertical-align: top;\n",
       "    }\n",
       "\n",
       "    .dataframe thead th {\n",
       "        text-align: right;\n",
       "    }\n",
       "</style>\n",
       "<table border=\"1\" class=\"dataframe\">\n",
       "  <thead>\n",
       "    <tr style=\"text-align: right;\">\n",
       "      <th></th>\n",
       "      <th>gender</th>\n",
       "      <th>age</th>\n",
       "      <th>income</th>\n",
       "      <th>family_members</th>\n",
       "      <th>insurance_benefits</th>\n",
       "      <th>distance</th>\n",
       "    </tr>\n",
       "  </thead>\n",
       "  <tbody>\n",
       "    <tr>\n",
       "      <th>5</th>\n",
       "      <td>1.0</td>\n",
       "      <td>0.661538</td>\n",
       "      <td>0.518987</td>\n",
       "      <td>0.333333</td>\n",
       "      <td>1</td>\n",
       "      <td>0.000000</td>\n",
       "    </tr>\n",
       "    <tr>\n",
       "      <th>4074</th>\n",
       "      <td>1.0</td>\n",
       "      <td>0.661538</td>\n",
       "      <td>0.501266</td>\n",
       "      <td>0.333333</td>\n",
       "      <td>1</td>\n",
       "      <td>0.017722</td>\n",
       "    </tr>\n",
       "    <tr>\n",
       "      <th>1147</th>\n",
       "      <td>1.0</td>\n",
       "      <td>0.646154</td>\n",
       "      <td>0.516456</td>\n",
       "      <td>0.333333</td>\n",
       "      <td>0</td>\n",
       "      <td>0.017916</td>\n",
       "    </tr>\n",
       "    <tr>\n",
       "      <th>2962</th>\n",
       "      <td>1.0</td>\n",
       "      <td>0.630769</td>\n",
       "      <td>0.520253</td>\n",
       "      <td>0.333333</td>\n",
       "      <td>0</td>\n",
       "      <td>0.032035</td>\n",
       "    </tr>\n",
       "    <tr>\n",
       "      <th>1019</th>\n",
       "      <td>1.0</td>\n",
       "      <td>0.646154</td>\n",
       "      <td>0.501266</td>\n",
       "      <td>0.333333</td>\n",
       "      <td>0</td>\n",
       "      <td>0.033106</td>\n",
       "    </tr>\n",
       "  </tbody>\n",
       "</table>\n",
       "</div>"
      ],
      "text/plain": [
       "      gender       age    income  family_members  insurance_benefits  distance\n",
       "5        1.0  0.661538  0.518987        0.333333                   1  0.000000\n",
       "4074     1.0  0.661538  0.501266        0.333333                   1  0.017722\n",
       "1147     1.0  0.646154  0.516456        0.333333                   0  0.017916\n",
       "2962     1.0  0.630769  0.520253        0.333333                   0  0.032035\n",
       "1019     1.0  0.646154  0.501266        0.333333                   0  0.033106"
      ]
     },
     "metadata": {},
     "output_type": "display_data"
    }
   ],
   "source": [
    "# Examine nearest neighbor examples for every combination of scaled and unscaled data and Euclidean and Manhattan distance\n",
    "# I arbitrarily chose k = 5 and n = 5\n",
    "\n",
    "print('output for k = 5, n = 5, metric = euclidean, and unscaled data:')\n",
    "display(get_knn(df, 5, 5, 'euclidean'))\n",
    "print()\n",
    "print('output for k = 5, n = 5, metric = manhattan, and unscaled data:')\n",
    "display(get_knn(df, 5, 5, 'manhattan'))\n",
    "print()\n",
    "print('output for k = 5, n = 5, metric = euclidean, and scaled data:')\n",
    "display(get_knn(df_scaled, 5, 5, 'euclidean'))\n",
    "print()\n",
    "print('output for k = 5, n = 5, metric = manhattan, and scaled data:')\n",
    "display(get_knn(df_scaled, 5, 5, 'manhattan'))"
   ]
  },
  {
   "cell_type": "code",
   "execution_count": 17,
   "metadata": {},
   "outputs": [
    {
     "name": "stdout",
     "output_type": "stream",
     "text": [
      "output for k = 5, n = 1432, metric = euclidean, and unscaled data:\n"
     ]
    },
    {
     "data": {
      "text/html": [
       "<div>\n",
       "<style scoped>\n",
       "    .dataframe tbody tr th:only-of-type {\n",
       "        vertical-align: middle;\n",
       "    }\n",
       "\n",
       "    .dataframe tbody tr th {\n",
       "        vertical-align: top;\n",
       "    }\n",
       "\n",
       "    .dataframe thead th {\n",
       "        text-align: right;\n",
       "    }\n",
       "</style>\n",
       "<table border=\"1\" class=\"dataframe\">\n",
       "  <thead>\n",
       "    <tr style=\"text-align: right;\">\n",
       "      <th></th>\n",
       "      <th>gender</th>\n",
       "      <th>age</th>\n",
       "      <th>income</th>\n",
       "      <th>family_members</th>\n",
       "      <th>insurance_benefits</th>\n",
       "      <th>distance</th>\n",
       "    </tr>\n",
       "  </thead>\n",
       "  <tbody>\n",
       "    <tr>\n",
       "      <th>1432</th>\n",
       "      <td>1</td>\n",
       "      <td>21</td>\n",
       "      <td>41300.0</td>\n",
       "      <td>1</td>\n",
       "      <td>0</td>\n",
       "      <td>0.000000</td>\n",
       "    </tr>\n",
       "    <tr>\n",
       "      <th>2735</th>\n",
       "      <td>1</td>\n",
       "      <td>22</td>\n",
       "      <td>41300.0</td>\n",
       "      <td>1</td>\n",
       "      <td>0</td>\n",
       "      <td>1.000000</td>\n",
       "    </tr>\n",
       "    <tr>\n",
       "      <th>2114</th>\n",
       "      <td>1</td>\n",
       "      <td>21</td>\n",
       "      <td>41300.0</td>\n",
       "      <td>0</td>\n",
       "      <td>0</td>\n",
       "      <td>1.000000</td>\n",
       "    </tr>\n",
       "    <tr>\n",
       "      <th>4381</th>\n",
       "      <td>1</td>\n",
       "      <td>20</td>\n",
       "      <td>41300.0</td>\n",
       "      <td>2</td>\n",
       "      <td>0</td>\n",
       "      <td>1.414214</td>\n",
       "    </tr>\n",
       "    <tr>\n",
       "      <th>4922</th>\n",
       "      <td>1</td>\n",
       "      <td>23</td>\n",
       "      <td>41300.0</td>\n",
       "      <td>2</td>\n",
       "      <td>0</td>\n",
       "      <td>2.236068</td>\n",
       "    </tr>\n",
       "  </tbody>\n",
       "</table>\n",
       "</div>"
      ],
      "text/plain": [
       "      gender  age   income  family_members  insurance_benefits  distance\n",
       "1432       1   21  41300.0               1                   0  0.000000\n",
       "2735       1   22  41300.0               1                   0  1.000000\n",
       "2114       1   21  41300.0               0                   0  1.000000\n",
       "4381       1   20  41300.0               2                   0  1.414214\n",
       "4922       1   23  41300.0               2                   0  2.236068"
      ]
     },
     "metadata": {},
     "output_type": "display_data"
    },
    {
     "name": "stdout",
     "output_type": "stream",
     "text": [
      "\n",
      "output for k = 5, n = 1432, metric = manhattan, and unscaled data:\n"
     ]
    },
    {
     "data": {
      "text/html": [
       "<div>\n",
       "<style scoped>\n",
       "    .dataframe tbody tr th:only-of-type {\n",
       "        vertical-align: middle;\n",
       "    }\n",
       "\n",
       "    .dataframe tbody tr th {\n",
       "        vertical-align: top;\n",
       "    }\n",
       "\n",
       "    .dataframe thead th {\n",
       "        text-align: right;\n",
       "    }\n",
       "</style>\n",
       "<table border=\"1\" class=\"dataframe\">\n",
       "  <thead>\n",
       "    <tr style=\"text-align: right;\">\n",
       "      <th></th>\n",
       "      <th>gender</th>\n",
       "      <th>age</th>\n",
       "      <th>income</th>\n",
       "      <th>family_members</th>\n",
       "      <th>insurance_benefits</th>\n",
       "      <th>distance</th>\n",
       "    </tr>\n",
       "  </thead>\n",
       "  <tbody>\n",
       "    <tr>\n",
       "      <th>1432</th>\n",
       "      <td>1</td>\n",
       "      <td>21</td>\n",
       "      <td>41300.0</td>\n",
       "      <td>1</td>\n",
       "      <td>0</td>\n",
       "      <td>0.0</td>\n",
       "    </tr>\n",
       "    <tr>\n",
       "      <th>2735</th>\n",
       "      <td>1</td>\n",
       "      <td>22</td>\n",
       "      <td>41300.0</td>\n",
       "      <td>1</td>\n",
       "      <td>0</td>\n",
       "      <td>1.0</td>\n",
       "    </tr>\n",
       "    <tr>\n",
       "      <th>2114</th>\n",
       "      <td>1</td>\n",
       "      <td>21</td>\n",
       "      <td>41300.0</td>\n",
       "      <td>0</td>\n",
       "      <td>0</td>\n",
       "      <td>1.0</td>\n",
       "    </tr>\n",
       "    <tr>\n",
       "      <th>4381</th>\n",
       "      <td>1</td>\n",
       "      <td>20</td>\n",
       "      <td>41300.0</td>\n",
       "      <td>2</td>\n",
       "      <td>0</td>\n",
       "      <td>2.0</td>\n",
       "    </tr>\n",
       "    <tr>\n",
       "      <th>2788</th>\n",
       "      <td>1</td>\n",
       "      <td>24</td>\n",
       "      <td>41300.0</td>\n",
       "      <td>1</td>\n",
       "      <td>0</td>\n",
       "      <td>3.0</td>\n",
       "    </tr>\n",
       "  </tbody>\n",
       "</table>\n",
       "</div>"
      ],
      "text/plain": [
       "      gender  age   income  family_members  insurance_benefits  distance\n",
       "1432       1   21  41300.0               1                   0       0.0\n",
       "2735       1   22  41300.0               1                   0       1.0\n",
       "2114       1   21  41300.0               0                   0       1.0\n",
       "4381       1   20  41300.0               2                   0       2.0\n",
       "2788       1   24  41300.0               1                   0       3.0"
      ]
     },
     "metadata": {},
     "output_type": "display_data"
    },
    {
     "name": "stdout",
     "output_type": "stream",
     "text": [
      "\n",
      "output for k = 5, n = 1432, metric = euclidean, and scaled data:\n"
     ]
    },
    {
     "data": {
      "text/html": [
       "<div>\n",
       "<style scoped>\n",
       "    .dataframe tbody tr th:only-of-type {\n",
       "        vertical-align: middle;\n",
       "    }\n",
       "\n",
       "    .dataframe tbody tr th {\n",
       "        vertical-align: top;\n",
       "    }\n",
       "\n",
       "    .dataframe thead th {\n",
       "        text-align: right;\n",
       "    }\n",
       "</style>\n",
       "<table border=\"1\" class=\"dataframe\">\n",
       "  <thead>\n",
       "    <tr style=\"text-align: right;\">\n",
       "      <th></th>\n",
       "      <th>gender</th>\n",
       "      <th>age</th>\n",
       "      <th>income</th>\n",
       "      <th>family_members</th>\n",
       "      <th>insurance_benefits</th>\n",
       "      <th>distance</th>\n",
       "    </tr>\n",
       "  </thead>\n",
       "  <tbody>\n",
       "    <tr>\n",
       "      <th>1432</th>\n",
       "      <td>1.0</td>\n",
       "      <td>0.323077</td>\n",
       "      <td>0.522785</td>\n",
       "      <td>0.166667</td>\n",
       "      <td>0</td>\n",
       "      <td>0.000000</td>\n",
       "    </tr>\n",
       "    <tr>\n",
       "      <th>639</th>\n",
       "      <td>1.0</td>\n",
       "      <td>0.323077</td>\n",
       "      <td>0.516456</td>\n",
       "      <td>0.166667</td>\n",
       "      <td>0</td>\n",
       "      <td>0.006329</td>\n",
       "    </tr>\n",
       "    <tr>\n",
       "      <th>1217</th>\n",
       "      <td>1.0</td>\n",
       "      <td>0.323077</td>\n",
       "      <td>0.529114</td>\n",
       "      <td>0.166667</td>\n",
       "      <td>0</td>\n",
       "      <td>0.006329</td>\n",
       "    </tr>\n",
       "    <tr>\n",
       "      <th>2120</th>\n",
       "      <td>1.0</td>\n",
       "      <td>0.323077</td>\n",
       "      <td>0.508861</td>\n",
       "      <td>0.166667</td>\n",
       "      <td>0</td>\n",
       "      <td>0.013924</td>\n",
       "    </tr>\n",
       "    <tr>\n",
       "      <th>4956</th>\n",
       "      <td>1.0</td>\n",
       "      <td>0.323077</td>\n",
       "      <td>0.507595</td>\n",
       "      <td>0.166667</td>\n",
       "      <td>0</td>\n",
       "      <td>0.015190</td>\n",
       "    </tr>\n",
       "  </tbody>\n",
       "</table>\n",
       "</div>"
      ],
      "text/plain": [
       "      gender       age    income  family_members  insurance_benefits  distance\n",
       "1432     1.0  0.323077  0.522785        0.166667                   0  0.000000\n",
       "639      1.0  0.323077  0.516456        0.166667                   0  0.006329\n",
       "1217     1.0  0.323077  0.529114        0.166667                   0  0.006329\n",
       "2120     1.0  0.323077  0.508861        0.166667                   0  0.013924\n",
       "4956     1.0  0.323077  0.507595        0.166667                   0  0.015190"
      ]
     },
     "metadata": {},
     "output_type": "display_data"
    },
    {
     "name": "stdout",
     "output_type": "stream",
     "text": [
      "\n",
      "output for k = 5, n = 1432, metric = manhattan, and scaled data:\n"
     ]
    },
    {
     "data": {
      "text/html": [
       "<div>\n",
       "<style scoped>\n",
       "    .dataframe tbody tr th:only-of-type {\n",
       "        vertical-align: middle;\n",
       "    }\n",
       "\n",
       "    .dataframe tbody tr th {\n",
       "        vertical-align: top;\n",
       "    }\n",
       "\n",
       "    .dataframe thead th {\n",
       "        text-align: right;\n",
       "    }\n",
       "</style>\n",
       "<table border=\"1\" class=\"dataframe\">\n",
       "  <thead>\n",
       "    <tr style=\"text-align: right;\">\n",
       "      <th></th>\n",
       "      <th>gender</th>\n",
       "      <th>age</th>\n",
       "      <th>income</th>\n",
       "      <th>family_members</th>\n",
       "      <th>insurance_benefits</th>\n",
       "      <th>distance</th>\n",
       "    </tr>\n",
       "  </thead>\n",
       "  <tbody>\n",
       "    <tr>\n",
       "      <th>1432</th>\n",
       "      <td>1.0</td>\n",
       "      <td>0.323077</td>\n",
       "      <td>0.522785</td>\n",
       "      <td>0.166667</td>\n",
       "      <td>0</td>\n",
       "      <td>0.000000</td>\n",
       "    </tr>\n",
       "    <tr>\n",
       "      <th>639</th>\n",
       "      <td>1.0</td>\n",
       "      <td>0.323077</td>\n",
       "      <td>0.516456</td>\n",
       "      <td>0.166667</td>\n",
       "      <td>0</td>\n",
       "      <td>0.006329</td>\n",
       "    </tr>\n",
       "    <tr>\n",
       "      <th>1217</th>\n",
       "      <td>1.0</td>\n",
       "      <td>0.323077</td>\n",
       "      <td>0.529114</td>\n",
       "      <td>0.166667</td>\n",
       "      <td>0</td>\n",
       "      <td>0.006329</td>\n",
       "    </tr>\n",
       "    <tr>\n",
       "      <th>2120</th>\n",
       "      <td>1.0</td>\n",
       "      <td>0.323077</td>\n",
       "      <td>0.508861</td>\n",
       "      <td>0.166667</td>\n",
       "      <td>0</td>\n",
       "      <td>0.013924</td>\n",
       "    </tr>\n",
       "    <tr>\n",
       "      <th>4956</th>\n",
       "      <td>1.0</td>\n",
       "      <td>0.323077</td>\n",
       "      <td>0.507595</td>\n",
       "      <td>0.166667</td>\n",
       "      <td>0</td>\n",
       "      <td>0.015190</td>\n",
       "    </tr>\n",
       "  </tbody>\n",
       "</table>\n",
       "</div>"
      ],
      "text/plain": [
       "      gender       age    income  family_members  insurance_benefits  distance\n",
       "1432     1.0  0.323077  0.522785        0.166667                   0  0.000000\n",
       "639      1.0  0.323077  0.516456        0.166667                   0  0.006329\n",
       "1217     1.0  0.323077  0.529114        0.166667                   0  0.006329\n",
       "2120     1.0  0.323077  0.508861        0.166667                   0  0.013924\n",
       "4956     1.0  0.323077  0.507595        0.166667                   0  0.015190"
      ]
     },
     "metadata": {},
     "output_type": "display_data"
    }
   ],
   "source": [
    "# Examine a random nearest neighbor example for every combination of data and distance\n",
    "\n",
    "rng = np.random.default_rng()\n",
    "n = rng.integers(0, len(df))\n",
    "print(f\"output for k = 5, n = {n}, metric = euclidean, and unscaled data:\")\n",
    "display(get_knn(df, n, 5, 'euclidean'))\n",
    "print()\n",
    "print(f\"output for k = 5, n = {n}, metric = manhattan, and unscaled data:\")\n",
    "display(get_knn(df, n, 5, 'manhattan'))\n",
    "print()\n",
    "print(f\"output for k = 5, n = {n}, metric = euclidean, and scaled data:\")\n",
    "display(get_knn(df_scaled, n, 5, 'euclidean'))\n",
    "print()\n",
    "print(f\"output for k = 5, n = {n}, metric = manhattan, and scaled data:\")\n",
    "display(get_knn(df_scaled, n, 5, 'manhattan'))"
   ]
  },
  {
   "cell_type": "markdown",
   "metadata": {},
   "source": [
    "Answers to the questions"
   ]
  },
  {
   "cell_type": "markdown",
   "metadata": {},
   "source": [
    "**Does the data being not scaled affect the kNN algorithm? If so, how does that appear?** \n",
    "\n",
    "Scaling changes the results of the kNN algorithm because it uses the scales of the various columns to compute distances. Columns with larger numbers (e.g., feet or days) contribute more to the distance measure than those with smaller numbers (e.g., miles or weeks). Scaling the data gives each column equivalent magnitudes, ensuring that they contribute equally to the distance measure. "
   ]
  },
  {
   "cell_type": "markdown",
   "metadata": {},
   "source": [
    "**How similar are the results using the Manhattan distance metric (regardless of the scaling)?** \n",
    "\n",
    "The two metrics give similar but not identical results. In most cases, the k nearest neighbors include many of the same rows but they might be in a different order. "
   ]
  },
  {
   "cell_type": "markdown",
   "metadata": {},
   "source": [
    "# Task 2. Is Customer Likely to Receive Insurance Benefit?"
   ]
  },
  {
   "cell_type": "markdown",
   "metadata": {},
   "source": [
    "In terms of machine learning we can look at this like a binary classification task."
   ]
  },
  {
   "cell_type": "markdown",
   "metadata": {},
   "source": [
    "With `insurance_benefits` being more than zero as the target, evaluate whether the kNN classification approach can do better than a dummy model.\n",
    "\n",
    "Instructions:\n",
    "- Build a KNN-based classifier and measure its quality with the F1 metric for k=1..10 for both the original data and the scaled one. That'd be interesting to see how k may influece the evaluation metric, and whether scaling the data makes any difference. You can use a ready implemention of the kNN classification algorithm from scikit-learn (check [the link](https://scikit-learn.org/stable/modules/generated/sklearn.neighbors.KNeighborsClassifier.html)) or use your own.\n",
    "- Build the dummy model which is just random for this case. It should return \"1\" with some probability. Let's test the model with four probability values: 0, the probability of paying any insurance benefit, 0.5, 1.\n",
    "\n",
    "The probability of paying any insurance benefit can be defined as\n",
    "\n",
    "$$\n",
    "P\\{\\text{insurance benefit received}\\}=\\frac{\\text{number of clients received any insurance benefit}}{\\text{total number of clients}}.\n",
    "$$\n",
    "\n",
    "Split the whole data in the 70:30 proportion for the training/testing parts."
   ]
  },
  {
   "cell_type": "code",
   "execution_count": 18,
   "metadata": {},
   "outputs": [],
   "source": [
    "# calculate the target\n",
    "\n",
    "df['insurance_benefits_received'] = df['insurance_benefits'].clip(upper=1)\n",
    "df_scaled['insurance_benefits_received'] = df_scaled['insurance_benefits'].clip(upper=1)"
   ]
  },
  {
   "cell_type": "code",
   "execution_count": 19,
   "metadata": {},
   "outputs": [
    {
     "data": {
      "text/plain": [
       "0    4436\n",
       "1     564\n",
       "Name: insurance_benefits_received, dtype: int64"
      ]
     },
     "metadata": {},
     "output_type": "display_data"
    },
    {
     "data": {
      "text/plain": [
       "0    4436\n",
       "1     564\n",
       "Name: insurance_benefits_received, dtype: int64"
      ]
     },
     "metadata": {},
     "output_type": "display_data"
    }
   ],
   "source": [
    "# check for the class imbalance with value_counts()\n",
    "\n",
    "display(df['insurance_benefits_received'].value_counts())\n",
    "display(df_scaled['insurance_benefits_received'].value_counts())"
   ]
  },
  {
   "cell_type": "code",
   "execution_count": 20,
   "metadata": {},
   "outputs": [],
   "source": [
    "def eval_classifier(y_true, y_pred):\n",
    "    \n",
    "    f1_score = sklearn.metrics.f1_score(y_true, y_pred)\n",
    "    print(f'F1: {f1_score:.2f}')\n",
    "    \n",
    "# if you have an issue with the following line, restart the kernel and run the notebook again\n",
    "    cm = sklearn.metrics.confusion_matrix(y_true, y_pred, normalize='all')\n",
    "    print('Confusion Matrix')\n",
    "    print(cm)"
   ]
  },
  {
   "cell_type": "code",
   "execution_count": 21,
   "metadata": {},
   "outputs": [],
   "source": [
    "# generating output of a random model\n",
    "\n",
    "def rnd_model_predict(P, size, seed=42):\n",
    "\n",
    "    rng = np.random.default_rng(seed=seed)\n",
    "    return rng.binomial(n=1, p=P, size=size)"
   ]
  },
  {
   "cell_type": "code",
   "execution_count": 22,
   "metadata": {},
   "outputs": [
    {
     "name": "stdout",
     "output_type": "stream",
     "text": [
      "The probability: 0.00\n",
      "F1: 0.00\n",
      "Confusion Matrix\n",
      "[[0.8872 0.    ]\n",
      " [0.1128 0.    ]]\n",
      "\n",
      "The probability: 0.11\n",
      "F1: 0.12\n",
      "Confusion Matrix\n",
      "[[0.7914 0.0958]\n",
      " [0.0994 0.0134]]\n",
      "\n",
      "The probability: 0.50\n",
      "F1: 0.20\n",
      "Confusion Matrix\n",
      "[[0.456  0.4312]\n",
      " [0.053  0.0598]]\n",
      "\n",
      "The probability: 1.00\n",
      "F1: 0.20\n",
      "Confusion Matrix\n",
      "[[0.     0.8872]\n",
      " [0.     0.1128]]\n",
      "\n"
     ]
    }
   ],
   "source": [
    "for P in [0, df['insurance_benefits_received'].sum() / len(df), 0.5, 1]:\n",
    "\n",
    "    print(f'The probability: {P:.2f}')\n",
    "    y_pred_rnd = rnd_model_predict(P, len(df))\n",
    "        \n",
    "    eval_classifier(df['insurance_benefits_received'], y_pred_rnd)\n",
    "    \n",
    "    print()"
   ]
  },
  {
   "cell_type": "code",
   "execution_count": 23,
   "metadata": {
    "scrolled": true
   },
   "outputs": [
    {
     "name": "stdout",
     "output_type": "stream",
     "text": [
      "Unscaled\n",
      "Training set size: 3500, 70%\n",
      "Test set size: 1500, 30%\n",
      "\n",
      "Scaled\n",
      "Training set size: 3500, 70%\n",
      "Test set size: 1500, 30%\n"
     ]
    }
   ],
   "source": [
    "# Split both scaled and unscaled data into training and testing sets\n",
    "\n",
    "features = df[feature_names]\n",
    "features_scaled = df_scaled[feature_names]\n",
    "target = df['insurance_benefits_received']\n",
    "\n",
    "features_train, features_test, target_train, target_test = train_test_split(features, target, test_size=0.3, random_state=12345)\n",
    "features_train_scaled = features_scaled.loc[features_train.index]\n",
    "features_test_scaled = features_scaled.loc[features_test.index]\n",
    "\n",
    "print('Unscaled')\n",
    "print(f\"Training set size: {len(features_train)}, {100*len(features_train)/len(df):.0f}%\")\n",
    "print(f\"Test set size: {len(features_test)}, {100*len(features_test)/len(df):.0f}%\")\n",
    "print()\n",
    "print('Scaled')\n",
    "print(f\"Training set size: {len(features_train_scaled)}, {100*len(features_train_scaled)/len(df_scaled):.0f}%\")\n",
    "print(f\"Test set size: {len(features_test_scaled)}, {100*len(features_test_scaled)/len(df_scaled):.0f}%\")"
   ]
  },
  {
   "cell_type": "code",
   "execution_count": 24,
   "metadata": {
    "scrolled": true
   },
   "outputs": [
    {
     "name": "stdout",
     "output_type": "stream",
     "text": [
      "Results for k nearest neighbors classifier with unscaled data\n",
      "For k = 1, F1 = 0.61\n",
      "For k = 2, F1 = 0.41\n",
      "For k = 3, F1 = 0.41\n",
      "For k = 4, F1 = 0.28\n",
      "For k = 5, F1 = 0.27\n",
      "For k = 6, F1 = 0.11\n",
      "For k = 7, F1 = 0.11\n",
      "For k = 8, F1 = 0.07\n",
      "For k = 9, F1 = 0.08\n",
      "For k = 10, F1 = 0.00\n"
     ]
    }
   ],
   "source": [
    "# Train kNN models for k = 1 - 10 for unscaled data\n",
    "    \n",
    "print('Results for k nearest neighbors classifier with unscaled data')\n",
    "\n",
    "for k in range(1, 11):\n",
    "    neigh = sklearn.neighbors.KNeighborsClassifier(n_neighbors=k, metric='euclidean')\n",
    "    neigh.fit(features_train, target_train)\n",
    "    y_pred_knn = neigh.predict(features_test)\n",
    "    f1_score = sklearn.metrics.f1_score(target_test, y_pred_knn)\n",
    "    print(f\"For k = {k}, F1 = {f1_score:.2f}\")"
   ]
  },
  {
   "cell_type": "code",
   "execution_count": 25,
   "metadata": {},
   "outputs": [
    {
     "name": "stdout",
     "output_type": "stream",
     "text": [
      "Results for k nearest neighbors classifier with scaled data\n",
      "For k = 1, F1 = 0.97\n",
      "For k = 2, F1 = 0.93\n",
      "For k = 3, F1 = 0.95\n",
      "For k = 4, F1 = 0.91\n",
      "For k = 5, F1 = 0.92\n",
      "For k = 6, F1 = 0.90\n",
      "For k = 7, F1 = 0.92\n",
      "For k = 8, F1 = 0.90\n",
      "For k = 9, F1 = 0.92\n",
      "For k = 10, F1 = 0.88\n"
     ]
    }
   ],
   "source": [
    "# Train kNN models for k = 1 - 10 for scaled data\n",
    "\n",
    "print('Results for k nearest neighbors classifier with scaled data')\n",
    "\n",
    "for k in range(1, 11):\n",
    "    neigh = sklearn.neighbors.KNeighborsClassifier(n_neighbors=k, metric='euclidean')\n",
    "    neigh.fit(features_train_scaled, target_train)\n",
    "    y_pred_knn = neigh.predict(features_test_scaled)\n",
    "    f1_score = sklearn.metrics.f1_score(target_test, y_pred_knn)\n",
    "    print(f\"For k = {k}, F1 = {f1_score:.2f}\")"
   ]
  },
  {
   "cell_type": "code",
   "execution_count": 26,
   "metadata": {},
   "outputs": [
    {
     "name": "stdout",
     "output_type": "stream",
     "text": [
      "K nearest nieghbor model (k = 1, data unscaled)\n",
      "F1: 0.61\n",
      "Confusion Matrix\n",
      "[[0.87       0.02133333]\n",
      " [0.052      0.05666667]]\n",
      "\n",
      "K nearest nieghbor model (k = 1, data scaled)\n",
      "F1: 0.97\n",
      "Confusion Matrix\n",
      "[[0.88866667 0.00266667]\n",
      " [0.00466667 0.104     ]]\n",
      "\n",
      "Probablity model (P = 0.00)\n",
      "F1: 0.00\n",
      "Confusion Matrix\n",
      "[[0.88542857 0.        ]\n",
      " [0.11457143 0.        ]]\n",
      "\n",
      "Probablity model (P = 0.11)\n",
      "F1: 0.11\n",
      "Confusion Matrix\n",
      "[[0.78171429 0.10371429]\n",
      " [0.102      0.01257143]]\n",
      "\n",
      "Probablity model (P = 0.50)\n",
      "F1: 0.17\n",
      "Confusion Matrix\n",
      "[[0.44171429 0.44371429]\n",
      " [0.06228571 0.05228571]]\n",
      "\n",
      "Probablity model (P = 1.00)\n",
      "F1: 0.21\n",
      "Confusion Matrix\n",
      "[[0.         0.88542857]\n",
      " [0.         0.11457143]]\n",
      "\n"
     ]
    }
   ],
   "source": [
    "# Compare kNN models with dummy probability models\n",
    "\n",
    "neigh = sklearn.neighbors.KNeighborsClassifier(n_neighbors=1, metric='euclidean')\n",
    "neigh.fit(features_train, target_train)\n",
    "print('K nearest nieghbor model (k = 1, data unscaled)')\n",
    "eval_classifier(target_test, neigh.predict(features_test))\n",
    "print()\n",
    "    \n",
    "neigh = sklearn.neighbors.KNeighborsClassifier(n_neighbors=1, metric='euclidean')\n",
    "neigh.fit(features_train_scaled, target_train)\n",
    "print('K nearest nieghbor model (k = 1, data scaled)')\n",
    "eval_classifier(target_test, neigh.predict(features_test_scaled))\n",
    "print()\n",
    "\n",
    "for P in [0, target_train.sum() / len(target_train), 0.5, 1]:\n",
    "    print(f'Probablity model (P = {P:.2f})')\n",
    "    eval_classifier(target_train, rnd_model_predict(P, len(target_train)))\n",
    "    print()"
   ]
  },
  {
   "cell_type": "markdown",
   "metadata": {},
   "source": [
    "The kNN models scored best with k = 1 and declined for greater values of k. The models performed much better on scaled data (best F1 = 0.97) than on unscaled data (best F1 = 0.61) and very nearly approached an ideal F1 score of 1, which indicates perfect accuracy and recall. The unscaled data declined precipitously, dropping to an F1 score of 0 by k = 10. The scaled data also declined but much more gradually and to a lesser extent, dropping only to an F1 score of 0.88 by k = 10. The fairly severe class imbalance may explain why lower k values had better scores; high values of k can quickly overwhelm the algorithm with irrelevant neighbors from the majority class. \n",
    "\n",
    "Both kNN models greatly outperformed all of the random models during testing. The best probability model had P = 1 (F1 = 0.21), followed by P = 0.5 (F1 = 0.17), P = 0.11 (F1 = 0.11), and finally P = 0 (F1 = 0). "
   ]
  },
  {
   "cell_type": "markdown",
   "metadata": {},
   "source": [
    "# Task 3. Regression (with Linear Regression)"
   ]
  },
  {
   "cell_type": "markdown",
   "metadata": {},
   "source": [
    "With `insurance_benefits` as the target, evaluate what RMSE would be for a Linear Regression model."
   ]
  },
  {
   "cell_type": "markdown",
   "metadata": {},
   "source": [
    "Build your own implementation of LR. For that, recall how the linear regression task's solution is formulated in terms of LA. Check RMSE for both the original data and the scaled one. Can you see any difference in RMSE between these two cases?\n",
    "\n",
    "Let's denote\n",
    "- $X$ — feature matrix, each row is a case, each column is a feature, the first column consists of unities\n",
    "- $y$ — target (a vector)\n",
    "- $\\hat{y}$ — estimated tagret (a vector)\n",
    "- $w$ — weight vector\n",
    "\n",
    "The task of linear regression in the language of matrices can be formulated as\n",
    "\n",
    "$$\n",
    "y = Xw\n",
    "$$\n",
    "\n",
    "The training objective then is to find such $w$ that it would minimize the L2-distance (MSE) between $Xw$ and $y$:\n",
    "\n",
    "$$\n",
    "\\min_w d_2(Xw, y) \\quad \\text{or} \\quad \\min_w \\text{MSE}(Xw, y)\n",
    "$$\n",
    "\n",
    "It appears that there is analytical solution for the above:\n",
    "\n",
    "$$\n",
    "w = (X^T X)^{-1} X^T y\n",
    "$$\n",
    "\n",
    "The formula above can be used to find the weights $w$ and the latter can be used to calculate predicted values\n",
    "\n",
    "$$\n",
    "\\hat{y} = X_{val}w\n",
    "$$"
   ]
  },
  {
   "cell_type": "markdown",
   "metadata": {},
   "source": [
    "Split the whole data in the 70:30 proportion for the training/validation parts. Use the RMSE metric for the model evaluation."
   ]
  },
  {
   "cell_type": "code",
   "execution_count": 27,
   "metadata": {},
   "outputs": [],
   "source": [
    "class MyLinearRegression:\n",
    "    \n",
    "    def __init__(self):\n",
    "        \n",
    "        self.weights = None\n",
    "    \n",
    "    def fit(self, X, y):\n",
    "        \n",
    "        # adding the unities\n",
    "        X2 = np.append(np.ones([len(X), 1]), X, axis=1)\n",
    "        self.weights = np.linalg.inv(X2.T.dot(X2)).dot(X2.T).dot(y)\n",
    "\n",
    "    def predict(self, X):\n",
    "        \n",
    "        # adding the unities\n",
    "        X2 = np.append(np.ones([len(X), 1]), X, axis=1)\n",
    "        y_pred = X2.dot(self.weights)\n",
    "        \n",
    "        return y_pred"
   ]
  },
  {
   "cell_type": "code",
   "execution_count": 28,
   "metadata": {},
   "outputs": [],
   "source": [
    "def eval_regressor(y_true, y_pred):\n",
    "    \n",
    "    rmse = math.sqrt(sklearn.metrics.mean_squared_error(y_true, y_pred))\n",
    "    print(f'RMSE: {rmse:.2f}')\n",
    "    \n",
    "    r2_score = math.sqrt(sklearn.metrics.r2_score(y_true, y_pred))\n",
    "    print(f'R2: {r2_score:.2f}')    "
   ]
  },
  {
   "cell_type": "code",
   "execution_count": 29,
   "metadata": {},
   "outputs": [
    {
     "name": "stdout",
     "output_type": "stream",
     "text": [
      "[-9.43539012e-01  3.57495491e-02  1.64272726e-02 -2.60743659e-07\n",
      " -1.16902127e-02]\n",
      "RMSE: 0.34\n",
      "R2: 0.66\n"
     ]
    }
   ],
   "source": [
    "X = df[['age', 'gender', 'income', 'family_members']].to_numpy()\n",
    "y = df['insurance_benefits'].to_numpy()\n",
    "\n",
    "X_train, X_test, y_train, y_test = train_test_split(X, y, test_size=0.3, random_state=12345)\n",
    "\n",
    "lr = MyLinearRegression()\n",
    "\n",
    "lr.fit(X_train, y_train)\n",
    "print(lr.weights)\n",
    "weights = [lr.weights]\n",
    "\n",
    "y_test_pred = lr.predict(X_test)\n",
    "eval_regressor(y_test, y_test_pred)"
   ]
  },
  {
   "cell_type": "code",
   "execution_count": 30,
   "metadata": {
    "scrolled": true
   },
   "outputs": [
    {
     "name": "stdout",
     "output_type": "stream",
     "text": [
      "[-0.94353901  2.32372069  0.01642727 -0.02059875 -0.07014128]\n",
      "RMSE: 0.34\n",
      "R2: 0.66\n"
     ]
    }
   ],
   "source": [
    "# Run linear regression model again for scaled data\n",
    "\n",
    "X = df_scaled[['age', 'gender', 'income', 'family_members']].to_numpy()\n",
    "y = df_scaled['insurance_benefits'].to_numpy()\n",
    "\n",
    "X_train, X_test, y_train, y_test = train_test_split(X, y, test_size=0.3, random_state=12345)\n",
    "\n",
    "lr = MyLinearRegression()\n",
    "\n",
    "lr.fit(X_train, y_train)\n",
    "print(lr.weights)\n",
    "weights.append(lr.weights)\n",
    "\n",
    "y_test_pred = lr.predict(X_test)\n",
    "eval_regressor(y_test, y_test_pred)"
   ]
  },
  {
   "cell_type": "code",
   "execution_count": 31,
   "metadata": {},
   "outputs": [
    {
     "name": "stdout",
     "output_type": "stream",
     "text": [
      "Regression weights:\n"
     ]
    },
    {
     "data": {
      "text/html": [
       "<div>\n",
       "<style scoped>\n",
       "    .dataframe tbody tr th:only-of-type {\n",
       "        vertical-align: middle;\n",
       "    }\n",
       "\n",
       "    .dataframe tbody tr th {\n",
       "        vertical-align: top;\n",
       "    }\n",
       "\n",
       "    .dataframe thead th {\n",
       "        text-align: right;\n",
       "    }\n",
       "</style>\n",
       "<table border=\"1\" class=\"dataframe\">\n",
       "  <thead>\n",
       "    <tr style=\"text-align: right;\">\n",
       "      <th></th>\n",
       "      <th>intercept</th>\n",
       "      <th>age</th>\n",
       "      <th>gender</th>\n",
       "      <th>income</th>\n",
       "      <th>family_members</th>\n",
       "    </tr>\n",
       "  </thead>\n",
       "  <tbody>\n",
       "    <tr>\n",
       "      <th>unscaled</th>\n",
       "      <td>-0.943539</td>\n",
       "      <td>0.035750</td>\n",
       "      <td>0.016427</td>\n",
       "      <td>-2.607437e-07</td>\n",
       "      <td>-0.011690</td>\n",
       "    </tr>\n",
       "    <tr>\n",
       "      <th>scaled</th>\n",
       "      <td>-0.943539</td>\n",
       "      <td>2.323721</td>\n",
       "      <td>0.016427</td>\n",
       "      <td>-2.059875e-02</td>\n",
       "      <td>-0.070141</td>\n",
       "    </tr>\n",
       "  </tbody>\n",
       "</table>\n",
       "</div>"
      ],
      "text/plain": [
       "          intercept       age    gender        income  family_members\n",
       "unscaled  -0.943539  0.035750  0.016427 -2.607437e-07       -0.011690\n",
       "scaled    -0.943539  2.323721  0.016427 -2.059875e-02       -0.070141"
      ]
     },
     "metadata": {},
     "output_type": "display_data"
    }
   ],
   "source": [
    "# Compare regression weights for the scaled and unscaled models\n",
    "\n",
    "print('Regression weights:')\n",
    "display(pd.DataFrame(weights, index=['unscaled', 'scaled'], columns=['intercept', 'age', 'gender', 'income', 'family_members']))"
   ]
  },
  {
   "cell_type": "markdown",
   "metadata": {},
   "source": [
    "The regression model worked as expected, predicting the insurance benefits with reasonable performance (RMSE = 0.34, $R^2$ = 0.66). The results were identical for scaled and unscaled data, but most of the regression weights were not. The weight for the gender feature remained the same because scaling did not affect its binary data. The intercept weight also remained the same because it automatically adjusted for feature scale. "
   ]
  },
  {
   "cell_type": "markdown",
   "metadata": {},
   "source": [
    "# Task 4. Obfuscating Data"
   ]
  },
  {
   "cell_type": "markdown",
   "metadata": {},
   "source": [
    "It best to obfuscate data by multiplying the numerical features (remember, they can be seen as the matrix $X$) by an invertible matrix $P$. \n",
    "\n",
    "$$\n",
    "X' = X \\times P\n",
    "$$\n",
    "\n",
    "Try to do that and check how the features' values will look like after the transformation. By the way, the intertible property is important here so make sure that $P$ is indeed invertible.\n",
    "\n",
    "You may want to review the 'Matrices and Matrix Operations -> Matrix Multiplication' lesson to recall the rule of matrix multiplication and its implementation with NumPy."
   ]
  },
  {
   "cell_type": "code",
   "execution_count": 32,
   "metadata": {},
   "outputs": [],
   "source": [
    "personal_info_column_list = ['gender', 'age', 'income', 'family_members']\n",
    "df_pn = df[personal_info_column_list]"
   ]
  },
  {
   "cell_type": "code",
   "execution_count": 33,
   "metadata": {},
   "outputs": [],
   "source": [
    "X = df_pn.to_numpy()"
   ]
  },
  {
   "cell_type": "markdown",
   "metadata": {},
   "source": [
    "Generating a random matrix $P$."
   ]
  },
  {
   "cell_type": "code",
   "execution_count": 34,
   "metadata": {},
   "outputs": [],
   "source": [
    "rng = np.random.default_rng(seed=42)\n",
    "P = rng.random(size=(X.shape[1], X.shape[1]))"
   ]
  },
  {
   "cell_type": "markdown",
   "metadata": {},
   "source": [
    "Checking the matrix $P$ is invertible"
   ]
  },
  {
   "cell_type": "code",
   "execution_count": 35,
   "metadata": {},
   "outputs": [
    {
     "name": "stdout",
     "output_type": "stream",
     "text": [
      "The matrix is invertible.\n",
      "P^-1 = \n"
     ]
    },
    {
     "data": {
      "text/plain": [
       "array([[ 0.41467992, -1.43783972,  0.62798546,  1.14001268],\n",
       "       [-1.06101789,  0.44219337,  0.1329549 ,  1.18425933],\n",
       "       [ 1.42362442,  1.60461607, -2.0553823 , -1.53699695],\n",
       "       [-0.11128575, -0.65813802,  1.74995517, -0.11816316]])"
      ]
     },
     "metadata": {},
     "output_type": "display_data"
    }
   ],
   "source": [
    "# Try to calculate the inverse of P\n",
    "\n",
    "if np.linalg.det(P) != 0:\n",
    "    print(\"The matrix is invertible.\")\n",
    "    \n",
    "    P_inverse = np.linalg.inv(P)\n",
    "    \n",
    "    print('P^-1 = ')\n",
    "    display(P_inverse)\n",
    "else:\n",
    "    print(\"The matrix is singular (non-invertible).\")"
   ]
  },
  {
   "cell_type": "markdown",
   "metadata": {},
   "source": [
    "The matrix is invertible."
   ]
  },
  {
   "cell_type": "markdown",
   "metadata": {},
   "source": [
    "Can you guess the customers' ages or income after the transformation?"
   ]
  },
  {
   "cell_type": "code",
   "execution_count": 36,
   "metadata": {},
   "outputs": [
    {
     "name": "stdout",
     "output_type": "stream",
     "text": [
      "X:\n"
     ]
    },
    {
     "data": {
      "text/html": [
       "<div>\n",
       "<style scoped>\n",
       "    .dataframe tbody tr th:only-of-type {\n",
       "        vertical-align: middle;\n",
       "    }\n",
       "\n",
       "    .dataframe tbody tr th {\n",
       "        vertical-align: top;\n",
       "    }\n",
       "\n",
       "    .dataframe thead th {\n",
       "        text-align: right;\n",
       "    }\n",
       "</style>\n",
       "<table border=\"1\" class=\"dataframe\">\n",
       "  <thead>\n",
       "    <tr style=\"text-align: right;\">\n",
       "      <th></th>\n",
       "      <th>gender</th>\n",
       "      <th>age</th>\n",
       "      <th>income</th>\n",
       "      <th>family_members</th>\n",
       "    </tr>\n",
       "  </thead>\n",
       "  <tbody>\n",
       "    <tr>\n",
       "      <th>0</th>\n",
       "      <td>1.0</td>\n",
       "      <td>41.0</td>\n",
       "      <td>49600.0</td>\n",
       "      <td>1.0</td>\n",
       "    </tr>\n",
       "    <tr>\n",
       "      <th>1</th>\n",
       "      <td>0.0</td>\n",
       "      <td>46.0</td>\n",
       "      <td>38000.0</td>\n",
       "      <td>1.0</td>\n",
       "    </tr>\n",
       "    <tr>\n",
       "      <th>2</th>\n",
       "      <td>0.0</td>\n",
       "      <td>29.0</td>\n",
       "      <td>21000.0</td>\n",
       "      <td>0.0</td>\n",
       "    </tr>\n",
       "    <tr>\n",
       "      <th>3</th>\n",
       "      <td>0.0</td>\n",
       "      <td>21.0</td>\n",
       "      <td>41700.0</td>\n",
       "      <td>2.0</td>\n",
       "    </tr>\n",
       "    <tr>\n",
       "      <th>4</th>\n",
       "      <td>1.0</td>\n",
       "      <td>28.0</td>\n",
       "      <td>26100.0</td>\n",
       "      <td>0.0</td>\n",
       "    </tr>\n",
       "    <tr>\n",
       "      <th>...</th>\n",
       "      <td>...</td>\n",
       "      <td>...</td>\n",
       "      <td>...</td>\n",
       "      <td>...</td>\n",
       "    </tr>\n",
       "    <tr>\n",
       "      <th>4995</th>\n",
       "      <td>0.0</td>\n",
       "      <td>28.0</td>\n",
       "      <td>35700.0</td>\n",
       "      <td>2.0</td>\n",
       "    </tr>\n",
       "    <tr>\n",
       "      <th>4996</th>\n",
       "      <td>0.0</td>\n",
       "      <td>34.0</td>\n",
       "      <td>52400.0</td>\n",
       "      <td>1.0</td>\n",
       "    </tr>\n",
       "    <tr>\n",
       "      <th>4997</th>\n",
       "      <td>0.0</td>\n",
       "      <td>20.0</td>\n",
       "      <td>33900.0</td>\n",
       "      <td>2.0</td>\n",
       "    </tr>\n",
       "    <tr>\n",
       "      <th>4998</th>\n",
       "      <td>1.0</td>\n",
       "      <td>22.0</td>\n",
       "      <td>32700.0</td>\n",
       "      <td>3.0</td>\n",
       "    </tr>\n",
       "    <tr>\n",
       "      <th>4999</th>\n",
       "      <td>1.0</td>\n",
       "      <td>28.0</td>\n",
       "      <td>40600.0</td>\n",
       "      <td>1.0</td>\n",
       "    </tr>\n",
       "  </tbody>\n",
       "</table>\n",
       "<p>5000 rows × 4 columns</p>\n",
       "</div>"
      ],
      "text/plain": [
       "      gender   age   income  family_members\n",
       "0        1.0  41.0  49600.0             1.0\n",
       "1        0.0  46.0  38000.0             1.0\n",
       "2        0.0  29.0  21000.0             0.0\n",
       "3        0.0  21.0  41700.0             2.0\n",
       "4        1.0  28.0  26100.0             0.0\n",
       "...      ...   ...      ...             ...\n",
       "4995     0.0  28.0  35700.0             2.0\n",
       "4996     0.0  34.0  52400.0             1.0\n",
       "4997     0.0  20.0  33900.0             2.0\n",
       "4998     1.0  22.0  32700.0             3.0\n",
       "4999     1.0  28.0  40600.0             1.0\n",
       "\n",
       "[5000 rows x 4 columns]"
      ]
     },
     "metadata": {},
     "output_type": "display_data"
    },
    {
     "name": "stdout",
     "output_type": "stream",
     "text": [
      "\n",
      "X':\n"
     ]
    },
    {
     "data": {
      "text/html": [
       "<div>\n",
       "<style scoped>\n",
       "    .dataframe tbody tr th:only-of-type {\n",
       "        vertical-align: middle;\n",
       "    }\n",
       "\n",
       "    .dataframe tbody tr th {\n",
       "        vertical-align: top;\n",
       "    }\n",
       "\n",
       "    .dataframe thead th {\n",
       "        text-align: right;\n",
       "    }\n",
       "</style>\n",
       "<table border=\"1\" class=\"dataframe\">\n",
       "  <thead>\n",
       "    <tr style=\"text-align: right;\">\n",
       "      <th></th>\n",
       "      <th>gender</th>\n",
       "      <th>age</th>\n",
       "      <th>income</th>\n",
       "      <th>family_members</th>\n",
       "    </tr>\n",
       "  </thead>\n",
       "  <tbody>\n",
       "    <tr>\n",
       "      <th>0</th>\n",
       "      <td>6359.715273</td>\n",
       "      <td>22380.404676</td>\n",
       "      <td>18424.090742</td>\n",
       "      <td>46000.696690</td>\n",
       "    </tr>\n",
       "    <tr>\n",
       "      <th>1</th>\n",
       "      <td>4873.294065</td>\n",
       "      <td>17160.367030</td>\n",
       "      <td>14125.780761</td>\n",
       "      <td>35253.455773</td>\n",
       "    </tr>\n",
       "    <tr>\n",
       "      <th>2</th>\n",
       "      <td>2693.117429</td>\n",
       "      <td>9486.397744</td>\n",
       "      <td>7808.831560</td>\n",
       "      <td>19484.860631</td>\n",
       "    </tr>\n",
       "    <tr>\n",
       "      <th>3</th>\n",
       "      <td>5345.603937</td>\n",
       "      <td>18803.227203</td>\n",
       "      <td>15479.148373</td>\n",
       "      <td>38663.061863</td>\n",
       "    </tr>\n",
       "    <tr>\n",
       "      <th>4</th>\n",
       "      <td>3347.176735</td>\n",
       "      <td>11782.829283</td>\n",
       "      <td>9699.998942</td>\n",
       "      <td>24211.273378</td>\n",
       "    </tr>\n",
       "    <tr>\n",
       "      <th>...</th>\n",
       "      <td>...</td>\n",
       "      <td>...</td>\n",
       "      <td>...</td>\n",
       "      <td>...</td>\n",
       "    </tr>\n",
       "    <tr>\n",
       "      <th>4995</th>\n",
       "      <td>4577.581382</td>\n",
       "      <td>16107.740932</td>\n",
       "      <td>13259.688205</td>\n",
       "      <td>33107.974380</td>\n",
       "    </tr>\n",
       "    <tr>\n",
       "      <th>4996</th>\n",
       "      <td>6717.000247</td>\n",
       "      <td>23634.217067</td>\n",
       "      <td>19456.138634</td>\n",
       "      <td>48589.438841</td>\n",
       "    </tr>\n",
       "    <tr>\n",
       "      <th>4997</th>\n",
       "      <td>4346.223425</td>\n",
       "      <td>15289.241265</td>\n",
       "      <td>12586.162644</td>\n",
       "      <td>31433.508886</td>\n",
       "    </tr>\n",
       "    <tr>\n",
       "      <th>4998</th>\n",
       "      <td>4194.093242</td>\n",
       "      <td>14751.991024</td>\n",
       "      <td>12144.029306</td>\n",
       "      <td>30323.887634</td>\n",
       "    </tr>\n",
       "    <tr>\n",
       "      <th>4999</th>\n",
       "      <td>5205.468274</td>\n",
       "      <td>18314.248144</td>\n",
       "      <td>15077.013708</td>\n",
       "      <td>37649.592955</td>\n",
       "    </tr>\n",
       "  </tbody>\n",
       "</table>\n",
       "<p>5000 rows × 4 columns</p>\n",
       "</div>"
      ],
      "text/plain": [
       "           gender           age        income  family_members\n",
       "0     6359.715273  22380.404676  18424.090742    46000.696690\n",
       "1     4873.294065  17160.367030  14125.780761    35253.455773\n",
       "2     2693.117429   9486.397744   7808.831560    19484.860631\n",
       "3     5345.603937  18803.227203  15479.148373    38663.061863\n",
       "4     3347.176735  11782.829283   9699.998942    24211.273378\n",
       "...           ...           ...           ...             ...\n",
       "4995  4577.581382  16107.740932  13259.688205    33107.974380\n",
       "4996  6717.000247  23634.217067  19456.138634    48589.438841\n",
       "4997  4346.223425  15289.241265  12586.162644    31433.508886\n",
       "4998  4194.093242  14751.991024  12144.029306    30323.887634\n",
       "4999  5205.468274  18314.248144  15077.013708    37649.592955\n",
       "\n",
       "[5000 rows x 4 columns]"
      ]
     },
     "metadata": {},
     "output_type": "display_data"
    }
   ],
   "source": [
    "# Multiply X by P to obfuscate it\n",
    "\n",
    "X_prime = X.dot(P)\n",
    "\n",
    "print('X:')\n",
    "display(pd.DataFrame(X, columns=['gender', 'age', 'income', 'family_members']))\n",
    "print()\n",
    "print(\"X':\")\n",
    "display(pd.DataFrame(X_prime, columns=['gender', 'age', 'income', 'family_members']))"
   ]
  },
  {
   "cell_type": "markdown",
   "metadata": {},
   "source": [
    "Customers' gender, age, income, and number of family members were successfully obfuscated. I cannot guess them. "
   ]
  },
  {
   "cell_type": "markdown",
   "metadata": {},
   "source": [
    "Can you recover the original data from $X'$ if you know $P$? Try to check that with calculations by moving $P$ from the right side of the formula above to the left one. The rules of matrix multiplcation are really helpful here."
   ]
  },
  {
   "cell_type": "code",
   "execution_count": 37,
   "metadata": {
    "scrolled": true
   },
   "outputs": [
    {
     "data": {
      "text/plain": [
       "array([[ 1.00000000e+00,  4.10000000e+01,  4.96000000e+04,\n",
       "         1.00000000e+00],\n",
       "       [-4.47363596e-12,  4.60000000e+01,  3.80000000e+04,\n",
       "         1.00000000e+00],\n",
       "       [-2.51586878e-12,  2.90000000e+01,  2.10000000e+04,\n",
       "         9.52452315e-13],\n",
       "       ...,\n",
       "       [-1.92837871e-12,  2.00000000e+01,  3.39000000e+04,\n",
       "         2.00000000e+00],\n",
       "       [ 1.00000000e+00,  2.20000000e+01,  3.27000000e+04,\n",
       "         3.00000000e+00],\n",
       "       [ 1.00000000e+00,  2.80000000e+01,  4.06000000e+04,\n",
       "         1.00000000e+00]])"
      ]
     },
     "metadata": {},
     "output_type": "display_data"
    }
   ],
   "source": [
    "# Recover the original X matrix from X'\n",
    "\n",
    "X_recovered = X_prime.dot(P_inverse)\n",
    "\n",
    "display(X_recovered)"
   ]
  },
  {
   "cell_type": "markdown",
   "metadata": {},
   "source": [
    "Print all three cases for a few customers\n",
    "- The original data\n",
    "- The transformed one\n",
    "- The reversed (recovered) one"
   ]
  },
  {
   "cell_type": "code",
   "execution_count": 38,
   "metadata": {},
   "outputs": [
    {
     "name": "stdout",
     "output_type": "stream",
     "text": [
      "Regression weights for observation 339\n"
     ]
    },
    {
     "data": {
      "text/html": [
       "<div>\n",
       "<style scoped>\n",
       "    .dataframe tbody tr th:only-of-type {\n",
       "        vertical-align: middle;\n",
       "    }\n",
       "\n",
       "    .dataframe tbody tr th {\n",
       "        vertical-align: top;\n",
       "    }\n",
       "\n",
       "    .dataframe thead th {\n",
       "        text-align: right;\n",
       "    }\n",
       "</style>\n",
       "<table border=\"1\" class=\"dataframe\">\n",
       "  <thead>\n",
       "    <tr style=\"text-align: right;\">\n",
       "      <th></th>\n",
       "      <th>age</th>\n",
       "      <th>gender</th>\n",
       "      <th>income</th>\n",
       "      <th>family_members</th>\n",
       "    </tr>\n",
       "  </thead>\n",
       "  <tbody>\n",
       "    <tr>\n",
       "      <th>X</th>\n",
       "      <td>1.00000</td>\n",
       "      <td>54.000000</td>\n",
       "      <td>35400.0000</td>\n",
       "      <td>0.000000e+00</td>\n",
       "    </tr>\n",
       "    <tr>\n",
       "      <th>X'</th>\n",
       "      <td>4541.08213</td>\n",
       "      <td>15996.784687</td>\n",
       "      <td>13168.2102</td>\n",
       "      <td>3.285063e+04</td>\n",
       "    </tr>\n",
       "    <tr>\n",
       "      <th>recovered X</th>\n",
       "      <td>1.00000</td>\n",
       "      <td>54.000000</td>\n",
       "      <td>35400.0000</td>\n",
       "      <td>3.218032e-12</td>\n",
       "    </tr>\n",
       "  </tbody>\n",
       "</table>\n",
       "</div>"
      ],
      "text/plain": [
       "                    age        gender      income  family_members\n",
       "X               1.00000     54.000000  35400.0000    0.000000e+00\n",
       "X'           4541.08213  15996.784687  13168.2102    3.285063e+04\n",
       "recovered X     1.00000     54.000000  35400.0000    3.218032e-12"
      ]
     },
     "metadata": {},
     "output_type": "display_data"
    },
    {
     "name": "stdout",
     "output_type": "stream",
     "text": [
      "Regression weights for observation 1772\n"
     ]
    },
    {
     "data": {
      "text/html": [
       "<div>\n",
       "<style scoped>\n",
       "    .dataframe tbody tr th:only-of-type {\n",
       "        vertical-align: middle;\n",
       "    }\n",
       "\n",
       "    .dataframe tbody tr th {\n",
       "        vertical-align: top;\n",
       "    }\n",
       "\n",
       "    .dataframe thead th {\n",
       "        text-align: right;\n",
       "    }\n",
       "</style>\n",
       "<table border=\"1\" class=\"dataframe\">\n",
       "  <thead>\n",
       "    <tr style=\"text-align: right;\">\n",
       "      <th></th>\n",
       "      <th>age</th>\n",
       "      <th>gender</th>\n",
       "      <th>income</th>\n",
       "      <th>family_members</th>\n",
       "    </tr>\n",
       "  </thead>\n",
       "  <tbody>\n",
       "    <tr>\n",
       "      <th>X</th>\n",
       "      <td>1.000000</td>\n",
       "      <td>28.00000</td>\n",
       "      <td>33400.000000</td>\n",
       "      <td>0.000000e+00</td>\n",
       "    </tr>\n",
       "    <tr>\n",
       "      <th>X'</th>\n",
       "      <td>4282.406253</td>\n",
       "      <td>15070.64663</td>\n",
       "      <td>12406.824519</td>\n",
       "      <td>3.097666e+04</td>\n",
       "    </tr>\n",
       "    <tr>\n",
       "      <th>recovered X</th>\n",
       "      <td>1.000000</td>\n",
       "      <td>28.00000</td>\n",
       "      <td>33400.000000</td>\n",
       "      <td>1.560230e-12</td>\n",
       "    </tr>\n",
       "  </tbody>\n",
       "</table>\n",
       "</div>"
      ],
      "text/plain": [
       "                     age       gender        income  family_members\n",
       "X               1.000000     28.00000  33400.000000    0.000000e+00\n",
       "X'           4282.406253  15070.64663  12406.824519    3.097666e+04\n",
       "recovered X     1.000000     28.00000  33400.000000    1.560230e-12"
      ]
     },
     "metadata": {},
     "output_type": "display_data"
    },
    {
     "name": "stdout",
     "output_type": "stream",
     "text": [
      "Regression weights for observation 3891\n"
     ]
    },
    {
     "data": {
      "text/html": [
       "<div>\n",
       "<style scoped>\n",
       "    .dataframe tbody tr th:only-of-type {\n",
       "        vertical-align: middle;\n",
       "    }\n",
       "\n",
       "    .dataframe tbody tr th {\n",
       "        vertical-align: top;\n",
       "    }\n",
       "\n",
       "    .dataframe thead th {\n",
       "        text-align: right;\n",
       "    }\n",
       "</style>\n",
       "<table border=\"1\" class=\"dataframe\">\n",
       "  <thead>\n",
       "    <tr style=\"text-align: right;\">\n",
       "      <th></th>\n",
       "      <th>age</th>\n",
       "      <th>gender</th>\n",
       "      <th>income</th>\n",
       "      <th>family_members</th>\n",
       "    </tr>\n",
       "  </thead>\n",
       "  <tbody>\n",
       "    <tr>\n",
       "      <th>X</th>\n",
       "      <td>0.000000e+00</td>\n",
       "      <td>18.00000</td>\n",
       "      <td>18900.000000</td>\n",
       "      <td>1.000000</td>\n",
       "    </tr>\n",
       "    <tr>\n",
       "      <th>X'</th>\n",
       "      <td>2.423687e+03</td>\n",
       "      <td>8530.67819</td>\n",
       "      <td>7022.226587</td>\n",
       "      <td>17530.234685</td>\n",
       "    </tr>\n",
       "    <tr>\n",
       "      <th>recovered X</th>\n",
       "      <td>-2.476057e-12</td>\n",
       "      <td>18.00000</td>\n",
       "      <td>18900.000000</td>\n",
       "      <td>1.000000</td>\n",
       "    </tr>\n",
       "  </tbody>\n",
       "</table>\n",
       "</div>"
      ],
      "text/plain": [
       "                      age      gender        income  family_members\n",
       "X            0.000000e+00    18.00000  18900.000000        1.000000\n",
       "X'           2.423687e+03  8530.67819   7022.226587    17530.234685\n",
       "recovered X -2.476057e-12    18.00000  18900.000000        1.000000"
      ]
     },
     "metadata": {},
     "output_type": "display_data"
    }
   ],
   "source": [
    "# Compare X, X', and recovered X for a few customers\n",
    "# I randomly chose observations 339, 1772, and 3891\n",
    "\n",
    "for n in [339, 1772, 3891]:\n",
    "    print('Regression weights for observation', n)\n",
    "    display(pd.DataFrame({'X': X[n], \"X'\": X_prime[n], 'recovered X': X_recovered[n]}, index=['age', 'gender', 'income', 'family_members']).T)"
   ]
  },
  {
   "cell_type": "code",
   "execution_count": 39,
   "metadata": {},
   "outputs": [
    {
     "name": "stdout",
     "output_type": "stream",
     "text": [
      "Regression weights for observation 460\n"
     ]
    },
    {
     "data": {
      "text/html": [
       "<div>\n",
       "<style scoped>\n",
       "    .dataframe tbody tr th:only-of-type {\n",
       "        vertical-align: middle;\n",
       "    }\n",
       "\n",
       "    .dataframe tbody tr th {\n",
       "        vertical-align: top;\n",
       "    }\n",
       "\n",
       "    .dataframe thead th {\n",
       "        text-align: right;\n",
       "    }\n",
       "</style>\n",
       "<table border=\"1\" class=\"dataframe\">\n",
       "  <thead>\n",
       "    <tr style=\"text-align: right;\">\n",
       "      <th></th>\n",
       "      <th>age</th>\n",
       "      <th>gender</th>\n",
       "      <th>income</th>\n",
       "      <th>family_members</th>\n",
       "    </tr>\n",
       "  </thead>\n",
       "  <tbody>\n",
       "    <tr>\n",
       "      <th>X</th>\n",
       "      <td>1.000000</td>\n",
       "      <td>26.000000</td>\n",
       "      <td>31600.000000</td>\n",
       "      <td>3.000000</td>\n",
       "    </tr>\n",
       "    <tr>\n",
       "      <th>X'</th>\n",
       "      <td>4053.544955</td>\n",
       "      <td>14260.468982</td>\n",
       "      <td>11739.196039</td>\n",
       "      <td>29307.590404</td>\n",
       "    </tr>\n",
       "    <tr>\n",
       "      <th>recovered X</th>\n",
       "      <td>1.000000</td>\n",
       "      <td>26.000000</td>\n",
       "      <td>31600.000000</td>\n",
       "      <td>3.000000</td>\n",
       "    </tr>\n",
       "  </tbody>\n",
       "</table>\n",
       "</div>"
      ],
      "text/plain": [
       "                     age        gender        income  family_members\n",
       "X               1.000000     26.000000  31600.000000        3.000000\n",
       "X'           4053.544955  14260.468982  11739.196039    29307.590404\n",
       "recovered X     1.000000     26.000000  31600.000000        3.000000"
      ]
     },
     "metadata": {},
     "output_type": "display_data"
    }
   ],
   "source": [
    "# Compare X, X', and recovered X for a random customer\n",
    "\n",
    "n = rng.integers(0, len(df))\n",
    "\n",
    "print('Regression weights for observation', n)\n",
    "display(pd.DataFrame({'X': X[n], \"X'\": X_prime[n], 'recovered X': X_recovered[n]}, index=['age', 'gender', 'income', 'family_members']).T)"
   ]
  },
  {
   "cell_type": "markdown",
   "metadata": {},
   "source": [
    "You can probably see that some values are not exactly the same as they are in the original data. What might be the reason for that?"
   ]
  },
  {
   "cell_type": "markdown",
   "metadata": {},
   "source": [
    "The numerical values for the age and income features appear to be identical, but the binary values for the gender feature and the small integer values for the family_members feature sometimes changed very slightly from their original values. I presume those minuscule differences (on the order of $10^{-12}$) result from rounding error during the two computations. "
   ]
  },
  {
   "cell_type": "markdown",
   "metadata": {},
   "source": [
    "## Proof That Data Obfuscation Can Work with LR"
   ]
  },
  {
   "cell_type": "markdown",
   "metadata": {},
   "source": [
    "The regression task has been solved with linear regression in this project. Your next task is to prove _analytically_ that the given obfuscation method won't affect linear regression in terms of predicted values i.e. their values will remain the same. Can you believe that? Well, you don't have to, you should prove it!"
   ]
  },
  {
   "cell_type": "markdown",
   "metadata": {},
   "source": [
    "So, the data is obfuscated and there is $X \\times P$ instead of just $X$ now. Consequently, there are other weights $w_P$ as\n",
    "$$\n",
    "w = (X^T X)^{-1} X^T y \\quad \\Rightarrow \\quad w_P = [(XP)^T XP]^{-1} (XP)^T y\n",
    "$$\n",
    "\n",
    "How would $w$ and $w_P$ be linked if you simplify the formula for $w_P$ above? \n",
    "\n",
    "What would be predicted values with $w_P$? \n",
    "\n",
    "What does that mean for the quality of linear regression if you measure it with RMSE?\n",
    "\n",
    "Check Appendix B Properties of Matrices in the end of the notebook. There are useful formulas in there!\n",
    "\n",
    "No code is necessary in this section, only analytical explanation!"
   ]
  },
  {
   "cell_type": "markdown",
   "metadata": {},
   "source": [
    "**Answer**"
   ]
  },
  {
   "cell_type": "markdown",
   "metadata": {},
   "source": [
    "By simplifying the formula, I found that $w_P = P^{-1} w$. The obfuscated weights are simply the product of the original weights and the inverse of the obfuscation matrix P. \n",
    "\n",
    "Using the $w_P$ weights, $\\hat{y}_P = \\hat{y}$. The predicted values are identical because the $P$ matrix cancels out with its inverse (see below). \n",
    "\n",
    "With identical predicted values, the original and obfuscated linear regression models have identical RMSE scores because those are based on predictions and targets, not weights. "
   ]
  },
  {
   "cell_type": "markdown",
   "metadata": {},
   "source": [
    "**Analytical proof**"
   ]
  },
  {
   "cell_type": "markdown",
   "metadata": {},
   "source": [
    "$$\n",
    "w = (X^T X)^{-1} X^T y \\quad \\Rightarrow \\quad w_P = [(XP)^T XP]^{-1} (XP)^T y\n",
    "$$\n",
    "\n",
    "$$\n",
    "\\begin{aligned}\n",
    "    w_P &= [(XP)^T XP]^{-1} (XP)^T y \\\\\n",
    "        &= [P^T X^T XP]^{-1} P^T X^T y \\\\\n",
    "        &= P^{-1} [X^T X]^{-1} (P^T)^{-1} P^T X^T y \\\\\n",
    "        &= P^{-1} [X^T X]^{-1} I X^T y \\\\\n",
    "        &= P^{-1} [X^T X]^{-1} X^T y \\\\\n",
    "        &= P^{-1} w\n",
    "\\end{aligned}\n",
    "$$\n",
    "\n",
    "$$\n",
    "\\hat{y} = X w \\quad \\Rightarrow \\quad \\hat{y}_P = XP w_P\n",
    "$$\n",
    "\n",
    "$$\n",
    "\\begin{aligned}\n",
    "    \\hat{y}_P &= XP w_P \\\\\n",
    "            &= XP P^{-1} w \\\\\n",
    "            &= X I w \\\\\n",
    "            &= X w \\\\\n",
    "            &= \\hat{y}\n",
    "\\end{aligned}\n",
    "$$"
   ]
  },
  {
   "cell_type": "markdown",
   "metadata": {},
   "source": [
    "## Test Linear Regression With Data Obfuscation"
   ]
  },
  {
   "cell_type": "markdown",
   "metadata": {},
   "source": [
    "Now, let's prove Linear Regression can work computationally with the chosen obfuscation transformation.\n",
    "\n",
    "Build a procedure or a class that runs Linear Regression optionally with the obfuscation. You can use either a ready implementation of Linear Regression from sciki-learn or your own.\n",
    "\n",
    "Run Linear Regression for the original data and the obfuscated one, compare the predicted values and the RMSE, $R^2$ metric values. Is there any difference?"
   ]
  },
  {
   "cell_type": "markdown",
   "metadata": {},
   "source": [
    "**Procedure**\n",
    "\n",
    "- Create a square matrix $P$ of random numbers.\n",
    "- Check that it is invertible. If not, repeat the first point until we get an invertible matrix.\n",
    "- Multiply the feature matrix $X$ by $P$\n",
    "- Use $XP$ as the new feature matrix"
   ]
  },
  {
   "cell_type": "code",
   "execution_count": 40,
   "metadata": {},
   "outputs": [],
   "source": [
    "# Create an obfuscated linear regression model class\n",
    "\n",
    "class MyObfuscatedLinearRegression:\n",
    "    \n",
    "    def __init__(self):\n",
    "        \n",
    "        self.weights = None\n",
    "        self.P = None\n",
    "    \n",
    "    def fit(self, X, y, obfuscate):\n",
    "        \n",
    "        if obfuscate == 1:\n",
    "            det = 0\n",
    "            rng = np.random.default_rng()\n",
    "\n",
    "            while det == 0:\n",
    "                P = rng.random(size=(X.shape[1], X.shape[1]))\n",
    "                det = np.linalg.det(P)\n",
    "                \n",
    "            self.P = P\n",
    "            X = X.dot(P)\n",
    "        \n",
    "        X2 = np.append(np.ones([len(X), 1]), X, axis=1)\n",
    "        self.weights = np.linalg.inv(X2.T.dot(X2)).dot(X2.T).dot(y)\n",
    "\n",
    "    def predict(self, X):\n",
    "\n",
    "        if self.P is not None:\n",
    "            X = X.dot(self.P)\n",
    "        \n",
    "        X2 = np.append(np.ones([len(X), 1]), X, axis=1)\n",
    "        y_pred = X2.dot(self.weights)\n",
    "        \n",
    "        return y_pred"
   ]
  },
  {
   "cell_type": "code",
   "execution_count": 41,
   "metadata": {},
   "outputs": [
    {
     "name": "stdout",
     "output_type": "stream",
     "text": [
      "Regression weights:\n"
     ]
    },
    {
     "data": {
      "text/html": [
       "<div>\n",
       "<style scoped>\n",
       "    .dataframe tbody tr th:only-of-type {\n",
       "        vertical-align: middle;\n",
       "    }\n",
       "\n",
       "    .dataframe tbody tr th {\n",
       "        vertical-align: top;\n",
       "    }\n",
       "\n",
       "    .dataframe thead th {\n",
       "        text-align: right;\n",
       "    }\n",
       "</style>\n",
       "<table border=\"1\" class=\"dataframe\">\n",
       "  <thead>\n",
       "    <tr style=\"text-align: right;\">\n",
       "      <th></th>\n",
       "      <th>intercept</th>\n",
       "      <th>age</th>\n",
       "      <th>gender</th>\n",
       "      <th>income</th>\n",
       "      <th>family_members</th>\n",
       "    </tr>\n",
       "  </thead>\n",
       "  <tbody>\n",
       "    <tr>\n",
       "      <th>obfuscated</th>\n",
       "      <td>-0.943516</td>\n",
       "      <td>2.087071</td>\n",
       "      <td>-3.382117</td>\n",
       "      <td>1.214896e+00</td>\n",
       "      <td>0.466336</td>\n",
       "    </tr>\n",
       "    <tr>\n",
       "      <th>not obfuscated</th>\n",
       "      <td>-0.943539</td>\n",
       "      <td>0.035750</td>\n",
       "      <td>0.016427</td>\n",
       "      <td>-2.607437e-07</td>\n",
       "      <td>-0.011690</td>\n",
       "    </tr>\n",
       "  </tbody>\n",
       "</table>\n",
       "</div>"
      ],
      "text/plain": [
       "                intercept       age    gender        income  family_members\n",
       "obfuscated      -0.943516  2.087071 -3.382117  1.214896e+00        0.466336\n",
       "not obfuscated  -0.943539  0.035750  0.016427 -2.607437e-07       -0.011690"
      ]
     },
     "metadata": {},
     "output_type": "display_data"
    },
    {
     "name": "stdout",
     "output_type": "stream",
     "text": [
      "Regression results:\n"
     ]
    },
    {
     "data": {
      "text/html": [
       "<div>\n",
       "<style scoped>\n",
       "    .dataframe tbody tr th:only-of-type {\n",
       "        vertical-align: middle;\n",
       "    }\n",
       "\n",
       "    .dataframe tbody tr th {\n",
       "        vertical-align: top;\n",
       "    }\n",
       "\n",
       "    .dataframe thead th {\n",
       "        text-align: right;\n",
       "    }\n",
       "</style>\n",
       "<table border=\"1\" class=\"dataframe\">\n",
       "  <thead>\n",
       "    <tr style=\"text-align: right;\">\n",
       "      <th></th>\n",
       "      <th>RMSE</th>\n",
       "      <th>R2</th>\n",
       "    </tr>\n",
       "  </thead>\n",
       "  <tbody>\n",
       "    <tr>\n",
       "      <th>obfuscated</th>\n",
       "      <td>0.343557</td>\n",
       "      <td>0.656146</td>\n",
       "    </tr>\n",
       "    <tr>\n",
       "      <th>not obfuscated</th>\n",
       "      <td>0.343557</td>\n",
       "      <td>0.656146</td>\n",
       "    </tr>\n",
       "  </tbody>\n",
       "</table>\n",
       "</div>"
      ],
      "text/plain": [
       "                    RMSE        R2\n",
       "obfuscated      0.343557  0.656146\n",
       "not obfuscated  0.343557  0.656146"
      ]
     },
     "metadata": {},
     "output_type": "display_data"
    },
    {
     "name": "stdout",
     "output_type": "stream",
     "text": [
      "Regression predictions:\n"
     ]
    },
    {
     "data": {
      "text/html": [
       "<div>\n",
       "<style scoped>\n",
       "    .dataframe tbody tr th:only-of-type {\n",
       "        vertical-align: middle;\n",
       "    }\n",
       "\n",
       "    .dataframe tbody tr th {\n",
       "        vertical-align: top;\n",
       "    }\n",
       "\n",
       "    .dataframe thead th {\n",
       "        text-align: right;\n",
       "    }\n",
       "</style>\n",
       "<table border=\"1\" class=\"dataframe\">\n",
       "  <thead>\n",
       "    <tr style=\"text-align: right;\">\n",
       "      <th></th>\n",
       "      <th>obfuscated</th>\n",
       "      <th>not obfuscated</th>\n",
       "    </tr>\n",
       "  </thead>\n",
       "  <tbody>\n",
       "    <tr>\n",
       "      <th>0</th>\n",
       "      <td>0.179269</td>\n",
       "      <td>0.179266</td>\n",
       "    </tr>\n",
       "    <tr>\n",
       "      <th>1</th>\n",
       "      <td>0.809312</td>\n",
       "      <td>0.809320</td>\n",
       "    </tr>\n",
       "    <tr>\n",
       "      <th>2</th>\n",
       "      <td>0.456129</td>\n",
       "      <td>0.456143</td>\n",
       "    </tr>\n",
       "    <tr>\n",
       "      <th>3</th>\n",
       "      <td>-0.237629</td>\n",
       "      <td>-0.237622</td>\n",
       "    </tr>\n",
       "    <tr>\n",
       "      <th>4</th>\n",
       "      <td>0.465004</td>\n",
       "      <td>0.465002</td>\n",
       "    </tr>\n",
       "    <tr>\n",
       "      <th>...</th>\n",
       "      <td>...</td>\n",
       "      <td>...</td>\n",
       "    </tr>\n",
       "    <tr>\n",
       "      <th>1495</th>\n",
       "      <td>0.084927</td>\n",
       "      <td>0.084932</td>\n",
       "    </tr>\n",
       "    <tr>\n",
       "      <th>1496</th>\n",
       "      <td>-0.073471</td>\n",
       "      <td>-0.073459</td>\n",
       "    </tr>\n",
       "    <tr>\n",
       "      <th>1497</th>\n",
       "      <td>-0.008718</td>\n",
       "      <td>-0.008705</td>\n",
       "    </tr>\n",
       "    <tr>\n",
       "      <th>1498</th>\n",
       "      <td>0.106803</td>\n",
       "      <td>0.106802</td>\n",
       "    </tr>\n",
       "    <tr>\n",
       "      <th>1499</th>\n",
       "      <td>0.445384</td>\n",
       "      <td>0.445392</td>\n",
       "    </tr>\n",
       "  </tbody>\n",
       "</table>\n",
       "<p>1500 rows × 2 columns</p>\n",
       "</div>"
      ],
      "text/plain": [
       "      obfuscated  not obfuscated\n",
       "0       0.179269        0.179266\n",
       "1       0.809312        0.809320\n",
       "2       0.456129        0.456143\n",
       "3      -0.237629       -0.237622\n",
       "4       0.465004        0.465002\n",
       "...          ...             ...\n",
       "1495    0.084927        0.084932\n",
       "1496   -0.073471       -0.073459\n",
       "1497   -0.008718       -0.008705\n",
       "1498    0.106803        0.106802\n",
       "1499    0.445384        0.445392\n",
       "\n",
       "[1500 rows x 2 columns]"
      ]
     },
     "metadata": {},
     "output_type": "display_data"
    }
   ],
   "source": [
    "# Run obfuscated linear regression models with and without obfuscation \n",
    "\n",
    "X = df[['age', 'gender', 'income', 'family_members']].to_numpy()\n",
    "y = df['insurance_benefits'].to_numpy()\n",
    "X_train, X_test, y_train, y_test = train_test_split(X, y, test_size=0.3, random_state=12345)\n",
    "\n",
    "olr = MyObfuscatedLinearRegression()\n",
    "\n",
    "olr.fit(X_train, y_train, 0)\n",
    "weights_not_obf = olr.weights\n",
    "pred_not_obf = olr.predict(X_test)\n",
    "\n",
    "olr.fit(X_train, y_train, 1)\n",
    "weights_obf = olr.weights\n",
    "pred_obf = olr.predict(X_test)\n",
    "\n",
    "results_obf = [math.sqrt(sklearn.metrics.mean_squared_error(y_test, pred_obf)), math.sqrt(sklearn.metrics.r2_score(y_test, pred_obf))]\n",
    "results_not_obf = [math.sqrt(sklearn.metrics.mean_squared_error(y_test, pred_not_obf)), math.sqrt(sklearn.metrics.r2_score(y_test, pred_not_obf))]\n",
    "\n",
    "print('Regression weights:')\n",
    "display(pd.DataFrame({'obfuscated': weights_obf, 'not obfuscated': weights_not_obf}, index=['intercept', 'age', 'gender', 'income', 'family_members']).T)\n",
    "print('Regression results:')\n",
    "display(pd.DataFrame({'obfuscated': results_obf, 'not obfuscated': results_not_obf}, index=['RMSE', 'R2']).T)\n",
    "print('Regression predictions:')\n",
    "display(pd.DataFrame({'obfuscated': pred_obf, 'not obfuscated': pred_not_obf}))"
   ]
  },
  {
   "cell_type": "markdown",
   "metadata": {},
   "source": [
    "The results confirmed the analytical proof above. The obfuscated and unobfuscated linear regression models produced different weights but identical predictions and results (RMSE = 0.34, R2 = 0.66)."
   ]
  },
  {
   "cell_type": "markdown",
   "metadata": {},
   "source": [
    "# Conclusions"
   ]
  },
  {
   "cell_type": "markdown",
   "metadata": {},
   "source": [
    "The goal of this project was to use machine learning to analyze the Sure Tomorrow insurance company's customers. It entailed four tasks: find customers similar to a given customer using k nearest neighbor (kNN) clustering, predict whether a new customer is likely to use any insurance benefits using a kNN classifier, predict the number of insurance benefits likely to be used by a new customer using linear regression, and protect personal client data during the linear regression task. The data were suitable for modeling, lacking any missing values, outliers, or obvious distributional issues. \n",
    "\n",
    "To identify similar users, I employed a kNN algorithm with both scaled and unscaled data and both Euclidean and Manhattan distance metrics. Scaling affected the results because distance (between neighbors) depends on the scale of measurement. Features with larger numbers therefore have more influence on results than those with smaller numbers. Scaling ensures that every feature contributes equally to the distance measure. The distance metrics had some impact, but much less than scaling. Euclidean and Manhattan distances produced very similar lists of nearest neighbors, albeit sometimes with slightly different orders. \n",
    "\n",
    "The classifier model I created from the kNN algorithm was very effective. The kNN classifier with k = 1 and scaled data performed best (F1 = 0.97), followed by the kNN classifier with k = 1 and unscaled data (F1 = 0.61). Both kNN models handily outperformed four random dummy models with various probabilities (0, 0.11, 0.5, and 1) of predicting insurance benefit use, which had uniformly poor scores (F1 = 0, 0.11, 0.17, and 0.21, respectively).  \n",
    "\n",
    "I created a linear regression model from scratch using linear algebra and it predicted the number of insurance benefits reasonably well (RMSE = 0.34, $R^2$ = 0.66). Although the regression weights differed, the performance for scaled and unscaled data were identical because linear regression results are generally invariant to linear transformations. \n",
    "\n",
    "To obfuscate customer data, I multiplied the features by a random invertible matrix before submitting them for linear regression. The original data could be recovered with the random matrix's inverse but not without it, protecting customer privacy. Obfuscation changed the regression weights, but not the predictions or the results of linear regression. I proved that both analytically and in practice. \n",
    "\n",
    "In conclusion, machine learning offers several useful tools for analyzing the Sure Tomorrow insurance company's customer data. Given a prospective customer, it can find similar customers, predict whether they will use any insurance benefits, and predict how many insurance benefits they will likely use while protecting personal data. "
   ]
  },
  {
   "cell_type": "markdown",
   "metadata": {},
   "source": [
    "# Checklist"
   ]
  },
  {
   "cell_type": "markdown",
   "metadata": {},
   "source": [
    "Type 'x' to check. Then press Shift+Enter."
   ]
  },
  {
   "cell_type": "markdown",
   "metadata": {},
   "source": [
    "- [x]  Jupyter Notebook is open\n",
    "- [x]  Code is error free\n",
    "- [x]  The cells are arranged in order of logic and execution\n",
    "- [x]  Task 1 has been performed\n",
    "    - [x]  There is the procedure that can return k similar customers for a given one\n",
    "    - [x]  The procedure is tested for all four proposed combinations\n",
    "    - [x]  The questions re the scaling/distances are answered\n",
    "- [x]  Task 2 has been performed\n",
    "    - [x]  The random classification model is built and tested for all for probability levels\n",
    "    - [x]  The kNN classification model is built and tested for both the original data and the scaled one, the F1 metric is calculated.\n",
    "- [x]  Task 3 has been performed\n",
    "    - [x]  The linear tegression solution is implemented with matrix operations.\n",
    "    - [x]  RMSE is calculated for the implemented solution.\n",
    "- [x]  Task 4 has been performed\n",
    "    - [x]  The data is obfuscated with a random and invertible matrix P\n",
    "    - [x]  The obfuscated data is recoved, few examples are printed out\n",
    "    - [x]  The analytical proof that the transformation does not affect RMSE is provided \n",
    "    - [x]  The computational proof that the transformation does not affect RMSE is provided\n",
    "- [x]  Conclusions have been made"
   ]
  },
  {
   "cell_type": "markdown",
   "metadata": {},
   "source": [
    "# Appendices \n",
    "\n",
    "## Appendix A: Writing Formulas in Jupyter Notebooks"
   ]
  },
  {
   "cell_type": "markdown",
   "metadata": {},
   "source": [
    "You can write formulas in your Jupyter Notebook in a markup language provided by a high-quality publishing system called $\\LaTeX$ (pronounced \"Lah-tech\"), and they will look like formulas in textbooks.\n",
    "\n",
    "To put a formula in a text, put the dollar sign (\\\\$) before and after the formula's text e.g. $\\frac{1}{2} \\times \\frac{3}{2} = \\frac{3}{4}$ or $y = x^2, x \\ge 1$.\n",
    "\n",
    "If a formula should be in its own paragraph, put the double dollar sign (\\\\$\\\\$) before and after the formula text e.g.\n",
    "\n",
    "$$\n",
    "\\bar{x} = \\frac{1}{n}\\sum_{i=1}^{n} x_i.\n",
    "$$\n",
    "\n",
    "The markup language of [LaTeX](https://en.wikipedia.org/wiki/LaTeX) is very popular among people who use formulas in their articles, books and texts. It can be complex but its basics are easy. Check this two page [cheatsheet](http://tug.ctan.org/info/undergradmath/undergradmath.pdf) for learning how to compose the most common formulas."
   ]
  },
  {
   "cell_type": "markdown",
   "metadata": {},
   "source": [
    "## Appendix B: Properties of Matrices"
   ]
  },
  {
   "cell_type": "markdown",
   "metadata": {},
   "source": [
    "Matrices have many properties in Linear Algebra. A few of them are listed here which can help with the analytical proof in this project."
   ]
  },
  {
   "cell_type": "markdown",
   "metadata": {},
   "source": [
    "<table>\n",
    "<tr>\n",
    "<td>Distributivity</td><td>$A(B+C)=AB+AC$</td>\n",
    "</tr>\n",
    "<tr>\n",
    "<td>Non-commutativity</td><td>$AB \\neq BA$</td>\n",
    "</tr>\n",
    "<tr>\n",
    "<td>Associative property of multiplication</td><td>$(AB)C = A(BC)$</td>\n",
    "</tr>\n",
    "<tr>\n",
    "<td>Multiplicative identity property</td><td>$IA = AI = A$</td>\n",
    "</tr>\n",
    "<tr>\n",
    "<td></td><td>$A^{-1}A = AA^{-1} = I$\n",
    "</td>\n",
    "</tr>    \n",
    "<tr>\n",
    "<td></td><td>$(AB)^{-1} = B^{-1}A^{-1}$</td>\n",
    "</tr>    \n",
    "<tr>\n",
    "<td>Reversivity of the transpose of a product of matrices,</td><td>$(AB)^T = B^TA^T$</td>\n",
    "</tr>    \n",
    "</table>"
   ]
  }
 ],
 "metadata": {
  "ExecuteTimeLog": [
   {
    "duration": 2660,
    "start_time": "2025-01-29T07:24:58.755Z"
   },
   {
    "duration": 278,
    "start_time": "2025-01-29T07:25:34.980Z"
   },
   {
    "duration": 15,
    "start_time": "2025-01-29T07:25:38.052Z"
   },
   {
    "duration": 13,
    "start_time": "2025-01-29T07:25:38.674Z"
   },
   {
    "duration": 3,
    "start_time": "2025-01-29T07:26:25.058Z"
   },
   {
    "duration": 9,
    "start_time": "2025-01-29T07:26:25.362Z"
   },
   {
    "duration": 9,
    "start_time": "2025-01-29T07:26:41.345Z"
   },
   {
    "duration": 3,
    "start_time": "2025-01-29T07:29:25.729Z"
   },
   {
    "duration": 3,
    "start_time": "2025-01-29T07:29:33.361Z"
   },
   {
    "duration": 9,
    "start_time": "2025-01-29T07:29:33.744Z"
   },
   {
    "duration": 3,
    "start_time": "2025-01-29T07:30:18.281Z"
   },
   {
    "duration": 6,
    "start_time": "2025-01-29T07:30:19.368Z"
   },
   {
    "duration": 3,
    "start_time": "2025-01-29T07:30:20.175Z"
   },
   {
    "duration": 7,
    "start_time": "2025-01-29T07:30:20.536Z"
   },
   {
    "duration": 8,
    "start_time": "2025-01-29T07:30:21.102Z"
   },
   {
    "duration": 4,
    "start_time": "2025-01-29T07:30:21.726Z"
   },
   {
    "duration": 8,
    "start_time": "2025-01-29T07:30:22.631Z"
   },
   {
    "duration": 424,
    "start_time": "2025-01-29T07:31:01.734Z"
   },
   {
    "duration": 10,
    "start_time": "2025-01-29T07:31:14.563Z"
   },
   {
    "duration": 7,
    "start_time": "2025-01-29T07:31:23.424Z"
   },
   {
    "duration": 3,
    "start_time": "2025-01-29T07:31:24.246Z"
   },
   {
    "duration": 8,
    "start_time": "2025-01-29T07:31:24.951Z"
   },
   {
    "duration": 8,
    "start_time": "2025-01-29T07:31:26.584Z"
   },
   {
    "duration": 5,
    "start_time": "2025-01-29T07:31:42.440Z"
   },
   {
    "duration": 4,
    "start_time": "2025-01-29T07:32:37.896Z"
   },
   {
    "duration": 10,
    "start_time": "2025-01-29T07:32:39.551Z"
   },
   {
    "duration": 7,
    "start_time": "2025-01-29T07:32:45.133Z"
   },
   {
    "duration": 9,
    "start_time": "2025-01-29T07:32:54.599Z"
   },
   {
    "duration": 45,
    "start_time": "2025-01-29T07:32:55.503Z"
   },
   {
    "duration": 6,
    "start_time": "2025-01-29T07:33:11.496Z"
   },
   {
    "duration": 3,
    "start_time": "2025-01-29T07:33:12.118Z"
   },
   {
    "duration": 9,
    "start_time": "2025-01-29T07:33:20.478Z"
   },
   {
    "duration": 4,
    "start_time": "2025-01-29T07:33:22.314Z"
   },
   {
    "duration": 9,
    "start_time": "2025-01-29T07:33:23.062Z"
   },
   {
    "duration": 2678,
    "start_time": "2025-01-30T06:59:20.987Z"
   },
   {
    "duration": 14,
    "start_time": "2025-01-30T06:59:23.667Z"
   },
   {
    "duration": 2,
    "start_time": "2025-01-30T06:59:23.683Z"
   },
   {
    "duration": 14,
    "start_time": "2025-01-30T06:59:23.688Z"
   },
   {
    "duration": 9,
    "start_time": "2025-01-30T06:59:23.705Z"
   },
   {
    "duration": 5,
    "start_time": "2025-01-30T06:59:23.715Z"
   },
   {
    "duration": 8,
    "start_time": "2025-01-30T06:59:23.721Z"
   },
   {
    "duration": 2,
    "start_time": "2025-01-30T06:59:23.731Z"
   },
   {
    "duration": 140,
    "start_time": "2025-01-30T07:00:11.057Z"
   },
   {
    "duration": 11,
    "start_time": "2025-01-30T07:00:27.313Z"
   },
   {
    "duration": 19,
    "start_time": "2025-01-30T07:00:37.465Z"
   },
   {
    "duration": 2955,
    "start_time": "2025-01-31T03:42:01.795Z"
   },
   {
    "duration": 9,
    "start_time": "2025-01-31T03:42:04.752Z"
   },
   {
    "duration": 3,
    "start_time": "2025-01-31T03:42:04.763Z"
   },
   {
    "duration": 11,
    "start_time": "2025-01-31T03:42:04.768Z"
   },
   {
    "duration": 9,
    "start_time": "2025-01-31T03:42:04.781Z"
   },
   {
    "duration": 15,
    "start_time": "2025-01-31T03:42:04.813Z"
   },
   {
    "duration": 8,
    "start_time": "2025-01-31T03:42:04.834Z"
   },
   {
    "duration": 21,
    "start_time": "2025-01-31T03:42:04.844Z"
   },
   {
    "duration": 4,
    "start_time": "2025-01-31T03:42:04.866Z"
   },
   {
    "duration": 320,
    "start_time": "2025-01-31T03:42:12.670Z"
   },
   {
    "duration": 4,
    "start_time": "2025-01-31T03:42:39.458Z"
   },
   {
    "duration": 654,
    "start_time": "2025-01-31T03:42:44.751Z"
   },
   {
    "duration": 722,
    "start_time": "2025-01-31T03:43:46.969Z"
   },
   {
    "duration": 5,
    "start_time": "2025-01-31T03:49:40.446Z"
   },
   {
    "duration": 20,
    "start_time": "2025-01-31T03:50:18.630Z"
   },
   {
    "duration": 36,
    "start_time": "2025-01-31T03:50:23.093Z"
   },
   {
    "duration": 6,
    "start_time": "2025-01-31T03:50:52.182Z"
   },
   {
    "duration": 7,
    "start_time": "2025-01-31T03:52:01.426Z"
   },
   {
    "duration": 6,
    "start_time": "2025-01-31T03:52:32.531Z"
   },
   {
    "duration": 4,
    "start_time": "2025-01-31T03:53:09.349Z"
   },
   {
    "duration": 4,
    "start_time": "2025-01-31T03:53:13.665Z"
   },
   {
    "duration": 4,
    "start_time": "2025-01-31T03:53:29.964Z"
   },
   {
    "duration": 683,
    "start_time": "2025-01-31T03:53:42.171Z"
   },
   {
    "duration": 807,
    "start_time": "2025-01-31T03:54:06.084Z"
   },
   {
    "duration": 23,
    "start_time": "2025-01-31T03:58:40.056Z"
   },
   {
    "duration": 714,
    "start_time": "2025-01-31T03:58:58.887Z"
   },
   {
    "duration": 733,
    "start_time": "2025-01-31T03:59:45.029Z"
   },
   {
    "duration": 5,
    "start_time": "2025-01-31T04:01:18.265Z"
   },
   {
    "duration": 2731,
    "start_time": "2025-02-01T04:45:58.295Z"
   },
   {
    "duration": 12,
    "start_time": "2025-02-01T04:46:01.028Z"
   },
   {
    "duration": 2,
    "start_time": "2025-02-01T04:46:01.042Z"
   },
   {
    "duration": 10,
    "start_time": "2025-02-01T04:46:01.047Z"
   },
   {
    "duration": 8,
    "start_time": "2025-02-01T04:46:01.059Z"
   },
   {
    "duration": 20,
    "start_time": "2025-02-01T04:46:01.069Z"
   },
   {
    "duration": 8,
    "start_time": "2025-02-01T04:46:01.090Z"
   },
   {
    "duration": 21,
    "start_time": "2025-02-01T04:46:01.099Z"
   },
   {
    "duration": 757,
    "start_time": "2025-02-01T04:46:01.122Z"
   },
   {
    "duration": 4,
    "start_time": "2025-02-01T04:46:01.886Z"
   },
   {
    "duration": 5,
    "start_time": "2025-02-01T04:46:25.206Z"
   },
   {
    "duration": 4,
    "start_time": "2025-02-01T04:48:06.951Z"
   },
   {
    "duration": 223,
    "start_time": "2025-02-01T04:49:31.117Z"
   },
   {
    "duration": 25,
    "start_time": "2025-02-01T04:50:37.796Z"
   },
   {
    "duration": 25,
    "start_time": "2025-02-01T04:50:50.845Z"
   },
   {
    "duration": 30,
    "start_time": "2025-02-01T04:51:34.639Z"
   },
   {
    "duration": 4,
    "start_time": "2025-02-01T04:51:55.805Z"
   },
   {
    "duration": 22,
    "start_time": "2025-02-01T04:52:08.333Z"
   },
   {
    "duration": 18,
    "start_time": "2025-02-01T04:52:21.045Z"
   },
   {
    "duration": 9,
    "start_time": "2025-02-01T04:52:58.519Z"
   },
   {
    "duration": 23,
    "start_time": "2025-02-01T04:54:24.734Z"
   },
   {
    "duration": 23,
    "start_time": "2025-02-01T04:55:14.750Z"
   },
   {
    "duration": 2672,
    "start_time": "2025-02-02T05:39:37.176Z"
   },
   {
    "duration": 14,
    "start_time": "2025-02-02T05:39:39.850Z"
   },
   {
    "duration": 4,
    "start_time": "2025-02-02T05:39:39.865Z"
   },
   {
    "duration": 11,
    "start_time": "2025-02-02T05:39:39.872Z"
   },
   {
    "duration": 21,
    "start_time": "2025-02-02T05:39:39.885Z"
   },
   {
    "duration": 4,
    "start_time": "2025-02-02T05:39:39.908Z"
   },
   {
    "duration": 8,
    "start_time": "2025-02-02T05:39:39.913Z"
   },
   {
    "duration": 19,
    "start_time": "2025-02-02T05:39:39.923Z"
   },
   {
    "duration": 727,
    "start_time": "2025-02-02T05:39:39.944Z"
   },
   {
    "duration": 6,
    "start_time": "2025-02-02T05:39:40.673Z"
   },
   {
    "duration": 24,
    "start_time": "2025-02-02T05:39:49.647Z"
   },
   {
    "duration": 24,
    "start_time": "2025-02-02T05:50:35.272Z"
   },
   {
    "duration": 10,
    "start_time": "2025-02-02T05:51:52.241Z"
   },
   {
    "duration": 2,
    "start_time": "2025-02-02T05:51:56.367Z"
   },
   {
    "duration": 9,
    "start_time": "2025-02-02T05:53:40.616Z"
   },
   {
    "duration": 5,
    "start_time": "2025-02-02T05:57:30.797Z"
   },
   {
    "duration": 10,
    "start_time": "2025-02-02T05:57:36.094Z"
   },
   {
    "duration": 5,
    "start_time": "2025-02-02T05:57:41.918Z"
   },
   {
    "duration": 2,
    "start_time": "2025-02-02T05:57:49.693Z"
   },
   {
    "duration": 5,
    "start_time": "2025-02-02T05:58:10.814Z"
   },
   {
    "duration": 415,
    "start_time": "2025-02-02T06:02:00.438Z"
   },
   {
    "duration": 11,
    "start_time": "2025-02-02T06:04:03.588Z"
   },
   {
    "duration": 10,
    "start_time": "2025-02-02T06:04:13.889Z"
   },
   {
    "duration": 11,
    "start_time": "2025-02-02T06:04:29.404Z"
   },
   {
    "duration": 12,
    "start_time": "2025-02-02T06:04:47.518Z"
   },
   {
    "duration": 10,
    "start_time": "2025-02-02T06:05:15.566Z"
   },
   {
    "duration": 11,
    "start_time": "2025-02-02T06:05:21.124Z"
   },
   {
    "duration": 9,
    "start_time": "2025-02-02T06:05:32.684Z"
   },
   {
    "duration": 12,
    "start_time": "2025-02-02T06:05:39.419Z"
   },
   {
    "duration": 10,
    "start_time": "2025-02-02T06:05:51.442Z"
   },
   {
    "duration": 2,
    "start_time": "2025-02-02T06:06:06.147Z"
   },
   {
    "duration": 13,
    "start_time": "2025-02-02T06:07:59.159Z"
   },
   {
    "duration": 4,
    "start_time": "2025-02-02T06:09:05.179Z"
   },
   {
    "duration": 3,
    "start_time": "2025-02-02T06:09:17.024Z"
   },
   {
    "duration": 10,
    "start_time": "2025-02-02T06:10:06.634Z"
   },
   {
    "duration": 48,
    "start_time": "2025-02-02T06:10:18.539Z"
   },
   {
    "duration": 12,
    "start_time": "2025-02-02T06:13:23.361Z"
   },
   {
    "duration": 10,
    "start_time": "2025-02-02T06:14:47.041Z"
   },
   {
    "duration": 4,
    "start_time": "2025-02-02T06:15:02.513Z"
   },
   {
    "duration": 13,
    "start_time": "2025-02-02T06:15:09.304Z"
   },
   {
    "duration": 11,
    "start_time": "2025-02-02T06:15:40.799Z"
   },
   {
    "duration": 2,
    "start_time": "2025-02-02T06:16:08.882Z"
   },
   {
    "duration": 8,
    "start_time": "2025-02-02T06:16:08.886Z"
   },
   {
    "duration": 3,
    "start_time": "2025-02-02T06:16:08.896Z"
   },
   {
    "duration": 8,
    "start_time": "2025-02-02T06:16:08.900Z"
   },
   {
    "duration": 8,
    "start_time": "2025-02-02T06:16:08.911Z"
   },
   {
    "duration": 3,
    "start_time": "2025-02-02T06:16:08.920Z"
   },
   {
    "duration": 8,
    "start_time": "2025-02-02T06:16:08.925Z"
   },
   {
    "duration": 18,
    "start_time": "2025-02-02T06:16:08.934Z"
   },
   {
    "duration": 656,
    "start_time": "2025-02-02T06:16:08.953Z"
   },
   {
    "duration": 5,
    "start_time": "2025-02-02T06:16:09.611Z"
   },
   {
    "duration": 27,
    "start_time": "2025-02-02T06:16:09.618Z"
   },
   {
    "duration": 2580,
    "start_time": "2025-02-02T06:16:09.646Z"
   },
   {
    "duration": 3,
    "start_time": "2025-02-02T06:16:12.227Z"
   },
   {
    "duration": 3,
    "start_time": "2025-02-02T06:16:12.234Z"
   },
   {
    "duration": 12,
    "start_time": "2025-02-02T06:16:12.239Z"
   },
   {
    "duration": 11,
    "start_time": "2025-02-02T06:16:41.039Z"
   },
   {
    "duration": 8,
    "start_time": "2025-02-02T06:19:55.158Z"
   },
   {
    "duration": 8,
    "start_time": "2025-02-02T06:19:55.622Z"
   },
   {
    "duration": 9,
    "start_time": "2025-02-02T06:20:05.413Z"
   },
   {
    "duration": 6,
    "start_time": "2025-02-02T06:29:45.043Z"
   },
   {
    "duration": 11,
    "start_time": "2025-02-02T06:29:55.363Z"
   },
   {
    "duration": 4,
    "start_time": "2025-02-02T06:30:15.814Z"
   },
   {
    "duration": 14,
    "start_time": "2025-02-02T06:30:20.323Z"
   },
   {
    "duration": 13,
    "start_time": "2025-02-02T06:30:54.891Z"
   },
   {
    "duration": 59,
    "start_time": "2025-02-02T06:32:10.122Z"
   },
   {
    "duration": 2679,
    "start_time": "2025-02-04T00:34:37.601Z"
   },
   {
    "duration": 59,
    "start_time": "2025-02-04T00:34:40.282Z"
   },
   {
    "duration": 3,
    "start_time": "2025-02-04T00:34:40.343Z"
   },
   {
    "duration": 10,
    "start_time": "2025-02-04T00:34:40.348Z"
   },
   {
    "duration": 9,
    "start_time": "2025-02-04T00:34:40.369Z"
   },
   {
    "duration": 5,
    "start_time": "2025-02-04T00:34:40.380Z"
   },
   {
    "duration": 8,
    "start_time": "2025-02-04T00:34:40.386Z"
   },
   {
    "duration": 19,
    "start_time": "2025-02-04T00:34:40.396Z"
   },
   {
    "duration": 688,
    "start_time": "2025-02-04T00:34:40.417Z"
   },
   {
    "duration": 5,
    "start_time": "2025-02-04T00:34:41.108Z"
   },
   {
    "duration": 25,
    "start_time": "2025-02-04T00:34:41.115Z"
   },
   {
    "duration": 2580,
    "start_time": "2025-02-04T00:34:41.142Z"
   },
   {
    "duration": 2,
    "start_time": "2025-02-04T00:34:43.725Z"
   },
   {
    "duration": 4,
    "start_time": "2025-02-04T00:34:43.729Z"
   },
   {
    "duration": 10,
    "start_time": "2025-02-04T00:34:43.734Z"
   },
   {
    "duration": 8,
    "start_time": "2025-02-04T00:34:43.745Z"
   },
   {
    "duration": 74,
    "start_time": "2025-02-04T00:49:27.853Z"
   },
   {
    "duration": 60,
    "start_time": "2025-02-04T00:50:05.787Z"
   },
   {
    "duration": 59,
    "start_time": "2025-02-04T00:52:38.366Z"
   },
   {
    "duration": 8,
    "start_time": "2025-02-04T00:53:22.188Z"
   },
   {
    "duration": 789,
    "start_time": "2025-02-04T00:53:28.555Z"
   },
   {
    "duration": 8,
    "start_time": "2025-02-04T00:53:39.662Z"
   },
   {
    "duration": 4,
    "start_time": "2025-02-04T00:53:44.611Z"
   },
   {
    "duration": 13,
    "start_time": "2025-02-04T00:53:50.294Z"
   },
   {
    "duration": 13,
    "start_time": "2025-02-04T00:53:59.681Z"
   },
   {
    "duration": 5,
    "start_time": "2025-02-04T00:54:04.767Z"
   },
   {
    "duration": 4,
    "start_time": "2025-02-04T00:54:08.453Z"
   },
   {
    "duration": 6,
    "start_time": "2025-02-04T00:54:15.542Z"
   },
   {
    "duration": 152,
    "start_time": "2025-02-04T00:54:36.494Z"
   },
   {
    "duration": 61,
    "start_time": "2025-02-04T00:54:55.949Z"
   },
   {
    "duration": 59,
    "start_time": "2025-02-04T00:55:53.955Z"
   },
   {
    "duration": 59,
    "start_time": "2025-02-04T00:56:58.011Z"
   },
   {
    "duration": 41,
    "start_time": "2025-02-04T01:11:43.981Z"
   },
   {
    "duration": 8,
    "start_time": "2025-02-04T01:11:58.470Z"
   },
   {
    "duration": 7,
    "start_time": "2025-02-04T01:12:17.061Z"
   },
   {
    "duration": 3,
    "start_time": "2025-02-04T01:14:43.307Z"
   },
   {
    "duration": 5,
    "start_time": "2025-02-04T01:14:59.707Z"
   },
   {
    "duration": 6,
    "start_time": "2025-02-04T01:15:06.678Z"
   },
   {
    "duration": 4,
    "start_time": "2025-02-04T01:15:13.670Z"
   },
   {
    "duration": 5,
    "start_time": "2025-02-04T01:15:45.928Z"
   },
   {
    "duration": 5,
    "start_time": "2025-02-04T01:19:03.801Z"
   },
   {
    "duration": 6,
    "start_time": "2025-02-04T01:19:13.672Z"
   },
   {
    "duration": 9,
    "start_time": "2025-02-04T01:19:20.482Z"
   },
   {
    "duration": 8,
    "start_time": "2025-02-04T01:20:24.257Z"
   },
   {
    "duration": 5,
    "start_time": "2025-02-04T01:20:42.186Z"
   },
   {
    "duration": 3,
    "start_time": "2025-02-04T01:20:56.026Z"
   },
   {
    "duration": 6,
    "start_time": "2025-02-04T01:20:56.528Z"
   },
   {
    "duration": 3,
    "start_time": "2025-02-04T01:21:42.598Z"
   },
   {
    "duration": 3,
    "start_time": "2025-02-04T01:21:50.281Z"
   },
   {
    "duration": 5,
    "start_time": "2025-02-04T01:22:17.784Z"
   },
   {
    "duration": 137,
    "start_time": "2025-02-04T01:24:55.260Z"
   },
   {
    "duration": 23,
    "start_time": "2025-02-04T01:25:16.376Z"
   },
   {
    "duration": 20,
    "start_time": "2025-02-04T01:25:41.918Z"
   },
   {
    "duration": 18,
    "start_time": "2025-02-04T01:38:21.099Z"
   },
   {
    "duration": 7,
    "start_time": "2025-02-04T01:38:37.274Z"
   },
   {
    "duration": 9,
    "start_time": "2025-02-04T01:38:55.439Z"
   },
   {
    "duration": 4,
    "start_time": "2025-02-04T01:39:01.153Z"
   },
   {
    "duration": 160,
    "start_time": "2025-02-04T01:40:34.505Z"
   },
   {
    "duration": 10,
    "start_time": "2025-02-04T01:40:59.029Z"
   },
   {
    "duration": 76,
    "start_time": "2025-02-04T01:41:04.399Z"
   },
   {
    "duration": 9,
    "start_time": "2025-02-04T01:41:21.250Z"
   },
   {
    "duration": 7,
    "start_time": "2025-02-04T01:43:20.064Z"
   },
   {
    "duration": 9,
    "start_time": "2025-02-04T01:43:25.329Z"
   },
   {
    "duration": 9,
    "start_time": "2025-02-04T01:43:40.175Z"
   },
   {
    "duration": 9,
    "start_time": "2025-02-04T01:43:44.703Z"
   },
   {
    "duration": 9,
    "start_time": "2025-02-04T01:44:02.743Z"
   },
   {
    "duration": 8,
    "start_time": "2025-02-04T01:44:28.529Z"
   },
   {
    "duration": 9,
    "start_time": "2025-02-04T01:46:37.312Z"
   },
   {
    "duration": 12,
    "start_time": "2025-02-04T01:46:42.951Z"
   },
   {
    "duration": 17,
    "start_time": "2025-02-04T01:48:01.844Z"
   },
   {
    "duration": 11,
    "start_time": "2025-02-04T01:51:07.208Z"
   },
   {
    "duration": 13,
    "start_time": "2025-02-04T01:51:29.182Z"
   },
   {
    "duration": 14,
    "start_time": "2025-02-04T01:51:58.941Z"
   },
   {
    "duration": 23,
    "start_time": "2025-02-04T01:56:01.722Z"
   },
   {
    "duration": 84,
    "start_time": "2025-02-04T01:56:11.820Z"
   },
   {
    "duration": 14,
    "start_time": "2025-02-04T01:56:40.052Z"
   },
   {
    "duration": 5,
    "start_time": "2025-02-04T02:00:24.788Z"
   },
   {
    "duration": 8,
    "start_time": "2025-02-04T02:00:25.233Z"
   },
   {
    "duration": 3,
    "start_time": "2025-02-04T02:00:31.801Z"
   },
   {
    "duration": 2,
    "start_time": "2025-02-04T02:00:32.323Z"
   },
   {
    "duration": 21,
    "start_time": "2025-02-04T02:00:33.056Z"
   },
   {
    "duration": 21,
    "start_time": "2025-02-04T02:00:41.163Z"
   },
   {
    "duration": 12,
    "start_time": "2025-02-04T02:00:42.661Z"
   },
   {
    "duration": 12,
    "start_time": "2025-02-04T02:01:10.274Z"
   },
   {
    "duration": 10,
    "start_time": "2025-02-04T02:01:27.466Z"
   },
   {
    "duration": 14,
    "start_time": "2025-02-04T02:01:41.369Z"
   },
   {
    "duration": 1033,
    "start_time": "2025-02-04T02:04:16.374Z"
   },
   {
    "duration": 7,
    "start_time": "2025-02-04T02:04:17.409Z"
   },
   {
    "duration": 3,
    "start_time": "2025-02-04T02:04:17.418Z"
   },
   {
    "duration": 11,
    "start_time": "2025-02-04T02:04:17.423Z"
   },
   {
    "duration": 9,
    "start_time": "2025-02-04T02:04:17.435Z"
   },
   {
    "duration": 25,
    "start_time": "2025-02-04T02:04:17.445Z"
   },
   {
    "duration": 8,
    "start_time": "2025-02-04T02:04:17.471Z"
   },
   {
    "duration": 18,
    "start_time": "2025-02-04T02:04:17.481Z"
   },
   {
    "duration": 660,
    "start_time": "2025-02-04T02:04:17.500Z"
   },
   {
    "duration": 10,
    "start_time": "2025-02-04T02:04:18.163Z"
   },
   {
    "duration": 24,
    "start_time": "2025-02-04T02:04:18.175Z"
   },
   {
    "duration": 2533,
    "start_time": "2025-02-04T02:04:18.201Z"
   },
   {
    "duration": 3,
    "start_time": "2025-02-04T02:04:20.736Z"
   },
   {
    "duration": 5,
    "start_time": "2025-02-04T02:04:20.740Z"
   },
   {
    "duration": 8,
    "start_time": "2025-02-04T02:04:20.747Z"
   },
   {
    "duration": 8,
    "start_time": "2025-02-04T02:04:20.756Z"
   },
   {
    "duration": 57,
    "start_time": "2025-02-04T02:04:20.766Z"
   },
   {
    "duration": 81,
    "start_time": "2025-02-04T02:04:20.824Z"
   },
   {
    "duration": 4,
    "start_time": "2025-02-04T02:04:20.907Z"
   },
   {
    "duration": 6,
    "start_time": "2025-02-04T02:04:20.913Z"
   },
   {
    "duration": 3,
    "start_time": "2025-02-04T02:04:20.921Z"
   },
   {
    "duration": 2,
    "start_time": "2025-02-04T02:04:20.926Z"
   },
   {
    "duration": 50,
    "start_time": "2025-02-04T02:04:20.930Z"
   },
   {
    "duration": 8,
    "start_time": "2025-02-04T02:04:20.982Z"
   },
   {
    "duration": 11,
    "start_time": "2025-02-04T02:04:20.992Z"
   },
   {
    "duration": 2674,
    "start_time": "2025-02-04T08:57:28.592Z"
   },
   {
    "duration": 14,
    "start_time": "2025-02-04T08:57:31.268Z"
   },
   {
    "duration": 4,
    "start_time": "2025-02-04T08:57:31.283Z"
   },
   {
    "duration": 10,
    "start_time": "2025-02-04T08:57:31.290Z"
   },
   {
    "duration": 8,
    "start_time": "2025-02-04T08:57:31.302Z"
   },
   {
    "duration": 5,
    "start_time": "2025-02-04T08:57:31.311Z"
   },
   {
    "duration": 8,
    "start_time": "2025-02-04T08:57:31.317Z"
   },
   {
    "duration": 18,
    "start_time": "2025-02-04T08:57:31.327Z"
   },
   {
    "duration": 752,
    "start_time": "2025-02-04T08:57:31.347Z"
   },
   {
    "duration": 5,
    "start_time": "2025-02-04T08:57:32.103Z"
   },
   {
    "duration": 23,
    "start_time": "2025-02-04T08:57:32.110Z"
   },
   {
    "duration": 2644,
    "start_time": "2025-02-04T08:57:32.135Z"
   },
   {
    "duration": 3,
    "start_time": "2025-02-04T08:57:34.781Z"
   },
   {
    "duration": 4,
    "start_time": "2025-02-04T08:57:34.786Z"
   },
   {
    "duration": 9,
    "start_time": "2025-02-04T08:57:34.792Z"
   },
   {
    "duration": 8,
    "start_time": "2025-02-04T08:57:34.803Z"
   },
   {
    "duration": 88,
    "start_time": "2025-02-04T08:57:34.812Z"
   },
   {
    "duration": 59,
    "start_time": "2025-02-04T08:57:34.902Z"
   },
   {
    "duration": 26,
    "start_time": "2025-02-04T08:57:34.963Z"
   },
   {
    "duration": 6,
    "start_time": "2025-02-04T08:57:34.991Z"
   },
   {
    "duration": 3,
    "start_time": "2025-02-04T08:57:34.999Z"
   },
   {
    "duration": 3,
    "start_time": "2025-02-04T08:57:35.004Z"
   },
   {
    "duration": 20,
    "start_time": "2025-02-04T08:57:35.008Z"
   },
   {
    "duration": 9,
    "start_time": "2025-02-04T08:57:35.030Z"
   },
   {
    "duration": 51,
    "start_time": "2025-02-04T08:57:35.040Z"
   },
   {
    "duration": 11,
    "start_time": "2025-02-04T09:06:01.601Z"
   },
   {
    "duration": 13,
    "start_time": "2025-02-04T09:08:24.566Z"
   },
   {
    "duration": 13,
    "start_time": "2025-02-04T09:08:35.391Z"
   },
   {
    "duration": 12,
    "start_time": "2025-02-04T09:08:43.952Z"
   },
   {
    "duration": 11,
    "start_time": "2025-02-04T09:08:47.680Z"
   },
   {
    "duration": 13,
    "start_time": "2025-02-04T09:08:53.258Z"
   },
   {
    "duration": 78,
    "start_time": "2025-02-04T09:10:42.487Z"
   },
   {
    "duration": 538,
    "start_time": "2025-02-04T09:13:40.990Z"
   },
   {
    "duration": 113,
    "start_time": "2025-02-04T09:14:12.519Z"
   },
   {
    "duration": 72,
    "start_time": "2025-02-04T09:15:48.766Z"
   },
   {
    "duration": 96,
    "start_time": "2025-02-04T09:17:13.085Z"
   },
   {
    "duration": 73,
    "start_time": "2025-02-04T09:19:23.501Z"
   },
   {
    "duration": 85,
    "start_time": "2025-02-04T09:19:50.898Z"
   },
   {
    "duration": 77,
    "start_time": "2025-02-04T09:21:11.741Z"
   },
   {
    "duration": 59,
    "start_time": "2025-02-04T09:21:38.369Z"
   },
   {
    "duration": 603,
    "start_time": "2025-02-04T09:22:11.467Z"
   },
   {
    "duration": 83,
    "start_time": "2025-02-04T09:22:18.963Z"
   },
   {
    "duration": 584,
    "start_time": "2025-02-04T09:22:31.433Z"
   },
   {
    "duration": 557,
    "start_time": "2025-02-04T09:24:25.902Z"
   },
   {
    "duration": 719,
    "start_time": "2025-02-04T09:26:34.667Z"
   },
   {
    "duration": 318,
    "start_time": "2025-02-04T09:28:53.113Z"
   },
   {
    "duration": 344,
    "start_time": "2025-02-04T09:29:18.295Z"
   },
   {
    "duration": 17,
    "start_time": "2025-02-04T09:30:18.067Z"
   },
   {
    "duration": 51,
    "start_time": "2025-02-04T09:32:45.905Z"
   },
   {
    "duration": 95,
    "start_time": "2025-02-04T09:36:52.746Z"
   },
   {
    "duration": 75,
    "start_time": "2025-02-04T09:37:49.030Z"
   },
   {
    "duration": 89,
    "start_time": "2025-02-04T09:38:02.166Z"
   },
   {
    "duration": 81,
    "start_time": "2025-02-04T09:39:50.086Z"
   },
   {
    "duration": 6,
    "start_time": "2025-02-04T09:42:24.092Z"
   },
   {
    "duration": 5,
    "start_time": "2025-02-04T09:42:34.307Z"
   },
   {
    "duration": 1014,
    "start_time": "2025-02-04T09:50:20.153Z"
   },
   {
    "duration": 8,
    "start_time": "2025-02-04T09:50:21.171Z"
   },
   {
    "duration": 8,
    "start_time": "2025-02-04T09:50:21.180Z"
   },
   {
    "duration": 11,
    "start_time": "2025-02-04T09:50:21.191Z"
   },
   {
    "duration": 9,
    "start_time": "2025-02-04T09:50:21.204Z"
   },
   {
    "duration": 5,
    "start_time": "2025-02-04T09:50:21.215Z"
   },
   {
    "duration": 8,
    "start_time": "2025-02-04T09:50:21.222Z"
   },
   {
    "duration": 56,
    "start_time": "2025-02-04T09:50:21.231Z"
   },
   {
    "duration": 673,
    "start_time": "2025-02-04T09:50:21.289Z"
   },
   {
    "duration": 5,
    "start_time": "2025-02-04T09:50:21.964Z"
   },
   {
    "duration": 38,
    "start_time": "2025-02-04T09:50:21.971Z"
   },
   {
    "duration": 2660,
    "start_time": "2025-02-04T09:50:22.011Z"
   },
   {
    "duration": 3,
    "start_time": "2025-02-04T09:50:24.673Z"
   },
   {
    "duration": 4,
    "start_time": "2025-02-04T09:50:24.678Z"
   },
   {
    "duration": 9,
    "start_time": "2025-02-04T09:50:41.995Z"
   },
   {
    "duration": 10,
    "start_time": "2025-02-04T09:50:42.443Z"
   },
   {
    "duration": 8,
    "start_time": "2025-02-04T09:50:55.035Z"
   },
   {
    "duration": 2,
    "start_time": "2025-02-04T09:51:20.490Z"
   },
   {
    "duration": 440,
    "start_time": "2025-02-04T09:51:45.836Z"
   },
   {
    "duration": 8,
    "start_time": "2025-02-04T09:51:46.298Z"
   },
   {
    "duration": 9,
    "start_time": "2025-02-04T09:52:17.963Z"
   },
   {
    "duration": 21,
    "start_time": "2025-02-04T09:52:25.738Z"
   },
   {
    "duration": 11,
    "start_time": "2025-02-04T09:52:30.178Z"
   },
   {
    "duration": 13,
    "start_time": "2025-02-04T09:52:39.859Z"
   },
   {
    "duration": 44,
    "start_time": "2025-02-04T09:54:27.018Z"
   },
   {
    "duration": 3,
    "start_time": "2025-02-04T09:54:38.971Z"
   },
   {
    "duration": 19,
    "start_time": "2025-02-04T09:54:48.359Z"
   },
   {
    "duration": 5,
    "start_time": "2025-02-04T09:55:09.813Z"
   },
   {
    "duration": 14,
    "start_time": "2025-02-04T09:55:11.738Z"
   },
   {
    "duration": 1016,
    "start_time": "2025-02-04T09:58:46.175Z"
   },
   {
    "duration": 7,
    "start_time": "2025-02-04T09:58:47.194Z"
   },
   {
    "duration": 3,
    "start_time": "2025-02-04T09:58:47.203Z"
   },
   {
    "duration": 10,
    "start_time": "2025-02-04T09:58:47.208Z"
   },
   {
    "duration": 9,
    "start_time": "2025-02-04T09:58:47.220Z"
   },
   {
    "duration": 5,
    "start_time": "2025-02-04T09:58:47.231Z"
   },
   {
    "duration": 8,
    "start_time": "2025-02-04T09:58:47.237Z"
   },
   {
    "duration": 57,
    "start_time": "2025-02-04T09:58:47.247Z"
   },
   {
    "duration": 686,
    "start_time": "2025-02-04T09:58:47.306Z"
   },
   {
    "duration": 5,
    "start_time": "2025-02-04T09:58:47.996Z"
   },
   {
    "duration": 25,
    "start_time": "2025-02-04T09:58:48.002Z"
   },
   {
    "duration": 2629,
    "start_time": "2025-02-04T09:58:48.030Z"
   },
   {
    "duration": 3,
    "start_time": "2025-02-04T09:58:50.661Z"
   },
   {
    "duration": 4,
    "start_time": "2025-02-04T09:58:50.666Z"
   },
   {
    "duration": 9,
    "start_time": "2025-02-04T09:58:50.672Z"
   },
   {
    "duration": 9,
    "start_time": "2025-02-04T09:58:50.682Z"
   },
   {
    "duration": 61,
    "start_time": "2025-02-04T09:58:50.692Z"
   },
   {
    "duration": 88,
    "start_time": "2025-02-04T09:58:50.756Z"
   },
   {
    "duration": 6,
    "start_time": "2025-02-04T09:58:50.846Z"
   },
   {
    "duration": 34,
    "start_time": "2025-02-04T09:58:50.853Z"
   },
   {
    "duration": 3,
    "start_time": "2025-02-04T09:58:50.890Z"
   },
   {
    "duration": 3,
    "start_time": "2025-02-04T09:58:50.895Z"
   },
   {
    "duration": 19,
    "start_time": "2025-02-04T09:58:50.900Z"
   },
   {
    "duration": 9,
    "start_time": "2025-02-04T10:02:10.826Z"
   },
   {
    "duration": 12,
    "start_time": "2025-02-04T10:02:15.257Z"
   },
   {
    "duration": 290,
    "start_time": "2025-02-04T10:02:19.106Z"
   },
   {
    "duration": 5,
    "start_time": "2025-02-04T10:02:40.312Z"
   },
   {
    "duration": 321,
    "start_time": "2025-02-04T10:02:45.073Z"
   },
   {
    "duration": 17,
    "start_time": "2025-02-04T10:02:56.649Z"
   },
   {
    "duration": 365,
    "start_time": "2025-02-04T10:03:16.496Z"
   },
   {
    "duration": 52,
    "start_time": "2025-02-04T10:03:52.552Z"
   },
   {
    "duration": 78,
    "start_time": "2025-02-04T10:04:01.231Z"
   },
   {
    "duration": 1031,
    "start_time": "2025-02-04T10:04:56.004Z"
   },
   {
    "duration": 8,
    "start_time": "2025-02-04T10:04:57.038Z"
   },
   {
    "duration": 3,
    "start_time": "2025-02-04T10:04:57.048Z"
   },
   {
    "duration": 12,
    "start_time": "2025-02-04T10:04:57.052Z"
   },
   {
    "duration": 21,
    "start_time": "2025-02-04T10:04:57.066Z"
   },
   {
    "duration": 4,
    "start_time": "2025-02-04T10:04:57.089Z"
   },
   {
    "duration": 8,
    "start_time": "2025-02-04T10:04:57.094Z"
   },
   {
    "duration": 20,
    "start_time": "2025-02-04T10:04:57.104Z"
   },
   {
    "duration": 676,
    "start_time": "2025-02-04T10:04:57.126Z"
   },
   {
    "duration": 5,
    "start_time": "2025-02-04T10:04:57.804Z"
   },
   {
    "duration": 25,
    "start_time": "2025-02-04T10:04:57.811Z"
   },
   {
    "duration": 2598,
    "start_time": "2025-02-04T10:04:57.837Z"
   },
   {
    "duration": 2,
    "start_time": "2025-02-04T10:05:00.437Z"
   },
   {
    "duration": 4,
    "start_time": "2025-02-04T10:05:00.444Z"
   },
   {
    "duration": 8,
    "start_time": "2025-02-04T10:05:00.450Z"
   },
   {
    "duration": 7,
    "start_time": "2025-02-04T10:05:00.460Z"
   },
   {
    "duration": 71,
    "start_time": "2025-02-04T10:05:00.469Z"
   },
   {
    "duration": 82,
    "start_time": "2025-02-04T10:05:00.541Z"
   },
   {
    "duration": 5,
    "start_time": "2025-02-04T10:05:00.624Z"
   },
   {
    "duration": 7,
    "start_time": "2025-02-04T10:05:00.630Z"
   },
   {
    "duration": 3,
    "start_time": "2025-02-04T10:05:00.639Z"
   },
   {
    "duration": 3,
    "start_time": "2025-02-04T10:05:00.644Z"
   },
   {
    "duration": 50,
    "start_time": "2025-02-04T10:05:00.649Z"
   },
   {
    "duration": 8,
    "start_time": "2025-02-04T10:05:00.701Z"
   },
   {
    "duration": 12,
    "start_time": "2025-02-04T10:05:00.711Z"
   },
   {
    "duration": 326,
    "start_time": "2025-02-04T10:05:00.724Z"
   },
   {
    "duration": 379,
    "start_time": "2025-02-04T10:05:01.052Z"
   },
   {
    "duration": 100,
    "start_time": "2025-02-04T10:05:01.432Z"
   },
   {
    "duration": 2782,
    "start_time": "2025-02-05T09:12:26.166Z"
   },
   {
    "duration": 69,
    "start_time": "2025-02-05T09:12:28.950Z"
   },
   {
    "duration": 4,
    "start_time": "2025-02-05T09:12:29.021Z"
   },
   {
    "duration": 10,
    "start_time": "2025-02-05T09:12:29.028Z"
   },
   {
    "duration": 8,
    "start_time": "2025-02-05T09:12:29.040Z"
   },
   {
    "duration": 4,
    "start_time": "2025-02-05T09:12:29.050Z"
   },
   {
    "duration": 7,
    "start_time": "2025-02-05T09:12:29.056Z"
   },
   {
    "duration": 50,
    "start_time": "2025-02-05T09:12:29.066Z"
   },
   {
    "duration": 652,
    "start_time": "2025-02-05T09:12:29.117Z"
   },
   {
    "duration": 5,
    "start_time": "2025-02-05T09:12:29.774Z"
   },
   {
    "duration": 37,
    "start_time": "2025-02-05T09:12:29.781Z"
   },
   {
    "duration": 2621,
    "start_time": "2025-02-05T09:12:29.820Z"
   },
   {
    "duration": 2,
    "start_time": "2025-02-05T09:12:32.444Z"
   },
   {
    "duration": 5,
    "start_time": "2025-02-05T09:12:32.448Z"
   },
   {
    "duration": 9,
    "start_time": "2025-02-05T09:12:32.454Z"
   },
   {
    "duration": 8,
    "start_time": "2025-02-05T09:12:32.464Z"
   },
   {
    "duration": 69,
    "start_time": "2025-02-05T09:12:32.473Z"
   },
   {
    "duration": 73,
    "start_time": "2025-02-05T09:12:32.544Z"
   },
   {
    "duration": 4,
    "start_time": "2025-02-05T09:12:32.619Z"
   },
   {
    "duration": 7,
    "start_time": "2025-02-05T09:12:32.625Z"
   },
   {
    "duration": 3,
    "start_time": "2025-02-05T09:12:32.633Z"
   },
   {
    "duration": 3,
    "start_time": "2025-02-05T09:12:32.638Z"
   },
   {
    "duration": 18,
    "start_time": "2025-02-05T09:12:32.643Z"
   },
   {
    "duration": 46,
    "start_time": "2025-02-05T09:12:32.663Z"
   },
   {
    "duration": 11,
    "start_time": "2025-02-05T09:12:32.711Z"
   },
   {
    "duration": 288,
    "start_time": "2025-02-05T09:12:32.723Z"
   },
   {
    "duration": 358,
    "start_time": "2025-02-05T09:12:33.013Z"
   },
   {
    "duration": 87,
    "start_time": "2025-02-05T09:12:33.375Z"
   },
   {
    "duration": 321,
    "start_time": "2025-02-05T09:38:31.747Z"
   },
   {
    "duration": 3,
    "start_time": "2025-02-05T09:56:47.896Z"
   },
   {
    "duration": 4,
    "start_time": "2025-02-05T09:56:48.197Z"
   },
   {
    "duration": 4,
    "start_time": "2025-02-05T09:56:49.392Z"
   },
   {
    "duration": 3,
    "start_time": "2025-02-05T09:56:49.645Z"
   },
   {
    "duration": 438,
    "start_time": "2025-02-05T09:57:19.948Z"
   },
   {
    "duration": 3,
    "start_time": "2025-02-05T09:58:02.574Z"
   },
   {
    "duration": 3,
    "start_time": "2025-02-05T09:58:03.081Z"
   },
   {
    "duration": 49,
    "start_time": "2025-02-05T09:58:04.164Z"
   },
   {
    "duration": 4,
    "start_time": "2025-02-05T10:00:11.013Z"
   },
   {
    "duration": 3,
    "start_time": "2025-02-05T10:00:13.149Z"
   },
   {
    "duration": 35,
    "start_time": "2025-02-05T10:00:13.997Z"
   },
   {
    "duration": 3,
    "start_time": "2025-02-05T10:02:03.750Z"
   },
   {
    "duration": 8,
    "start_time": "2025-02-05T10:02:12.198Z"
   },
   {
    "duration": 19,
    "start_time": "2025-02-05T10:08:17.723Z"
   },
   {
    "duration": 5,
    "start_time": "2025-02-05T10:08:27.124Z"
   },
   {
    "duration": 6,
    "start_time": "2025-02-05T10:08:55.902Z"
   },
   {
    "duration": 16,
    "start_time": "2025-02-05T10:11:40.987Z"
   },
   {
    "duration": 9,
    "start_time": "2025-02-05T10:12:30.721Z"
   },
   {
    "duration": 10,
    "start_time": "2025-02-05T10:12:35.683Z"
   },
   {
    "duration": 3,
    "start_time": "2025-02-05T10:14:20.354Z"
   },
   {
    "duration": 10,
    "start_time": "2025-02-05T10:14:23.880Z"
   },
   {
    "duration": 4,
    "start_time": "2025-02-05T10:14:25.760Z"
   },
   {
    "duration": 8,
    "start_time": "2025-02-05T10:14:27.671Z"
   },
   {
    "duration": 3,
    "start_time": "2025-02-05T10:14:37.426Z"
   },
   {
    "duration": 7,
    "start_time": "2025-02-05T10:15:00.818Z"
   },
   {
    "duration": 3,
    "start_time": "2025-02-05T10:15:01.320Z"
   },
   {
    "duration": 7,
    "start_time": "2025-02-05T10:15:01.747Z"
   },
   {
    "duration": 4,
    "start_time": "2025-02-05T10:15:02.190Z"
   },
   {
    "duration": 5,
    "start_time": "2025-02-05T10:15:33.746Z"
   },
   {
    "duration": 17,
    "start_time": "2025-02-05T10:17:38.633Z"
   },
   {
    "duration": 8,
    "start_time": "2025-02-05T10:17:39.257Z"
   },
   {
    "duration": 2,
    "start_time": "2025-02-05T10:17:43.630Z"
   },
   {
    "duration": 4,
    "start_time": "2025-02-05T10:17:54.518Z"
   },
   {
    "duration": 12,
    "start_time": "2025-02-05T10:18:04.839Z"
   },
   {
    "duration": 9,
    "start_time": "2025-02-05T10:18:05.279Z"
   },
   {
    "duration": 3,
    "start_time": "2025-02-05T10:18:05.887Z"
   },
   {
    "duration": 3,
    "start_time": "2025-02-05T10:18:29.998Z"
   },
   {
    "duration": 8,
    "start_time": "2025-02-05T10:20:34.745Z"
   },
   {
    "duration": 4,
    "start_time": "2025-02-05T10:20:47.072Z"
   },
   {
    "duration": 4,
    "start_time": "2025-02-05T10:20:57.630Z"
   },
   {
    "duration": 4,
    "start_time": "2025-02-05T10:23:37.647Z"
   },
   {
    "duration": 986,
    "start_time": "2025-02-05T10:24:02.905Z"
   },
   {
    "duration": 10,
    "start_time": "2025-02-05T10:24:03.893Z"
   },
   {
    "duration": 5,
    "start_time": "2025-02-05T10:24:03.905Z"
   },
   {
    "duration": 11,
    "start_time": "2025-02-05T10:24:03.911Z"
   },
   {
    "duration": 8,
    "start_time": "2025-02-05T10:24:03.925Z"
   },
   {
    "duration": 4,
    "start_time": "2025-02-05T10:24:03.935Z"
   },
   {
    "duration": 8,
    "start_time": "2025-02-05T10:24:03.941Z"
   },
   {
    "duration": 19,
    "start_time": "2025-02-05T10:24:03.950Z"
   },
   {
    "duration": 686,
    "start_time": "2025-02-05T10:24:03.971Z"
   },
   {
    "duration": 5,
    "start_time": "2025-02-05T10:24:04.658Z"
   },
   {
    "duration": 23,
    "start_time": "2025-02-05T10:24:04.665Z"
   },
   {
    "duration": 2489,
    "start_time": "2025-02-05T10:24:04.689Z"
   },
   {
    "duration": 3,
    "start_time": "2025-02-05T10:24:07.181Z"
   },
   {
    "duration": 6,
    "start_time": "2025-02-05T10:24:07.188Z"
   },
   {
    "duration": 11,
    "start_time": "2025-02-05T10:24:07.196Z"
   },
   {
    "duration": 12,
    "start_time": "2025-02-05T10:24:07.209Z"
   },
   {
    "duration": 62,
    "start_time": "2025-02-05T10:24:07.223Z"
   },
   {
    "duration": 84,
    "start_time": "2025-02-05T10:24:07.286Z"
   },
   {
    "duration": 6,
    "start_time": "2025-02-05T10:24:07.372Z"
   },
   {
    "duration": 32,
    "start_time": "2025-02-05T10:24:07.380Z"
   },
   {
    "duration": 3,
    "start_time": "2025-02-05T10:24:07.415Z"
   },
   {
    "duration": 5,
    "start_time": "2025-02-05T10:24:07.419Z"
   },
   {
    "duration": 19,
    "start_time": "2025-02-05T10:24:07.426Z"
   },
   {
    "duration": 10,
    "start_time": "2025-02-05T10:24:07.446Z"
   },
   {
    "duration": 315,
    "start_time": "2025-02-05T10:24:07.458Z"
   },
   {
    "duration": 362,
    "start_time": "2025-02-05T10:24:07.775Z"
   },
   {
    "duration": 94,
    "start_time": "2025-02-05T10:24:08.139Z"
   },
   {
    "duration": 4,
    "start_time": "2025-02-05T10:24:08.235Z"
   },
   {
    "duration": 3,
    "start_time": "2025-02-05T10:24:08.241Z"
   },
   {
    "duration": 12,
    "start_time": "2025-02-05T10:24:08.246Z"
   },
   {
    "duration": 56,
    "start_time": "2025-02-05T10:24:08.259Z"
   },
   {
    "duration": 8,
    "start_time": "2025-02-05T10:24:16.034Z"
   },
   {
    "duration": 9,
    "start_time": "2025-02-05T10:25:04.994Z"
   },
   {
    "duration": 9,
    "start_time": "2025-02-05T10:25:10.866Z"
   },
   {
    "duration": 3,
    "start_time": "2025-02-05T10:27:47.255Z"
   },
   {
    "duration": 10,
    "start_time": "2025-02-05T10:27:54.231Z"
   },
   {
    "duration": 9,
    "start_time": "2025-02-05T10:27:54.810Z"
   },
   {
    "duration": 8,
    "start_time": "2025-02-05T10:28:29.968Z"
   },
   {
    "duration": 7,
    "start_time": "2025-02-05T10:28:30.288Z"
   },
   {
    "duration": 4,
    "start_time": "2025-02-05T10:50:04.608Z"
   },
   {
    "duration": 4,
    "start_time": "2025-02-05T10:50:44.433Z"
   },
   {
    "duration": 4,
    "start_time": "2025-02-05T10:50:51.610Z"
   },
   {
    "duration": 326,
    "start_time": "2025-02-05T10:51:57.056Z"
   },
   {
    "duration": 4,
    "start_time": "2025-02-05T10:52:09.776Z"
   },
   {
    "duration": 6,
    "start_time": "2025-02-05T10:52:28.097Z"
   },
   {
    "duration": 3,
    "start_time": "2025-02-05T10:52:42.247Z"
   },
   {
    "duration": 15,
    "start_time": "2025-02-05T10:52:56.655Z"
   },
   {
    "duration": 4,
    "start_time": "2025-02-05T10:53:07.873Z"
   },
   {
    "duration": 4,
    "start_time": "2025-02-05T10:53:26.345Z"
   },
   {
    "duration": 4,
    "start_time": "2025-02-05T10:54:13.536Z"
   },
   {
    "duration": 4,
    "start_time": "2025-02-05T10:54:19.097Z"
   },
   {
    "duration": 4,
    "start_time": "2025-02-05T10:54:23.918Z"
   },
   {
    "duration": 3,
    "start_time": "2025-02-05T10:55:19.878Z"
   },
   {
    "duration": 9,
    "start_time": "2025-02-05T10:55:41.408Z"
   },
   {
    "duration": 18,
    "start_time": "2025-02-05T10:55:51.350Z"
   },
   {
    "duration": 8,
    "start_time": "2025-02-05T10:56:19.126Z"
   },
   {
    "duration": 20,
    "start_time": "2025-02-05T10:56:25.366Z"
   },
   {
    "duration": 14,
    "start_time": "2025-02-05T10:58:41.640Z"
   },
   {
    "duration": 7,
    "start_time": "2025-02-05T10:58:50.095Z"
   },
   {
    "duration": 7,
    "start_time": "2025-02-05T11:02:11.572Z"
   },
   {
    "duration": 9,
    "start_time": "2025-02-05T11:03:13.439Z"
   },
   {
    "duration": 11,
    "start_time": "2025-02-05T11:03:21.573Z"
   },
   {
    "duration": 7,
    "start_time": "2025-02-05T11:03:22.075Z"
   },
   {
    "duration": 9,
    "start_time": "2025-02-05T11:03:22.555Z"
   },
   {
    "duration": 4,
    "start_time": "2025-02-05T11:04:14.995Z"
   },
   {
    "duration": 16,
    "start_time": "2025-02-05T11:04:20.258Z"
   },
   {
    "duration": 8,
    "start_time": "2025-02-05T11:07:10.025Z"
   },
   {
    "duration": 1001,
    "start_time": "2025-02-05T11:12:09.972Z"
   },
   {
    "duration": 8,
    "start_time": "2025-02-05T11:12:10.975Z"
   },
   {
    "duration": 2,
    "start_time": "2025-02-05T11:12:10.985Z"
   },
   {
    "duration": 20,
    "start_time": "2025-02-05T11:12:10.990Z"
   },
   {
    "duration": 8,
    "start_time": "2025-02-05T11:12:11.012Z"
   },
   {
    "duration": 4,
    "start_time": "2025-02-05T11:12:11.022Z"
   },
   {
    "duration": 7,
    "start_time": "2025-02-05T11:12:11.028Z"
   },
   {
    "duration": 19,
    "start_time": "2025-02-05T11:12:11.037Z"
   },
   {
    "duration": 1522,
    "start_time": "2025-02-05T11:12:11.057Z"
   },
   {
    "duration": 0,
    "start_time": "2025-02-05T11:12:12.581Z"
   },
   {
    "duration": 0,
    "start_time": "2025-02-05T11:12:12.582Z"
   },
   {
    "duration": 0,
    "start_time": "2025-02-05T11:12:12.583Z"
   },
   {
    "duration": 0,
    "start_time": "2025-02-05T11:12:12.585Z"
   },
   {
    "duration": 0,
    "start_time": "2025-02-05T11:12:12.586Z"
   },
   {
    "duration": 0,
    "start_time": "2025-02-05T11:12:12.587Z"
   },
   {
    "duration": 0,
    "start_time": "2025-02-05T11:12:12.588Z"
   },
   {
    "duration": 0,
    "start_time": "2025-02-05T11:12:12.589Z"
   },
   {
    "duration": 0,
    "start_time": "2025-02-05T11:12:12.609Z"
   },
   {
    "duration": 0,
    "start_time": "2025-02-05T11:12:12.610Z"
   },
   {
    "duration": 0,
    "start_time": "2025-02-05T11:12:12.612Z"
   },
   {
    "duration": 0,
    "start_time": "2025-02-05T11:12:12.613Z"
   },
   {
    "duration": 0,
    "start_time": "2025-02-05T11:12:12.615Z"
   },
   {
    "duration": 0,
    "start_time": "2025-02-05T11:12:12.616Z"
   },
   {
    "duration": 0,
    "start_time": "2025-02-05T11:12:12.618Z"
   },
   {
    "duration": 0,
    "start_time": "2025-02-05T11:12:12.621Z"
   },
   {
    "duration": 0,
    "start_time": "2025-02-05T11:12:12.622Z"
   },
   {
    "duration": 0,
    "start_time": "2025-02-05T11:12:12.624Z"
   },
   {
    "duration": 0,
    "start_time": "2025-02-05T11:12:12.625Z"
   },
   {
    "duration": 0,
    "start_time": "2025-02-05T11:12:12.627Z"
   },
   {
    "duration": 0,
    "start_time": "2025-02-05T11:12:12.628Z"
   },
   {
    "duration": 0,
    "start_time": "2025-02-05T11:12:12.629Z"
   },
   {
    "duration": 0,
    "start_time": "2025-02-05T11:12:12.631Z"
   },
   {
    "duration": 0,
    "start_time": "2025-02-05T11:12:12.632Z"
   },
   {
    "duration": 0,
    "start_time": "2025-02-05T11:12:12.634Z"
   },
   {
    "duration": 0,
    "start_time": "2025-02-05T11:12:12.636Z"
   },
   {
    "duration": 997,
    "start_time": "2025-02-05T11:12:56.305Z"
   },
   {
    "duration": 8,
    "start_time": "2025-02-05T11:12:57.305Z"
   },
   {
    "duration": 3,
    "start_time": "2025-02-05T11:12:57.314Z"
   },
   {
    "duration": 12,
    "start_time": "2025-02-05T11:12:57.320Z"
   },
   {
    "duration": 8,
    "start_time": "2025-02-05T11:12:57.333Z"
   },
   {
    "duration": 4,
    "start_time": "2025-02-05T11:12:57.343Z"
   },
   {
    "duration": 7,
    "start_time": "2025-02-05T11:12:57.349Z"
   },
   {
    "duration": 61,
    "start_time": "2025-02-05T11:12:57.358Z"
   },
   {
    "duration": 669,
    "start_time": "2025-02-05T11:12:57.421Z"
   },
   {
    "duration": 5,
    "start_time": "2025-02-05T11:12:58.094Z"
   },
   {
    "duration": 24,
    "start_time": "2025-02-05T11:12:58.109Z"
   },
   {
    "duration": 2566,
    "start_time": "2025-02-05T11:12:58.135Z"
   },
   {
    "duration": 3,
    "start_time": "2025-02-05T11:13:00.703Z"
   },
   {
    "duration": 4,
    "start_time": "2025-02-05T11:13:00.708Z"
   },
   {
    "duration": 8,
    "start_time": "2025-02-05T11:13:00.713Z"
   },
   {
    "duration": 7,
    "start_time": "2025-02-05T11:13:00.723Z"
   },
   {
    "duration": 84,
    "start_time": "2025-02-05T11:13:00.731Z"
   },
   {
    "duration": 58,
    "start_time": "2025-02-05T11:13:00.817Z"
   },
   {
    "duration": 5,
    "start_time": "2025-02-05T11:13:00.876Z"
   },
   {
    "duration": 6,
    "start_time": "2025-02-05T11:13:00.909Z"
   },
   {
    "duration": 3,
    "start_time": "2025-02-05T11:13:00.917Z"
   },
   {
    "duration": 3,
    "start_time": "2025-02-05T11:13:00.922Z"
   },
   {
    "duration": 20,
    "start_time": "2025-02-05T11:13:00.926Z"
   },
   {
    "duration": 8,
    "start_time": "2025-02-05T11:13:00.948Z"
   },
   {
    "duration": 357,
    "start_time": "2025-02-05T11:13:00.958Z"
   },
   {
    "duration": 397,
    "start_time": "2025-02-05T11:13:01.316Z"
   },
   {
    "duration": 100,
    "start_time": "2025-02-05T11:13:01.715Z"
   },
   {
    "duration": 3,
    "start_time": "2025-02-05T11:13:01.820Z"
   },
   {
    "duration": 4,
    "start_time": "2025-02-05T11:13:01.825Z"
   },
   {
    "duration": 11,
    "start_time": "2025-02-05T11:13:01.831Z"
   },
   {
    "duration": 66,
    "start_time": "2025-02-05T11:13:01.843Z"
   },
   {
    "duration": 14,
    "start_time": "2025-02-05T11:13:01.911Z"
   },
   {
    "duration": 61,
    "start_time": "2025-02-05T11:21:41.790Z"
   },
   {
    "duration": 4,
    "start_time": "2025-02-05T11:23:41.927Z"
   },
   {
    "duration": 2,
    "start_time": "2025-02-05T11:23:42.467Z"
   },
   {
    "duration": 3,
    "start_time": "2025-02-05T11:23:43.543Z"
   },
   {
    "duration": 4,
    "start_time": "2025-02-05T11:27:30.100Z"
   },
   {
    "duration": 3,
    "start_time": "2025-02-05T11:27:32.844Z"
   },
   {
    "duration": 3,
    "start_time": "2025-02-05T11:27:35.227Z"
   },
   {
    "duration": 4,
    "start_time": "2025-02-05T11:27:37.426Z"
   },
   {
    "duration": 3,
    "start_time": "2025-02-05T11:27:39.275Z"
   },
   {
    "duration": 341,
    "start_time": "2025-02-05T11:27:51.322Z"
   },
   {
    "duration": 63,
    "start_time": "2025-02-05T11:28:04.538Z"
   },
   {
    "duration": 64,
    "start_time": "2025-02-05T11:28:07.458Z"
   },
   {
    "duration": 1055,
    "start_time": "2025-02-05T11:28:43.928Z"
   },
   {
    "duration": 8,
    "start_time": "2025-02-05T11:28:44.985Z"
   },
   {
    "duration": 4,
    "start_time": "2025-02-05T11:28:44.995Z"
   },
   {
    "duration": 14,
    "start_time": "2025-02-05T11:28:45.002Z"
   },
   {
    "duration": 8,
    "start_time": "2025-02-05T11:28:45.018Z"
   },
   {
    "duration": 4,
    "start_time": "2025-02-05T11:28:45.027Z"
   },
   {
    "duration": 7,
    "start_time": "2025-02-05T11:28:45.033Z"
   },
   {
    "duration": 18,
    "start_time": "2025-02-05T11:28:45.042Z"
   },
   {
    "duration": 706,
    "start_time": "2025-02-05T11:28:45.061Z"
   },
   {
    "duration": 6,
    "start_time": "2025-02-05T11:28:45.770Z"
   },
   {
    "duration": 2575,
    "start_time": "2025-02-05T11:28:45.778Z"
   },
   {
    "duration": 2,
    "start_time": "2025-02-05T11:28:48.355Z"
   },
   {
    "duration": 4,
    "start_time": "2025-02-05T11:28:48.359Z"
   },
   {
    "duration": 9,
    "start_time": "2025-02-05T11:28:48.364Z"
   },
   {
    "duration": 8,
    "start_time": "2025-02-05T11:28:48.374Z"
   },
   {
    "duration": 2,
    "start_time": "2025-02-05T11:28:48.384Z"
   },
   {
    "duration": 77,
    "start_time": "2025-02-05T11:28:48.388Z"
   },
   {
    "duration": 80,
    "start_time": "2025-02-05T11:28:48.467Z"
   },
   {
    "duration": 5,
    "start_time": "2025-02-05T11:28:48.549Z"
   },
   {
    "duration": 8,
    "start_time": "2025-02-05T11:28:48.555Z"
   },
   {
    "duration": 3,
    "start_time": "2025-02-05T11:28:48.565Z"
   },
   {
    "duration": 3,
    "start_time": "2025-02-05T11:28:48.569Z"
   },
   {
    "duration": 48,
    "start_time": "2025-02-05T11:28:48.574Z"
   },
   {
    "duration": 8,
    "start_time": "2025-02-05T11:28:48.624Z"
   },
   {
    "duration": 311,
    "start_time": "2025-02-05T11:28:48.633Z"
   },
   {
    "duration": 364,
    "start_time": "2025-02-05T11:28:48.945Z"
   },
   {
    "duration": 82,
    "start_time": "2025-02-05T11:28:49.310Z"
   },
   {
    "duration": 4,
    "start_time": "2025-02-05T11:28:49.408Z"
   },
   {
    "duration": 2,
    "start_time": "2025-02-05T11:28:49.415Z"
   },
   {
    "duration": 10,
    "start_time": "2025-02-05T11:28:49.419Z"
   },
   {
    "duration": 10,
    "start_time": "2025-02-05T11:28:49.430Z"
   },
   {
    "duration": 79,
    "start_time": "2025-02-05T11:28:49.441Z"
   },
   {
    "duration": 3,
    "start_time": "2025-02-05T11:29:43.240Z"
   },
   {
    "duration": 3,
    "start_time": "2025-02-05T11:29:43.557Z"
   },
   {
    "duration": 3,
    "start_time": "2025-02-05T11:29:44.118Z"
   },
   {
    "duration": 4,
    "start_time": "2025-02-05T11:30:03.318Z"
   },
   {
    "duration": 4,
    "start_time": "2025-02-05T11:30:56.879Z"
   },
   {
    "duration": 4,
    "start_time": "2025-02-05T11:31:08.716Z"
   },
   {
    "duration": 4,
    "start_time": "2025-02-05T11:31:12.990Z"
   },
   {
    "duration": 4,
    "start_time": "2025-02-05T11:31:49.221Z"
   },
   {
    "duration": 7,
    "start_time": "2025-02-05T11:34:59.980Z"
   },
   {
    "duration": 9,
    "start_time": "2025-02-05T11:35:08.501Z"
   },
   {
    "duration": 2,
    "start_time": "2025-02-05T11:35:11.021Z"
   },
   {
    "duration": 7,
    "start_time": "2025-02-05T11:35:11.955Z"
   },
   {
    "duration": 3,
    "start_time": "2025-02-05T11:35:14.539Z"
   },
   {
    "duration": 6,
    "start_time": "2025-02-05T11:35:15.332Z"
   },
   {
    "duration": 4,
    "start_time": "2025-02-05T11:36:14.892Z"
   },
   {
    "duration": 318,
    "start_time": "2025-02-05T11:36:19.684Z"
   },
   {
    "duration": 4,
    "start_time": "2025-02-05T11:36:24.317Z"
   },
   {
    "duration": 6,
    "start_time": "2025-02-05T11:37:39.508Z"
   },
   {
    "duration": 5,
    "start_time": "2025-02-05T11:38:28.605Z"
   },
   {
    "duration": 3,
    "start_time": "2025-02-05T11:38:36.394Z"
   },
   {
    "duration": 6,
    "start_time": "2025-02-05T11:38:39.581Z"
   },
   {
    "duration": 3,
    "start_time": "2025-02-05T11:38:56.197Z"
   },
   {
    "duration": 3,
    "start_time": "2025-02-05T11:38:56.579Z"
   },
   {
    "duration": 4,
    "start_time": "2025-02-05T11:39:00.912Z"
   },
   {
    "duration": 13,
    "start_time": "2025-02-05T11:39:01.794Z"
   },
   {
    "duration": 4,
    "start_time": "2025-02-05T11:39:14.461Z"
   },
   {
    "duration": 3,
    "start_time": "2025-02-05T11:39:35.707Z"
   },
   {
    "duration": 3,
    "start_time": "2025-02-05T11:39:38.508Z"
   },
   {
    "duration": 7,
    "start_time": "2025-02-05T11:39:39.357Z"
   },
   {
    "duration": 7,
    "start_time": "2025-02-05T11:39:40.819Z"
   },
   {
    "duration": 8,
    "start_time": "2025-02-05T11:40:23.467Z"
   },
   {
    "duration": 8,
    "start_time": "2025-02-05T11:40:48.147Z"
   },
   {
    "duration": 4,
    "start_time": "2025-02-05T11:41:08.843Z"
   },
   {
    "duration": 4,
    "start_time": "2025-02-05T11:41:16.116Z"
   },
   {
    "duration": 6,
    "start_time": "2025-02-05T11:41:26.004Z"
   },
   {
    "duration": 6,
    "start_time": "2025-02-05T11:42:47.514Z"
   },
   {
    "duration": 35,
    "start_time": "2025-02-05T11:44:50.011Z"
   },
   {
    "duration": 12,
    "start_time": "2025-02-05T11:44:58.890Z"
   },
   {
    "duration": 17,
    "start_time": "2025-02-05T11:45:36.002Z"
   },
   {
    "duration": 17,
    "start_time": "2025-02-05T11:46:10.739Z"
   },
   {
    "duration": 17,
    "start_time": "2025-02-05T11:46:17.521Z"
   },
   {
    "duration": 18,
    "start_time": "2025-02-05T11:46:26.949Z"
   },
   {
    "duration": 14,
    "start_time": "2025-02-05T11:49:50.376Z"
   },
   {
    "duration": 81,
    "start_time": "2025-02-05T11:51:59.025Z"
   },
   {
    "duration": 8,
    "start_time": "2025-02-05T11:54:06.514Z"
   },
   {
    "duration": 4,
    "start_time": "2025-02-05T11:54:11.341Z"
   },
   {
    "duration": 4,
    "start_time": "2025-02-05T11:54:14.022Z"
   },
   {
    "duration": 19,
    "start_time": "2025-02-05T11:54:20.926Z"
   },
   {
    "duration": 16,
    "start_time": "2025-02-05T11:54:45.030Z"
   },
   {
    "duration": 14,
    "start_time": "2025-02-05T11:54:55.405Z"
   },
   {
    "duration": 3,
    "start_time": "2025-02-05T11:55:09.358Z"
   },
   {
    "duration": 15,
    "start_time": "2025-02-05T11:55:16.164Z"
   },
   {
    "duration": 15,
    "start_time": "2025-02-05T11:55:22.494Z"
   },
   {
    "duration": 4,
    "start_time": "2025-02-05T11:55:59.366Z"
   },
   {
    "duration": 4,
    "start_time": "2025-02-05T11:56:18.270Z"
   },
   {
    "duration": 19,
    "start_time": "2025-02-05T11:57:19.182Z"
   },
   {
    "duration": 4,
    "start_time": "2025-02-05T11:58:26.270Z"
   },
   {
    "duration": 26,
    "start_time": "2025-02-05T11:59:41.073Z"
   },
   {
    "duration": 4,
    "start_time": "2025-02-05T12:07:30.427Z"
   },
   {
    "duration": 9,
    "start_time": "2025-02-05T12:09:21.811Z"
   },
   {
    "duration": 4,
    "start_time": "2025-02-05T12:09:52.793Z"
   },
   {
    "duration": 5,
    "start_time": "2025-02-05T12:10:07.291Z"
   },
   {
    "duration": 3,
    "start_time": "2025-02-05T12:10:20.296Z"
   },
   {
    "duration": 8,
    "start_time": "2025-02-05T12:10:27.098Z"
   },
   {
    "duration": 3,
    "start_time": "2025-02-05T12:11:57.600Z"
   },
   {
    "duration": 474,
    "start_time": "2025-02-05T12:12:35.388Z"
   },
   {
    "duration": 8,
    "start_time": "2025-02-05T12:12:49.240Z"
   },
   {
    "duration": 8,
    "start_time": "2025-02-05T12:12:53.593Z"
   },
   {
    "duration": 9,
    "start_time": "2025-02-05T12:13:05.432Z"
   },
   {
    "duration": 4,
    "start_time": "2025-02-05T12:14:12.182Z"
   },
   {
    "duration": 7,
    "start_time": "2025-02-05T12:14:20.319Z"
   },
   {
    "duration": 8,
    "start_time": "2025-02-05T12:14:38.262Z"
   },
   {
    "duration": 10,
    "start_time": "2025-02-05T12:18:21.912Z"
   },
   {
    "duration": 10,
    "start_time": "2025-02-05T12:18:45.190Z"
   },
   {
    "duration": 5,
    "start_time": "2025-02-05T12:19:20.997Z"
   },
   {
    "duration": 5,
    "start_time": "2025-02-05T12:19:28.455Z"
   },
   {
    "duration": 9,
    "start_time": "2025-02-05T12:19:37.031Z"
   },
   {
    "duration": 9,
    "start_time": "2025-02-05T12:19:43.470Z"
   },
   {
    "duration": 9,
    "start_time": "2025-02-05T12:19:47.860Z"
   },
   {
    "duration": 8,
    "start_time": "2025-02-05T12:19:55.519Z"
   },
   {
    "duration": 3,
    "start_time": "2025-02-05T12:19:56.781Z"
   },
   {
    "duration": 9,
    "start_time": "2025-02-05T12:20:04.703Z"
   },
   {
    "duration": 15,
    "start_time": "2025-02-05T12:24:31.790Z"
   },
   {
    "duration": 9,
    "start_time": "2025-02-05T12:24:40.876Z"
   },
   {
    "duration": 5,
    "start_time": "2025-02-05T12:25:01.296Z"
   },
   {
    "duration": 6,
    "start_time": "2025-02-05T12:25:22.317Z"
   },
   {
    "duration": 4,
    "start_time": "2025-02-05T12:29:04.827Z"
   },
   {
    "duration": 4,
    "start_time": "2025-02-05T12:29:13.228Z"
   },
   {
    "duration": 4,
    "start_time": "2025-02-05T12:29:20.955Z"
   },
   {
    "duration": 4,
    "start_time": "2025-02-05T12:29:30.745Z"
   },
   {
    "duration": 8,
    "start_time": "2025-02-05T12:30:32.831Z"
   },
   {
    "duration": 18,
    "start_time": "2025-02-05T12:31:06.339Z"
   },
   {
    "duration": 20,
    "start_time": "2025-02-05T12:32:17.449Z"
   },
   {
    "duration": 9,
    "start_time": "2025-02-05T12:33:02.924Z"
   },
   {
    "duration": 9,
    "start_time": "2025-02-05T12:33:15.809Z"
   },
   {
    "duration": 9,
    "start_time": "2025-02-05T12:33:19.275Z"
   },
   {
    "duration": 9,
    "start_time": "2025-02-05T12:33:23.218Z"
   },
   {
    "duration": 22,
    "start_time": "2025-02-05T12:33:42.970Z"
   },
   {
    "duration": 20,
    "start_time": "2025-02-05T12:34:01.084Z"
   },
   {
    "duration": 8,
    "start_time": "2025-02-05T12:34:10.443Z"
   },
   {
    "duration": 986,
    "start_time": "2025-02-05T12:34:51.654Z"
   },
   {
    "duration": 8,
    "start_time": "2025-02-05T12:34:52.642Z"
   },
   {
    "duration": 3,
    "start_time": "2025-02-05T12:34:52.651Z"
   },
   {
    "duration": 10,
    "start_time": "2025-02-05T12:34:52.656Z"
   },
   {
    "duration": 9,
    "start_time": "2025-02-05T12:34:52.668Z"
   },
   {
    "duration": 4,
    "start_time": "2025-02-05T12:34:52.679Z"
   },
   {
    "duration": 32,
    "start_time": "2025-02-05T12:34:52.685Z"
   },
   {
    "duration": 18,
    "start_time": "2025-02-05T12:34:52.719Z"
   },
   {
    "duration": 662,
    "start_time": "2025-02-05T12:34:52.738Z"
   },
   {
    "duration": 5,
    "start_time": "2025-02-05T12:34:53.408Z"
   },
   {
    "duration": 2515,
    "start_time": "2025-02-05T12:34:53.414Z"
   },
   {
    "duration": 3,
    "start_time": "2025-02-05T12:34:55.931Z"
   },
   {
    "duration": 4,
    "start_time": "2025-02-05T12:34:55.936Z"
   },
   {
    "duration": 8,
    "start_time": "2025-02-05T12:34:55.941Z"
   },
   {
    "duration": 8,
    "start_time": "2025-02-05T12:34:55.950Z"
   },
   {
    "duration": 2,
    "start_time": "2025-02-05T12:34:55.959Z"
   },
   {
    "duration": 71,
    "start_time": "2025-02-05T12:34:55.963Z"
   },
   {
    "duration": 74,
    "start_time": "2025-02-05T12:34:56.036Z"
   },
   {
    "duration": 5,
    "start_time": "2025-02-05T12:34:56.112Z"
   },
   {
    "duration": 7,
    "start_time": "2025-02-05T12:34:56.118Z"
   },
   {
    "duration": 3,
    "start_time": "2025-02-05T12:34:56.126Z"
   },
   {
    "duration": 3,
    "start_time": "2025-02-05T12:34:56.131Z"
   },
   {
    "duration": 19,
    "start_time": "2025-02-05T12:34:56.135Z"
   },
   {
    "duration": 7,
    "start_time": "2025-02-05T12:34:56.156Z"
   },
   {
    "duration": 325,
    "start_time": "2025-02-05T12:34:56.165Z"
   },
   {
    "duration": 362,
    "start_time": "2025-02-05T12:34:56.493Z"
   },
   {
    "duration": 85,
    "start_time": "2025-02-05T12:34:56.856Z"
   },
   {
    "duration": 3,
    "start_time": "2025-02-05T12:34:56.945Z"
   },
   {
    "duration": 3,
    "start_time": "2025-02-05T12:34:56.950Z"
   },
   {
    "duration": 13,
    "start_time": "2025-02-05T12:34:56.954Z"
   },
   {
    "duration": 9,
    "start_time": "2025-02-05T12:34:57.009Z"
   },
   {
    "duration": 88,
    "start_time": "2025-02-05T12:34:57.023Z"
   },
   {
    "duration": 4,
    "start_time": "2025-02-05T12:34:57.115Z"
   },
   {
    "duration": 3,
    "start_time": "2025-02-05T12:34:57.120Z"
   },
   {
    "duration": 3,
    "start_time": "2025-02-05T12:34:57.125Z"
   },
   {
    "duration": 4,
    "start_time": "2025-02-05T12:34:57.129Z"
   },
   {
    "duration": 93,
    "start_time": "2025-02-05T12:34:57.135Z"
   },
   {
    "duration": 4,
    "start_time": "2025-02-05T12:34:57.230Z"
   },
   {
    "duration": 87,
    "start_time": "2025-02-05T12:34:57.236Z"
   },
   {
    "duration": 8,
    "start_time": "2025-02-05T12:34:57.326Z"
   },
   {
    "duration": 5,
    "start_time": "2025-02-05T12:46:30.263Z"
   },
   {
    "duration": 3,
    "start_time": "2025-02-05T12:57:50.834Z"
   },
   {
    "duration": 10,
    "start_time": "2025-02-05T12:57:50.839Z"
   },
   {
    "duration": 3,
    "start_time": "2025-02-05T12:57:50.851Z"
   },
   {
    "duration": 7,
    "start_time": "2025-02-05T12:57:50.856Z"
   },
   {
    "duration": 8,
    "start_time": "2025-02-05T12:57:50.865Z"
   },
   {
    "duration": 3,
    "start_time": "2025-02-05T12:57:50.875Z"
   },
   {
    "duration": 8,
    "start_time": "2025-02-05T12:57:50.880Z"
   },
   {
    "duration": 34,
    "start_time": "2025-02-05T12:57:50.889Z"
   },
   {
    "duration": 723,
    "start_time": "2025-02-05T12:57:50.924Z"
   },
   {
    "duration": 5,
    "start_time": "2025-02-05T12:57:51.649Z"
   },
   {
    "duration": 2613,
    "start_time": "2025-02-05T12:57:51.658Z"
   },
   {
    "duration": 3,
    "start_time": "2025-02-05T12:57:54.273Z"
   },
   {
    "duration": 4,
    "start_time": "2025-02-05T12:57:54.277Z"
   },
   {
    "duration": 26,
    "start_time": "2025-02-05T12:57:54.283Z"
   },
   {
    "duration": 7,
    "start_time": "2025-02-05T12:57:54.311Z"
   },
   {
    "duration": 2,
    "start_time": "2025-02-05T12:57:54.320Z"
   },
   {
    "duration": 59,
    "start_time": "2025-02-05T12:57:54.324Z"
   },
   {
    "duration": 78,
    "start_time": "2025-02-05T12:57:54.385Z"
   },
   {
    "duration": 5,
    "start_time": "2025-02-05T12:57:54.465Z"
   },
   {
    "duration": 6,
    "start_time": "2025-02-05T12:57:54.472Z"
   },
   {
    "duration": 31,
    "start_time": "2025-02-05T12:57:54.480Z"
   },
   {
    "duration": 4,
    "start_time": "2025-02-05T12:57:54.512Z"
   },
   {
    "duration": 20,
    "start_time": "2025-02-05T12:57:54.517Z"
   },
   {
    "duration": 7,
    "start_time": "2025-02-05T12:57:54.539Z"
   },
   {
    "duration": 333,
    "start_time": "2025-02-05T12:57:54.547Z"
   },
   {
    "duration": 353,
    "start_time": "2025-02-05T12:57:54.882Z"
   },
   {
    "duration": 93,
    "start_time": "2025-02-05T12:57:55.236Z"
   },
   {
    "duration": 6,
    "start_time": "2025-02-05T12:57:55.330Z"
   },
   {
    "duration": 3,
    "start_time": "2025-02-05T12:57:55.340Z"
   },
   {
    "duration": 7,
    "start_time": "2025-02-05T12:57:55.344Z"
   },
   {
    "duration": 56,
    "start_time": "2025-02-05T12:57:55.353Z"
   },
   {
    "duration": 14,
    "start_time": "2025-02-05T12:57:55.411Z"
   },
   {
    "duration": 4,
    "start_time": "2025-02-05T12:57:55.426Z"
   },
   {
    "duration": 77,
    "start_time": "2025-02-05T12:57:55.432Z"
   },
   {
    "duration": 3,
    "start_time": "2025-02-05T12:57:55.511Z"
   },
   {
    "duration": 7,
    "start_time": "2025-02-05T12:57:55.516Z"
   },
   {
    "duration": 96,
    "start_time": "2025-02-05T12:57:55.525Z"
   },
   {
    "duration": 4,
    "start_time": "2025-02-05T12:57:55.622Z"
   },
   {
    "duration": 17,
    "start_time": "2025-02-05T12:57:55.628Z"
   },
   {
    "duration": 64,
    "start_time": "2025-02-05T12:57:55.647Z"
   },
   {
    "duration": 2683,
    "start_time": "2025-02-06T03:09:12.419Z"
   },
   {
    "duration": 14,
    "start_time": "2025-02-06T03:09:15.104Z"
   },
   {
    "duration": 4,
    "start_time": "2025-02-06T03:09:15.119Z"
   },
   {
    "duration": 10,
    "start_time": "2025-02-06T03:09:15.125Z"
   },
   {
    "duration": 8,
    "start_time": "2025-02-06T03:09:15.143Z"
   },
   {
    "duration": 4,
    "start_time": "2025-02-06T03:09:15.153Z"
   },
   {
    "duration": 8,
    "start_time": "2025-02-06T03:09:15.159Z"
   },
   {
    "duration": 25,
    "start_time": "2025-02-06T03:09:15.168Z"
   },
   {
    "duration": 747,
    "start_time": "2025-02-06T03:09:15.195Z"
   },
   {
    "duration": 5,
    "start_time": "2025-02-06T03:09:15.945Z"
   },
   {
    "duration": 2579,
    "start_time": "2025-02-06T03:09:15.952Z"
   },
   {
    "duration": 3,
    "start_time": "2025-02-06T03:09:18.534Z"
   },
   {
    "duration": 4,
    "start_time": "2025-02-06T03:09:18.539Z"
   },
   {
    "duration": 9,
    "start_time": "2025-02-06T03:09:18.547Z"
   },
   {
    "duration": 7,
    "start_time": "2025-02-06T03:09:18.558Z"
   },
   {
    "duration": 3,
    "start_time": "2025-02-06T03:09:18.567Z"
   },
   {
    "duration": 87,
    "start_time": "2025-02-06T03:09:18.572Z"
   },
   {
    "duration": 62,
    "start_time": "2025-02-06T03:09:18.661Z"
   },
   {
    "duration": 21,
    "start_time": "2025-02-06T03:09:18.724Z"
   },
   {
    "duration": 7,
    "start_time": "2025-02-06T03:09:18.747Z"
   },
   {
    "duration": 3,
    "start_time": "2025-02-06T03:09:18.755Z"
   },
   {
    "duration": 3,
    "start_time": "2025-02-06T03:09:18.760Z"
   },
   {
    "duration": 21,
    "start_time": "2025-02-06T03:09:18.764Z"
   },
   {
    "duration": 8,
    "start_time": "2025-02-06T03:09:18.787Z"
   },
   {
    "duration": 322,
    "start_time": "2025-02-06T03:09:18.797Z"
   },
   {
    "duration": 428,
    "start_time": "2025-02-06T03:09:19.122Z"
   },
   {
    "duration": 73,
    "start_time": "2025-02-06T03:09:19.552Z"
   },
   {
    "duration": 4,
    "start_time": "2025-02-06T03:09:19.627Z"
   },
   {
    "duration": 14,
    "start_time": "2025-02-06T03:09:19.632Z"
   },
   {
    "duration": 7,
    "start_time": "2025-02-06T03:09:19.648Z"
   },
   {
    "duration": 7,
    "start_time": "2025-02-06T03:09:19.656Z"
   },
   {
    "duration": 77,
    "start_time": "2025-02-06T03:09:19.665Z"
   },
   {
    "duration": 3,
    "start_time": "2025-02-06T03:09:19.744Z"
   },
   {
    "duration": 3,
    "start_time": "2025-02-06T03:09:19.749Z"
   },
   {
    "duration": 3,
    "start_time": "2025-02-06T03:09:19.754Z"
   },
   {
    "duration": 6,
    "start_time": "2025-02-06T03:09:19.759Z"
   },
   {
    "duration": 23,
    "start_time": "2025-02-06T03:09:19.844Z"
   },
   {
    "duration": 74,
    "start_time": "2025-02-06T03:09:19.869Z"
   },
   {
    "duration": 19,
    "start_time": "2025-02-06T03:09:19.944Z"
   },
   {
    "duration": 9,
    "start_time": "2025-02-06T03:09:19.964Z"
   },
   {
    "duration": 231,
    "start_time": "2025-02-06T03:12:13.493Z"
   },
   {
    "duration": 7,
    "start_time": "2025-02-06T03:18:09.187Z"
   },
   {
    "duration": 4,
    "start_time": "2025-02-06T03:18:29.307Z"
   },
   {
    "duration": 5,
    "start_time": "2025-02-06T03:24:16.635Z"
   },
   {
    "duration": 3,
    "start_time": "2025-02-06T03:47:29.442Z"
   },
   {
    "duration": 8,
    "start_time": "2025-02-06T03:47:32.952Z"
   },
   {
    "duration": 13,
    "start_time": "2025-02-06T03:47:37.154Z"
   },
   {
    "duration": 3,
    "start_time": "2025-02-06T03:47:40.144Z"
   },
   {
    "duration": 3,
    "start_time": "2025-02-06T03:47:54.601Z"
   },
   {
    "duration": 4,
    "start_time": "2025-02-06T03:48:09.067Z"
   },
   {
    "duration": 4,
    "start_time": "2025-02-06T03:48:13.718Z"
   },
   {
    "duration": 172,
    "start_time": "2025-02-06T03:48:53.793Z"
   },
   {
    "duration": 25,
    "start_time": "2025-02-06T03:50:25.185Z"
   },
   {
    "duration": 7,
    "start_time": "2025-02-06T03:50:29.659Z"
   },
   {
    "duration": 10,
    "start_time": "2025-02-06T09:30:48.263Z"
   },
   {
    "duration": 164,
    "start_time": "2025-02-06T09:30:57.860Z"
   },
   {
    "duration": 2627,
    "start_time": "2025-02-06T09:31:18.832Z"
   },
   {
    "duration": 72,
    "start_time": "2025-02-06T09:31:21.461Z"
   },
   {
    "duration": 3,
    "start_time": "2025-02-06T09:31:21.535Z"
   },
   {
    "duration": 11,
    "start_time": "2025-02-06T09:31:21.540Z"
   },
   {
    "duration": 9,
    "start_time": "2025-02-06T09:31:21.552Z"
   },
   {
    "duration": 5,
    "start_time": "2025-02-06T09:31:21.562Z"
   },
   {
    "duration": 7,
    "start_time": "2025-02-06T09:31:21.569Z"
   },
   {
    "duration": 47,
    "start_time": "2025-02-06T09:31:21.578Z"
   },
   {
    "duration": 663,
    "start_time": "2025-02-06T09:31:21.626Z"
   },
   {
    "duration": 5,
    "start_time": "2025-02-06T09:31:22.292Z"
   },
   {
    "duration": 2552,
    "start_time": "2025-02-06T09:31:22.298Z"
   },
   {
    "duration": 3,
    "start_time": "2025-02-06T09:31:24.851Z"
   },
   {
    "duration": 4,
    "start_time": "2025-02-06T09:31:24.856Z"
   },
   {
    "duration": 9,
    "start_time": "2025-02-06T09:31:24.862Z"
   },
   {
    "duration": 8,
    "start_time": "2025-02-06T09:31:24.872Z"
   },
   {
    "duration": 2,
    "start_time": "2025-02-06T09:31:24.881Z"
   },
   {
    "duration": 74,
    "start_time": "2025-02-06T09:31:24.885Z"
   },
   {
    "duration": 78,
    "start_time": "2025-02-06T09:31:24.960Z"
   },
   {
    "duration": 4,
    "start_time": "2025-02-06T09:31:25.040Z"
   },
   {
    "duration": 7,
    "start_time": "2025-02-06T09:31:25.046Z"
   },
   {
    "duration": 4,
    "start_time": "2025-02-06T09:31:25.054Z"
   },
   {
    "duration": 3,
    "start_time": "2025-02-06T09:31:25.059Z"
   },
   {
    "duration": 48,
    "start_time": "2025-02-06T09:31:25.064Z"
   },
   {
    "duration": 8,
    "start_time": "2025-02-06T09:31:25.113Z"
   },
   {
    "duration": 297,
    "start_time": "2025-02-06T09:31:25.123Z"
   },
   {
    "duration": 400,
    "start_time": "2025-02-06T09:31:25.421Z"
   },
   {
    "duration": 73,
    "start_time": "2025-02-06T09:31:25.823Z"
   },
   {
    "duration": 3,
    "start_time": "2025-02-06T09:31:25.910Z"
   },
   {
    "duration": 3,
    "start_time": "2025-02-06T09:31:25.915Z"
   },
   {
    "duration": 9,
    "start_time": "2025-02-06T09:31:25.920Z"
   },
   {
    "duration": 8,
    "start_time": "2025-02-06T09:31:25.930Z"
   },
   {
    "duration": 76,
    "start_time": "2025-02-06T09:31:25.940Z"
   },
   {
    "duration": 3,
    "start_time": "2025-02-06T09:31:26.018Z"
   },
   {
    "duration": 3,
    "start_time": "2025-02-06T09:31:26.022Z"
   },
   {
    "duration": 2,
    "start_time": "2025-02-06T09:31:26.027Z"
   },
   {
    "duration": 81,
    "start_time": "2025-02-06T09:31:26.031Z"
   },
   {
    "duration": 103,
    "start_time": "2025-02-06T09:31:26.114Z"
   },
   {
    "duration": 4,
    "start_time": "2025-02-06T09:31:26.219Z"
   },
   {
    "duration": 18,
    "start_time": "2025-02-06T09:31:26.224Z"
   },
   {
    "duration": 8,
    "start_time": "2025-02-06T09:31:26.243Z"
   },
   {
    "duration": 4,
    "start_time": "2025-02-06T09:31:30.533Z"
   },
   {
    "duration": 3,
    "start_time": "2025-02-06T09:31:55.464Z"
   },
   {
    "duration": 3,
    "start_time": "2025-02-06T09:32:06.713Z"
   },
   {
    "duration": 8,
    "start_time": "2025-02-06T09:32:20.821Z"
   },
   {
    "duration": 4,
    "start_time": "2025-02-06T09:32:27.134Z"
   },
   {
    "duration": 4,
    "start_time": "2025-02-06T09:32:29.135Z"
   },
   {
    "duration": 4,
    "start_time": "2025-02-06T09:34:09.766Z"
   },
   {
    "duration": 0,
    "start_time": "2025-02-06T09:35:06.673Z"
   },
   {
    "duration": 4,
    "start_time": "2025-02-06T09:35:17.844Z"
   },
   {
    "duration": 4,
    "start_time": "2025-02-06T09:35:22.844Z"
   },
   {
    "duration": 10360,
    "start_time": "2025-02-06T09:35:41.974Z"
   },
   {
    "duration": 7,
    "start_time": "2025-02-06T09:36:10.607Z"
   },
   {
    "duration": 6,
    "start_time": "2025-02-06T09:36:25.040Z"
   },
   {
    "duration": 8,
    "start_time": "2025-02-06T09:37:24.765Z"
   },
   {
    "duration": 7,
    "start_time": "2025-02-06T09:37:40.278Z"
   },
   {
    "duration": 8,
    "start_time": "2025-02-06T09:37:47.014Z"
   },
   {
    "duration": 8,
    "start_time": "2025-02-06T09:37:55.748Z"
   },
   {
    "duration": 11,
    "start_time": "2025-02-06T09:38:00.422Z"
   },
   {
    "duration": 7,
    "start_time": "2025-02-06T09:38:03.100Z"
   },
   {
    "duration": 10102,
    "start_time": "2025-02-06T09:38:56.134Z"
   },
   {
    "duration": 5,
    "start_time": "2025-02-06T09:39:15.084Z"
   },
   {
    "duration": 5,
    "start_time": "2025-02-06T09:39:26.795Z"
   },
   {
    "duration": 4,
    "start_time": "2025-02-06T09:40:01.804Z"
   },
   {
    "duration": 5,
    "start_time": "2025-02-06T09:40:19.133Z"
   },
   {
    "duration": 4,
    "start_time": "2025-02-06T09:40:24.635Z"
   },
   {
    "duration": 9,
    "start_time": "2025-02-06T09:40:27.436Z"
   },
   {
    "duration": 5,
    "start_time": "2025-02-06T09:40:30.076Z"
   },
   {
    "duration": 5,
    "start_time": "2025-02-06T09:40:32.499Z"
   },
   {
    "duration": 5,
    "start_time": "2025-02-06T09:49:06.257Z"
   },
   {
    "duration": 7,
    "start_time": "2025-02-06T09:49:07.464Z"
   },
   {
    "duration": 36,
    "start_time": "2025-02-06T09:51:16.881Z"
   },
   {
    "duration": 9,
    "start_time": "2025-02-06T09:53:32.929Z"
   },
   {
    "duration": 4,
    "start_time": "2025-02-06T09:54:31.306Z"
   },
   {
    "duration": 4,
    "start_time": "2025-02-06T09:54:39.593Z"
   },
   {
    "duration": 3,
    "start_time": "2025-02-06T09:54:52.824Z"
   },
   {
    "duration": 29,
    "start_time": "2025-02-06T09:54:57.944Z"
   },
   {
    "duration": 3,
    "start_time": "2025-02-06T09:55:01.377Z"
   },
   {
    "duration": 9,
    "start_time": "2025-02-06T09:55:59.441Z"
   },
   {
    "duration": 2,
    "start_time": "2025-02-06T09:56:21.677Z"
   },
   {
    "duration": 35,
    "start_time": "2025-02-06T09:56:27.575Z"
   },
   {
    "duration": 5,
    "start_time": "2025-02-06T10:10:21.307Z"
   },
   {
    "duration": 33,
    "start_time": "2025-02-06T10:10:22.883Z"
   },
   {
    "duration": 51,
    "start_time": "2025-02-06T10:11:03.059Z"
   },
   {
    "duration": 84,
    "start_time": "2025-02-06T10:11:06.227Z"
   },
   {
    "duration": 7,
    "start_time": "2025-02-06T10:11:11.412Z"
   },
   {
    "duration": 54,
    "start_time": "2025-02-06T10:11:14.858Z"
   },
   {
    "duration": 123,
    "start_time": "2025-02-06T10:11:16.794Z"
   },
   {
    "duration": 53,
    "start_time": "2025-02-06T10:11:19.259Z"
   },
   {
    "duration": 6,
    "start_time": "2025-02-06T10:24:39.360Z"
   },
   {
    "duration": 7,
    "start_time": "2025-02-06T10:24:39.848Z"
   },
   {
    "duration": 8,
    "start_time": "2025-02-06T10:24:40.493Z"
   },
   {
    "duration": 9,
    "start_time": "2025-02-06T10:25:42.406Z"
   },
   {
    "duration": 8,
    "start_time": "2025-02-06T10:26:36.654Z"
   },
   {
    "duration": 6,
    "start_time": "2025-02-06T10:27:12.193Z"
   },
   {
    "duration": 8,
    "start_time": "2025-02-06T10:27:37.101Z"
   },
   {
    "duration": 9,
    "start_time": "2025-02-06T10:29:22.342Z"
   },
   {
    "duration": 16,
    "start_time": "2025-02-06T10:35:31.413Z"
   },
   {
    "duration": 578,
    "start_time": "2025-02-06T10:35:41.652Z"
   },
   {
    "duration": 24,
    "start_time": "2025-02-06T10:36:02.005Z"
   },
   {
    "duration": 18,
    "start_time": "2025-02-06T10:36:53.589Z"
   },
   {
    "duration": 20,
    "start_time": "2025-02-06T10:37:16.332Z"
   },
   {
    "duration": 22,
    "start_time": "2025-02-06T10:37:50.675Z"
   },
   {
    "duration": 6,
    "start_time": "2025-02-06T10:43:19.379Z"
   },
   {
    "duration": 6,
    "start_time": "2025-02-06T10:43:58.947Z"
   },
   {
    "duration": 93,
    "start_time": "2025-02-06T10:44:12.716Z"
   },
   {
    "duration": 27,
    "start_time": "2025-02-06T10:44:29.010Z"
   },
   {
    "duration": 25,
    "start_time": "2025-02-06T10:44:41.874Z"
   },
   {
    "duration": 58,
    "start_time": "2025-02-06T10:46:21.451Z"
   },
   {
    "duration": 30,
    "start_time": "2025-02-06T10:47:28.280Z"
   },
   {
    "duration": 30,
    "start_time": "2025-02-06T10:48:14.587Z"
   },
   {
    "duration": 94,
    "start_time": "2025-02-06T10:51:55.816Z"
   },
   {
    "duration": 55,
    "start_time": "2025-02-06T10:52:31.855Z"
   },
   {
    "duration": 92,
    "start_time": "2025-02-06T10:54:15.321Z"
   },
   {
    "duration": 993,
    "start_time": "2025-02-06T11:00:38.484Z"
   },
   {
    "duration": 8,
    "start_time": "2025-02-06T11:00:39.479Z"
   },
   {
    "duration": 3,
    "start_time": "2025-02-06T11:00:39.490Z"
   },
   {
    "duration": 19,
    "start_time": "2025-02-06T11:00:39.494Z"
   },
   {
    "duration": 9,
    "start_time": "2025-02-06T11:00:39.516Z"
   },
   {
    "duration": 4,
    "start_time": "2025-02-06T11:00:39.526Z"
   },
   {
    "duration": 7,
    "start_time": "2025-02-06T11:00:39.532Z"
   },
   {
    "duration": 17,
    "start_time": "2025-02-06T11:00:39.542Z"
   },
   {
    "duration": 691,
    "start_time": "2025-02-06T11:00:39.561Z"
   },
   {
    "duration": 4,
    "start_time": "2025-02-06T11:00:40.254Z"
   },
   {
    "duration": 2522,
    "start_time": "2025-02-06T11:00:40.260Z"
   },
   {
    "duration": 3,
    "start_time": "2025-02-06T11:00:42.784Z"
   },
   {
    "duration": 4,
    "start_time": "2025-02-06T11:00:42.789Z"
   },
   {
    "duration": 8,
    "start_time": "2025-02-06T11:00:42.797Z"
   },
   {
    "duration": 10,
    "start_time": "2025-02-06T11:00:42.808Z"
   },
   {
    "duration": 2,
    "start_time": "2025-02-06T11:00:42.819Z"
   },
   {
    "duration": 60,
    "start_time": "2025-02-06T11:00:42.823Z"
   },
   {
    "duration": 83,
    "start_time": "2025-02-06T11:00:42.884Z"
   },
   {
    "duration": 5,
    "start_time": "2025-02-06T11:00:42.969Z"
   },
   {
    "duration": 36,
    "start_time": "2025-02-06T11:00:42.975Z"
   },
   {
    "duration": 2,
    "start_time": "2025-02-06T11:00:43.013Z"
   },
   {
    "duration": 3,
    "start_time": "2025-02-06T11:00:43.017Z"
   },
   {
    "duration": 21,
    "start_time": "2025-02-06T11:00:43.021Z"
   },
   {
    "duration": 9,
    "start_time": "2025-02-06T11:00:43.043Z"
   },
   {
    "duration": 305,
    "start_time": "2025-02-06T11:00:43.053Z"
   },
   {
    "duration": 377,
    "start_time": "2025-02-06T11:00:43.360Z"
   },
   {
    "duration": 93,
    "start_time": "2025-02-06T11:00:43.739Z"
   },
   {
    "duration": 4,
    "start_time": "2025-02-06T11:00:43.834Z"
   },
   {
    "duration": 3,
    "start_time": "2025-02-06T11:00:43.840Z"
   },
   {
    "duration": 8,
    "start_time": "2025-02-06T11:00:43.845Z"
   },
   {
    "duration": 7,
    "start_time": "2025-02-06T11:00:43.854Z"
   },
   {
    "duration": 9,
    "start_time": "2025-02-06T11:00:43.910Z"
   },
   {
    "duration": 4,
    "start_time": "2025-02-06T11:00:43.921Z"
   },
   {
    "duration": 2,
    "start_time": "2025-02-06T11:00:43.928Z"
   },
   {
    "duration": 78,
    "start_time": "2025-02-06T11:00:43.932Z"
   },
   {
    "duration": 6,
    "start_time": "2025-02-06T11:00:44.012Z"
   },
   {
    "duration": 95,
    "start_time": "2025-02-06T11:00:44.021Z"
   },
   {
    "duration": 5,
    "start_time": "2025-02-06T11:00:44.118Z"
   },
   {
    "duration": 18,
    "start_time": "2025-02-06T11:00:44.124Z"
   },
   {
    "duration": 8,
    "start_time": "2025-02-06T11:00:44.144Z"
   },
   {
    "duration": 5,
    "start_time": "2025-02-06T11:00:44.208Z"
   },
   {
    "duration": 24,
    "start_time": "2025-02-06T11:00:44.214Z"
   },
   {
    "duration": 167860,
    "start_time": "2025-02-06T11:29:19.249Z"
   },
   {
    "duration": 2873,
    "start_time": "2025-02-06T11:33:00.592Z"
   },
   {
    "duration": 4,
    "start_time": "2025-02-06T11:33:50.778Z"
   },
   {
    "duration": 1007,
    "start_time": "2025-02-06T11:40:24.479Z"
   },
   {
    "duration": 8,
    "start_time": "2025-02-06T11:40:25.488Z"
   },
   {
    "duration": 3,
    "start_time": "2025-02-06T11:40:25.498Z"
   },
   {
    "duration": 12,
    "start_time": "2025-02-06T11:40:25.509Z"
   },
   {
    "duration": 9,
    "start_time": "2025-02-06T11:40:25.522Z"
   },
   {
    "duration": 4,
    "start_time": "2025-02-06T11:40:25.533Z"
   },
   {
    "duration": 8,
    "start_time": "2025-02-06T11:40:25.538Z"
   },
   {
    "duration": 17,
    "start_time": "2025-02-06T11:40:25.548Z"
   },
   {
    "duration": 693,
    "start_time": "2025-02-06T11:40:25.567Z"
   },
   {
    "duration": 5,
    "start_time": "2025-02-06T11:40:26.264Z"
   },
   {
    "duration": 2568,
    "start_time": "2025-02-06T11:40:26.270Z"
   },
   {
    "duration": 3,
    "start_time": "2025-02-06T11:40:28.840Z"
   },
   {
    "duration": 4,
    "start_time": "2025-02-06T11:40:28.844Z"
   },
   {
    "duration": 9,
    "start_time": "2025-02-06T11:40:28.850Z"
   },
   {
    "duration": 8,
    "start_time": "2025-02-06T11:40:28.860Z"
   },
   {
    "duration": 67,
    "start_time": "2025-02-06T11:40:28.869Z"
   },
   {
    "duration": 76,
    "start_time": "2025-02-06T11:40:28.938Z"
   },
   {
    "duration": 6,
    "start_time": "2025-02-06T11:40:29.018Z"
   },
   {
    "duration": 8,
    "start_time": "2025-02-06T11:40:29.025Z"
   },
   {
    "duration": 3,
    "start_time": "2025-02-06T11:40:29.034Z"
   },
   {
    "duration": 3,
    "start_time": "2025-02-06T11:40:29.038Z"
   },
   {
    "duration": 19,
    "start_time": "2025-02-06T11:40:29.043Z"
   },
   {
    "duration": 9,
    "start_time": "2025-02-06T11:40:29.065Z"
   },
   {
    "duration": 307,
    "start_time": "2025-02-06T11:40:29.109Z"
   },
   {
    "duration": 381,
    "start_time": "2025-02-06T11:40:29.418Z"
   },
   {
    "duration": 83,
    "start_time": "2025-02-06T11:40:29.801Z"
   },
   {
    "duration": 4,
    "start_time": "2025-02-06T11:40:29.886Z"
   },
   {
    "duration": 5,
    "start_time": "2025-02-06T11:40:29.910Z"
   },
   {
    "duration": 6,
    "start_time": "2025-02-06T11:40:29.918Z"
   },
   {
    "duration": 6,
    "start_time": "2025-02-06T11:40:29.926Z"
   },
   {
    "duration": 9,
    "start_time": "2025-02-06T11:40:29.934Z"
   },
   {
    "duration": 3,
    "start_time": "2025-02-06T11:40:30.009Z"
   },
   {
    "duration": 3,
    "start_time": "2025-02-06T11:40:30.014Z"
   },
   {
    "duration": 3,
    "start_time": "2025-02-06T11:40:30.018Z"
   },
   {
    "duration": 6,
    "start_time": "2025-02-06T11:40:30.023Z"
   },
   {
    "duration": 94,
    "start_time": "2025-02-06T11:40:30.031Z"
   },
   {
    "duration": 5,
    "start_time": "2025-02-06T11:40:30.127Z"
   },
   {
    "duration": 92,
    "start_time": "2025-02-06T11:40:30.134Z"
   },
   {
    "duration": 8,
    "start_time": "2025-02-06T11:40:30.228Z"
   },
   {
    "duration": 5,
    "start_time": "2025-02-06T11:40:30.237Z"
   },
   {
    "duration": 80,
    "start_time": "2025-02-06T11:40:30.244Z"
   },
   {
    "duration": 2719,
    "start_time": "2025-02-07T03:17:59.054Z"
   },
   {
    "duration": 13,
    "start_time": "2025-02-07T03:18:01.775Z"
   },
   {
    "duration": 3,
    "start_time": "2025-02-07T03:18:01.789Z"
   },
   {
    "duration": 17,
    "start_time": "2025-02-07T03:18:01.795Z"
   },
   {
    "duration": 8,
    "start_time": "2025-02-07T03:18:01.813Z"
   },
   {
    "duration": 5,
    "start_time": "2025-02-07T03:18:01.823Z"
   },
   {
    "duration": 9,
    "start_time": "2025-02-07T03:18:01.829Z"
   },
   {
    "duration": 18,
    "start_time": "2025-02-07T03:18:01.839Z"
   },
   {
    "duration": 721,
    "start_time": "2025-02-07T03:18:01.858Z"
   },
   {
    "duration": 5,
    "start_time": "2025-02-07T03:18:02.582Z"
   },
   {
    "duration": 2644,
    "start_time": "2025-02-07T03:18:02.588Z"
   },
   {
    "duration": 3,
    "start_time": "2025-02-07T03:18:05.234Z"
   },
   {
    "duration": 4,
    "start_time": "2025-02-07T03:18:05.238Z"
   },
   {
    "duration": 9,
    "start_time": "2025-02-07T03:18:05.244Z"
   },
   {
    "duration": 9,
    "start_time": "2025-02-07T03:18:05.254Z"
   },
   {
    "duration": 74,
    "start_time": "2025-02-07T03:18:05.264Z"
   },
   {
    "duration": 75,
    "start_time": "2025-02-07T03:18:05.339Z"
   },
   {
    "duration": 5,
    "start_time": "2025-02-07T03:18:05.416Z"
   },
   {
    "duration": 7,
    "start_time": "2025-02-07T03:18:05.423Z"
   },
   {
    "duration": 3,
    "start_time": "2025-02-07T03:18:05.433Z"
   },
   {
    "duration": 3,
    "start_time": "2025-02-07T03:18:05.438Z"
   },
   {
    "duration": 18,
    "start_time": "2025-02-07T03:18:05.443Z"
   },
   {
    "duration": 7,
    "start_time": "2025-02-07T03:18:05.463Z"
   },
   {
    "duration": 348,
    "start_time": "2025-02-07T03:18:05.472Z"
   },
   {
    "duration": 380,
    "start_time": "2025-02-07T03:18:05.823Z"
   },
   {
    "duration": 77,
    "start_time": "2025-02-07T03:18:06.211Z"
   },
   {
    "duration": 4,
    "start_time": "2025-02-07T03:18:06.290Z"
   },
   {
    "duration": 4,
    "start_time": "2025-02-07T03:18:06.312Z"
   },
   {
    "duration": 7,
    "start_time": "2025-02-07T03:18:06.317Z"
   },
   {
    "duration": 6,
    "start_time": "2025-02-07T03:18:06.325Z"
   },
   {
    "duration": 9,
    "start_time": "2025-02-07T03:18:06.333Z"
   },
   {
    "duration": 3,
    "start_time": "2025-02-07T03:18:06.411Z"
   },
   {
    "duration": 3,
    "start_time": "2025-02-07T03:18:06.416Z"
   },
   {
    "duration": 3,
    "start_time": "2025-02-07T03:18:06.420Z"
   },
   {
    "duration": 4,
    "start_time": "2025-02-07T03:18:06.425Z"
   },
   {
    "duration": 99,
    "start_time": "2025-02-07T03:18:06.431Z"
   },
   {
    "duration": 4,
    "start_time": "2025-02-07T03:18:06.532Z"
   },
   {
    "duration": 88,
    "start_time": "2025-02-07T03:18:06.538Z"
   },
   {
    "duration": 8,
    "start_time": "2025-02-07T03:18:06.628Z"
   },
   {
    "duration": 5,
    "start_time": "2025-02-07T03:18:06.637Z"
   },
   {
    "duration": 77,
    "start_time": "2025-02-07T03:18:06.643Z"
   },
   {
    "duration": 977,
    "start_time": "2025-02-07T03:36:31.910Z"
   },
   {
    "duration": 7,
    "start_time": "2025-02-07T03:36:32.889Z"
   },
   {
    "duration": 3,
    "start_time": "2025-02-07T03:36:32.897Z"
   },
   {
    "duration": 11,
    "start_time": "2025-02-07T03:36:32.911Z"
   },
   {
    "duration": 8,
    "start_time": "2025-02-07T03:36:32.924Z"
   },
   {
    "duration": 4,
    "start_time": "2025-02-07T03:36:32.934Z"
   },
   {
    "duration": 8,
    "start_time": "2025-02-07T03:36:32.940Z"
   },
   {
    "duration": 20,
    "start_time": "2025-02-07T03:36:32.949Z"
   },
   {
    "duration": 683,
    "start_time": "2025-02-07T03:36:32.970Z"
   },
   {
    "duration": 4,
    "start_time": "2025-02-07T03:36:33.657Z"
   },
   {
    "duration": 2586,
    "start_time": "2025-02-07T03:36:33.662Z"
   },
   {
    "duration": 2,
    "start_time": "2025-02-07T03:36:36.250Z"
   },
   {
    "duration": 4,
    "start_time": "2025-02-07T03:36:36.254Z"
   },
   {
    "duration": 8,
    "start_time": "2025-02-07T03:36:36.259Z"
   },
   {
    "duration": 8,
    "start_time": "2025-02-07T03:36:36.268Z"
   },
   {
    "duration": 64,
    "start_time": "2025-02-07T03:36:36.277Z"
   },
   {
    "duration": 78,
    "start_time": "2025-02-07T03:36:36.343Z"
   },
   {
    "duration": 5,
    "start_time": "2025-02-07T03:36:36.423Z"
   },
   {
    "duration": 7,
    "start_time": "2025-02-07T03:36:36.429Z"
   },
   {
    "duration": 3,
    "start_time": "2025-02-07T03:36:36.438Z"
   },
   {
    "duration": 3,
    "start_time": "2025-02-07T03:36:36.442Z"
   },
   {
    "duration": 20,
    "start_time": "2025-02-07T03:36:36.446Z"
   },
   {
    "duration": 8,
    "start_time": "2025-02-07T03:36:36.468Z"
   },
   {
    "duration": 336,
    "start_time": "2025-02-07T03:36:36.478Z"
   },
   {
    "duration": 363,
    "start_time": "2025-02-07T03:36:36.816Z"
   },
   {
    "duration": 92,
    "start_time": "2025-02-07T03:36:37.180Z"
   },
   {
    "duration": 4,
    "start_time": "2025-02-07T03:36:37.275Z"
   },
   {
    "duration": 6,
    "start_time": "2025-02-07T03:36:37.283Z"
   },
   {
    "duration": 22,
    "start_time": "2025-02-07T03:36:37.291Z"
   },
   {
    "duration": 11,
    "start_time": "2025-02-07T03:36:37.316Z"
   },
   {
    "duration": 84,
    "start_time": "2025-02-07T03:36:37.329Z"
   },
   {
    "duration": 6,
    "start_time": "2025-02-07T03:36:37.415Z"
   },
   {
    "duration": 3,
    "start_time": "2025-02-07T03:36:37.425Z"
   },
   {
    "duration": 3,
    "start_time": "2025-02-07T03:36:37.430Z"
   },
   {
    "duration": 6,
    "start_time": "2025-02-07T03:36:37.434Z"
   },
   {
    "duration": 93,
    "start_time": "2025-02-07T03:36:37.441Z"
   },
   {
    "duration": 4,
    "start_time": "2025-02-07T03:36:37.611Z"
   },
   {
    "duration": 18,
    "start_time": "2025-02-07T03:36:37.617Z"
   },
   {
    "duration": 8,
    "start_time": "2025-02-07T03:36:37.637Z"
   },
   {
    "duration": 5,
    "start_time": "2025-02-07T03:36:37.646Z"
   },
   {
    "duration": 71,
    "start_time": "2025-02-07T03:36:37.652Z"
   }
  ],
  "kernelspec": {
   "display_name": "Python 3 (ipykernel)",
   "language": "python",
   "name": "python3"
  },
  "language_info": {
   "codemirror_mode": {
    "name": "ipython",
    "version": 3
   },
   "file_extension": ".py",
   "mimetype": "text/x-python",
   "name": "python",
   "nbconvert_exporter": "python",
   "pygments_lexer": "ipython3",
   "version": "3.9.19"
  },
  "toc": {
   "base_numbering": 1,
   "nav_menu": {},
   "number_sections": true,
   "sideBar": true,
   "skip_h1_title": true,
   "title_cell": "Table of Contents",
   "title_sidebar": "Contents",
   "toc_cell": false,
   "toc_position": {},
   "toc_section_display": true,
   "toc_window_display": false
  }
 },
 "nbformat": 4,
 "nbformat_minor": 4
}
